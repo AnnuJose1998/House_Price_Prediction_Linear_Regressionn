{
 "cells": [
  {
   "cell_type": "markdown",
   "id": "0cf3eba8",
   "metadata": {},
   "source": [
    "# Write a program that prompts the user to enter their name and age, and then stores the information in variables. Finally, display a message with the user's name \n",
    "and the year they will turn 100 years old"
   ]
  },
  {
   "cell_type": "code",
   "execution_count": null,
   "id": "b3f87785",
   "metadata": {},
   "outputs": [],
   "source": [
    "name = input(\"Enter your name: \")\n",
    "age = int(input(\"Enter your age: \"))\n",
    "\n",
    "current_year = 2023\n",
    "year_of_100 = current_year + (100 - age)\n",
    "\n",
    "print(\"Hello,\", name + \"!\")\n",
    "print(\"You will turn 100 years old in the year\", year_of_100)"
   ]
  },
  {
   "cell_type": "markdown",
   "id": "a5d28a8b",
   "metadata": {},
   "source": [
    "# Given a list of integers, write a code snippet to find the maximum and minimum values in the list without using built-in functions like max() and min()."
   ]
  },
  {
   "cell_type": "code",
   "execution_count": 1,
   "id": "6b392302",
   "metadata": {},
   "outputs": [
    {
     "name": "stdout",
     "output_type": "stream",
     "text": [
      "Minimum value: 1\n",
      "Maximum value: 9\n"
     ]
    }
   ],
   "source": [
    "numbers = [5, 2, 8, 3, 9, 1]\n",
    "\n",
    "# Initialize min_value and max_value with the first element in the list\n",
    "min_value = numbers[0]\n",
    "max_value = numbers[0]\n",
    "\n",
    "# Iterate over the list and update min_value and max_value if necessary\n",
    "for num in numbers:\n",
    "    if num < min_value:\n",
    "        min_value = num\n",
    "    if num > max_value:\n",
    "        max_value = num\n",
    "\n",
    "print(\"Minimum value:\", min_value)\n",
    "print(\"Maximum value:\", max_value)"
   ]
  },
  {
   "cell_type": "markdown",
   "id": "77c6157f",
   "metadata": {},
   "source": [
    "# Write a program that takes a sentence as input and counts the number of occurrences of each word in the sentence. Store the word counts in a dictionary."
   ]
  },
  {
   "cell_type": "code",
   "execution_count": null,
   "id": "ebe9e9d3",
   "metadata": {},
   "outputs": [],
   "source": [
    "sentence = input(\"Enter a sentence: \")\n",
    "words = sentence.split()\n",
    "\n",
    "word_counts = {}\n",
    "for word in words:\n",
    "    if word in word_counts:\n",
    "        word_counts[word] += 1\n",
    "    else:\n",
    "        word_counts[word] = 1\n",
    "\n",
    "print(\"Word counts:\", word_counts)"
   ]
  },
  {
   "cell_type": "markdown",
   "id": "b26935bb",
   "metadata": {},
   "source": [
    "# Write a program that takes a temperature in Celsius as input and converts it to Fahrenheit using the formula F = C * 9/5 + 32."
   ]
  },
  {
   "cell_type": "code",
   "execution_count": null,
   "id": "529f08f9",
   "metadata": {},
   "outputs": [],
   "source": [
    "celsius = float(input(\"Enter temperature in Celsius: \"))\n",
    "fahrenheit = celsius * 9/5 + 32\n",
    "print(\"Temperature in Fahrenheit:\", fahrenheit)"
   ]
  },
  {
   "cell_type": "markdown",
   "id": "0a76cb5f",
   "metadata": {},
   "source": [
    "# Given a list of numbers [1, 2, 3, 4, 5], write a code snippet to calculate the sum of all the numbers."
   ]
  },
  {
   "cell_type": "code",
   "execution_count": null,
   "id": "7e725e75",
   "metadata": {},
   "outputs": [],
   "source": [
    "my_list = [1, 2, 3, 4, 5]\n",
    "sum_of_numbers = sum(my_list)\n",
    "print(sum_of_numbers)"
   ]
  },
  {
   "cell_type": "markdown",
   "id": "e540bd27",
   "metadata": {},
   "source": [
    "# Write a code snippet to concatenate two strings str1 and str2, and store the result in a variable called result."
   ]
  },
  {
   "cell_type": "code",
   "execution_count": null,
   "id": "d8c8f808",
   "metadata": {},
   "outputs": [],
   "source": [
    "str1 = \"Hello\"\n",
    "str2 = \"World\"\n",
    "result = str1 + \" \" + str2\n",
    "print(result)"
   ]
  },
  {
   "cell_type": "markdown",
   "id": "b9ac341b",
   "metadata": {},
   "source": [
    "# Given a list [1, 2, 3, 4, 5], write a code snippet to remove the element 3 from the list.\n"
   ]
  },
  {
   "cell_type": "code",
   "execution_count": null,
   "id": "c3a8a2a3",
   "metadata": {},
   "outputs": [],
   "source": [
    "my_list = [1, 2, 3, 4, 5]\n",
    "my_list.remove(3)\n",
    "print(my_list)"
   ]
  },
  {
   "cell_type": "markdown",
   "id": "a2bdc897",
   "metadata": {},
   "source": [
    "# Write a code snippet to calculate the area of a circle using the radius (r) stored in a variable."
   ]
  },
  {
   "cell_type": "code",
   "execution_count": null,
   "id": "1b6247f2",
   "metadata": {},
   "outputs": [],
   "source": [
    "name = \"John Doe\"\n",
    "last_name = name.split()[-1]\n",
    "print(last_name)"
   ]
  },
  {
   "cell_type": "markdown",
   "id": "a7e6fc98",
   "metadata": {},
   "source": [
    "# Given a string variable name with a value \"John Doe\", write a code snippet to extract and print the last name from the string.\n"
   ]
  },
  {
   "cell_type": "code",
   "execution_count": null,
   "id": "e1d24b35",
   "metadata": {},
   "outputs": [],
   "source": [
    "name = \"John Doe\"\n",
    "last_name = name.split()[-1]\n",
    "print(last_name)"
   ]
  },
  {
   "cell_type": "markdown",
   "id": "80d1e37b",
   "metadata": {},
   "source": [
    "# Write a code snippet to calculate the area of a circle using the radius (r) stored in a variable.\n"
   ]
  },
  {
   "cell_type": "code",
   "execution_count": null,
   "id": "b84f1029",
   "metadata": {},
   "outputs": [],
   "source": [
    "import math\n",
    "\n",
    "r = 5\n",
    "area = math.pi * r**2\n",
    "print(area)"
   ]
  },
  {
   "cell_type": "markdown",
   "id": "30d81d33",
   "metadata": {},
   "source": [
    "# Write a program to check whether a given number is even or odd using a conditional statement.\n"
   ]
  },
  {
   "cell_type": "code",
   "execution_count": null,
   "id": "f53f64ad",
   "metadata": {},
   "outputs": [],
   "source": [
    "number = 7\n",
    "if number % 2 == 0:\n",
    "    print(\"Even\")\n",
    "else:\n",
    "    print(\"Odd\")"
   ]
  },
  {
   "cell_type": "markdown",
   "id": "05dd4d4f",
   "metadata": {},
   "source": [
    "# Given a list [1, 2, 3, 4, 5], write a code snippet to remove the element 3 from the list."
   ]
  },
  {
   "cell_type": "code",
   "execution_count": null,
   "id": "6099a526",
   "metadata": {},
   "outputs": [],
   "source": [
    "my_list = [1, 2, 3, 4, 5]\n",
    "my_list.remove(3)\n",
    "print(my_list)"
   ]
  },
  {
   "cell_type": "markdown",
   "id": "23cc7e84",
   "metadata": {},
   "source": [
    "# Write a program that takes two integers as input and checks whether the first number is divisible by the second number without any remainder."
   ]
  },
  {
   "cell_type": "code",
   "execution_count": null,
   "id": "831a168b",
   "metadata": {},
   "outputs": [],
   "source": [
    "num1 = int(input(\"Enter the first number: \"))\n",
    "num2 = int(input(\"Enter the second number: \"))\n",
    "\n",
    "if num1 % num2 == 0:\n",
    "    print(\"Divisible without remainder\")\n",
    "else:\n",
    "    print(\"Not divisible without remainder\")"
   ]
  },
  {
   "cell_type": "markdown",
   "id": "8211013b",
   "metadata": {},
   "source": [
    "# Given a dictionary of student names and their corresponding scores, write a code snippet to find and print the name of the student with the highest score."
   ]
  },
  {
   "cell_type": "code",
   "execution_count": null,
   "id": "827c1da8",
   "metadata": {},
   "outputs": [],
   "source": [
    "scores = {\n",
    "    \"Alice\": 85,\n",
    "    \"Bob\": 92,\n",
    "    \"Charlie\": 78,\n",
    "    \"David\": 95\n",
    "}\n",
    "\n",
    "highest_score = max(scores.values())\n",
    "highest_score_students = [student for student, score in scores.items() if score == highest_score]\n",
    "print(\"Student(s) with the highest score:\", highest_score_students)"
   ]
  },
  {
   "cell_type": "markdown",
   "id": "79e7b415",
   "metadata": {},
   "source": [
    "# Write a program that prompts the user to enter a sentence and counts the number of vowels and consonants in the sentence. Store the counts in variables and display the results."
   ]
  },
  {
   "cell_type": "code",
   "execution_count": null,
   "id": "39f5ded7",
   "metadata": {},
   "outputs": [],
   "source": [
    "sentence = input(\"Enter a sentence: \").lower()\n",
    "vowels = 0\n",
    "consonants = 0\n",
    "\n",
    "for char in sentence:\n",
    "    if char.isalpha():\n",
    "        if char in \"aeiou\":\n",
    "            vowels += 1\n",
    "        else:\n",
    "            consonants += 1\n",
    "\n",
    "print(\"Number of vowels:\", vowels)\n",
    "print(\"Number of consonants:\", consonants)"
   ]
  },
  {
   "cell_type": "markdown",
   "id": "bf5c93bf",
   "metadata": {},
   "source": [
    "# Given a list of strings, write a code snippet to find the longest and shortest strings in the list and store them in variables.\n"
   ]
  },
  {
   "cell_type": "code",
   "execution_count": null,
   "id": "7e281763",
   "metadata": {},
   "outputs": [],
   "source": [
    "strings = [\"apple\", \"banana\", \"orange\", \"kiwi\", \"watermelon\"]\n",
    "longest_string = max(strings, key=len)\n",
    "shortest_string = min(strings, key=len)\n",
    "print(\"Longest string:\", longest_string)\n",
    "print(\"Shortest string:\", shortest_string)"
   ]
  },
  {
   "cell_type": "markdown",
   "id": "eb3a283f",
   "metadata": {},
   "source": [
    "# Write a program that generates a random password of length n, where n is provided by the user. The password should contain a mix of uppercase letters, lowercase letters, and digits."
   ]
  },
  {
   "cell_type": "code",
   "execution_count": null,
   "id": "db9e5db7",
   "metadata": {},
   "outputs": [],
   "source": [
    "import random\n",
    "import string\n",
    "\n",
    "length = int(input(\"Enter the length of the password: \"))\n",
    "\n",
    "password_characters = string.ascii_letters + string.digits\n",
    "password = ''.join(random.choice(password_characters) for _ in range(length))\n",
    "print(\"Generated password:\", password)"
   ]
  },
  {
   "cell_type": "markdown",
   "id": "8ca6aef5",
   "metadata": {},
   "source": [
    "# Given a list of integers, write a code snippet to calculate the average of the numbers and store it in a variable.\n"
   ]
  },
  {
   "cell_type": "code",
   "execution_count": null,
   "id": "5c7067cb",
   "metadata": {},
   "outputs": [],
   "source": [
    "numbers = [5, 8, 12, 4, 9]\n",
    "average = sum(numbers) / len(numbers)\n",
    "print(\"Average:\", average)"
   ]
  },
  {
   "cell_type": "markdown",
   "id": "dcd2c245",
   "metadata": {},
   "source": [
    "# Write a program that takes a sentence as input and reverses the order of the words in the sentence."
   ]
  },
  {
   "cell_type": "code",
   "execution_count": null,
   "id": "09c7472c",
   "metadata": {},
   "outputs": [],
   "source": [
    "sentence = input(\"Enter a sentence: \")\n",
    "reversed_sentence = ' '.join(sentence.split()[::-1])\n",
    "print(\"Reversed sentence:\", reversed_sentence)"
   ]
  },
  {
   "cell_type": "markdown",
   "id": "fb0650b9",
   "metadata": {},
   "source": [
    "# Given a list of integers, write a code snippet to remove any duplicates from the list and store the result in a new list."
   ]
  },
  {
   "cell_type": "code",
   "execution_count": null,
   "id": "b25c7eff",
   "metadata": {},
   "outputs": [],
   "source": [
    "numbers = [1, 2, 3, 2, 4, 5, 1, 6]\n",
    "unique_numbers = list(set(numbers))\n",
    "print(\"Unique numbers:\", unique_numbers)"
   ]
  },
  {
   "cell_type": "markdown",
   "id": "f70447a0",
   "metadata": {},
   "source": [
    "# Write a program that takes a list of strings as input and returns a new list with the strings sorted alphabetically in reverse order."
   ]
  },
  {
   "cell_type": "code",
   "execution_count": null,
   "id": "2b1567b7",
   "metadata": {},
   "outputs": [],
   "source": [
    "strings = ['apple', 'banana', 'cherry', 'date']\n",
    "sorted_strings = sorted(strings, reverse=True)\n",
    "print(sorted_strings)"
   ]
  },
  {
   "cell_type": "markdown",
   "id": "91289df0",
   "metadata": {},
   "source": [
    "# Given a list of dictionaries, where each dictionary represents a book with keys \"title\" and \"author\", write a code snippet to find and print the titles of all the books written by a specific author."
   ]
  },
  {
   "cell_type": "code",
   "execution_count": null,
   "id": "be7efbef",
   "metadata": {},
   "outputs": [],
   "source": [
    "books = [\n",
    "    {\"title\": \"Book 1\", \"author\": \"Author 1\"},\n",
    "    {\"title\": \"Book 2\", \"author\": \"Author 2\"},\n",
    "    {\"title\": \"Book 3\", \"author\": \"Author 1\"},\n",
    "    {\"title\": \"Book 4\", \"author\": \"Author 3\"}\n",
    "]\n",
    "\n",
    "author_to_search = \"Author 1\"\n",
    "books_by_author = [book[\"title\"] for book in books if book[\"author\"] == author_to_search]\n",
    "print(\"Books by\", author_to_search + \":\", books_by_author)"
   ]
  },
  {
   "cell_type": "markdown",
   "id": "d83331ab",
   "metadata": {},
   "source": [
    "# Write a program that prompts the user to enter a sentence and checks whether it is a palindrome (reads the same forwards and backwards) ignoring spaces and punctuation."
   ]
  },
  {
   "cell_type": "code",
   "execution_count": null,
   "id": "6489d854",
   "metadata": {},
   "outputs": [],
   "source": []
  },
  {
   "cell_type": "markdown",
   "id": "ec466992",
   "metadata": {},
   "source": [
    "# Write a program that prompts the user to enter a sentence and checks whether it is a palindrome (reads the same forwards and backwards) ignoring spaces and punctuation."
   ]
  },
  {
   "cell_type": "code",
   "execution_count": null,
   "id": "773bd0ae",
   "metadata": {},
   "outputs": [],
   "source": [
    "def is_palindrome(sentence):\n",
    "    # Remove spaces and punctuation from the sentence\n",
    "    sentence = sentence.lower()\n",
    "    sentence = sentence.translate(str.maketrans('', '', string.punctuation))\n",
    "    sentence = sentence.replace(\" \", \"\")\n",
    "\n",
    "    # Check if the modified sentence is a palindrome\n",
    "    return sentence == sentence[::-1]\n",
    "\n",
    "user_sentence = input(\"Enter a sentence: \")\n",
    "\n",
    "if is_palindrome(user_sentence):\n",
    "    print(\"The sentence is a palindrome.\")\n",
    "else:\n",
    "    print(\"The sentence is not a palindrome.\")"
   ]
  },
  {
   "cell_type": "markdown",
   "id": "b6b54936",
   "metadata": {},
   "source": [
    "# Given a list of numbers, write a program that calculates the product of all the positive numbers in the list.\n"
   ]
  },
  {
   "cell_type": "code",
   "execution_count": null,
   "id": "5ca0b74a",
   "metadata": {},
   "outputs": [],
   "source": [
    "numbers = [-2, 3, -4, 5, 6, -7]\n",
    "product = 1\n",
    "\n",
    "for num in numbers:\n",
    "    if num > 0:\n",
    "        product *= num\n",
    "\n",
    "print(\"Product of positive numbers:\", product)"
   ]
  },
  {
   "cell_type": "markdown",
   "id": "676dc109",
   "metadata": {},
   "source": [
    "# Write a program that prompts the user to enter two sentences and checks if the second sentence is a rotation of the first sentence (circular shift)."
   ]
  },
  {
   "cell_type": "code",
   "execution_count": null,
   "id": "207c1e64",
   "metadata": {},
   "outputs": [],
   "source": [
    "sentence1 = input(\"Enter the first sentence: \")\n",
    "sentence2 = input(\"Enter the second sentence: \")\n",
    "\n",
    "if len(sentence1) == len(sentence2) and sentence2 in (sentence1 + sentence1):\n",
    "    print(\"The second sentence is a rotation of the first sentence.\")\n",
    "else:\n",
    "    print(\"The second sentence is not a rotation of the first sentence.\")"
   ]
  },
  {
   "cell_type": "markdown",
   "id": "0f21c596",
   "metadata": {},
   "source": [
    "# Given a list of integers, write a program that finds the largest and second-largest elements in the list.\n"
   ]
  },
  {
   "cell_type": "code",
   "execution_count": null,
   "id": "5ab96921",
   "metadata": {},
   "outputs": [],
   "source": [
    "numbers = [5, 9, 3, 1, 7, 8, 2]\n",
    "largest = second_largest = float('-inf')\n",
    "\n",
    "for num in numbers:\n",
    "    if num > largest:\n",
    "        second_largest = largest\n",
    "        largest = num\n",
    "    elif num > second_largest and num != largest:\n",
    "        second_largest = num\n",
    "\n",
    "print(\"Largest number:\", largest)\n",
    "print(\"Second largest number:\", second_largest)"
   ]
  },
  {
   "cell_type": "markdown",
   "id": "27e3ed1d",
   "metadata": {},
   "source": [
    "# Write a program that takes a list of strings as input and returns a new list with the strings sorted alphabetically in reverse order."
   ]
  },
  {
   "cell_type": "code",
   "execution_count": null,
   "id": "87738681",
   "metadata": {},
   "outputs": [],
   "source": [
    "strings = ['apple', 'banana', 'cherry', 'date']\n",
    "sorted_strings = sorted(strings, reverse=True)\n",
    "print(sorted_strings)"
   ]
  },
  {
   "cell_type": "markdown",
   "id": "10c0b2b3",
   "metadata": {},
   "source": [
    "# Write a program that prompts the user to enter their name and age. Store the name in a variable called name and the age in a variable called age. Then, display a message that says \"Hello, [name]! You are [age] years old.\""
   ]
  },
  {
   "cell_type": "code",
   "execution_count": null,
   "id": "39ffe3a9",
   "metadata": {},
   "outputs": [],
   "source": [
    "name = input(\"Enter your name: \")\n",
    "age = int(input(\"Enter your age: \"))\n",
    "print(\"Hello, \" + name + \"! You are \" + str(age) + \" years old.\")"
   ]
  },
  {
   "cell_type": "markdown",
   "id": "d693c367",
   "metadata": {},
   "source": [
    "# Given a list of numbers, write a program to find and print the largest and smallest numbers in the list. Store the largest number in a variable called max_num and the smallest number in a variable called min_num.\n"
   ]
  },
  {
   "cell_type": "code",
   "execution_count": null,
   "id": "f8e0d1b9",
   "metadata": {},
   "outputs": [],
   "source": [
    "numbers = [5, 2, 8, 3, 9, 1]\n",
    "max_num = max(numbers)\n",
    "min_num = min(numbers)\n",
    "print(\"Largest number:\", max_num)\n",
    "print(\"Smallest number:\", min_num)"
   ]
  },
  {
   "cell_type": "markdown",
   "id": "ece771f2",
   "metadata": {},
   "source": [
    "# Write a program that calculates the area and perimeter of a rectangle. Prompt the user to enter the length and width of the rectangle and store the values in variables. Then, calculate and display the area and perimeter."
   ]
  },
  {
   "cell_type": "code",
   "execution_count": null,
   "id": "3de88495",
   "metadata": {},
   "outputs": [],
   "source": [
    "length = float(input(\"Enter the length of the rectangle: \"))\n",
    "width = float(input(\"Enter the width of the rectangle: \"))\n",
    "\n",
    "area = length * width\n",
    "perimeter = 2 * (length + width)\n",
    "\n",
    "print(\"Area:\", area)\n",
    "print(\"Perimeter:\", perimeter)"
   ]
  },
  {
   "cell_type": "markdown",
   "id": "25495e7a",
   "metadata": {},
   "source": [
    "# Given two variables x and y, swap their values without using a temporary variable."
   ]
  },
  {
   "cell_type": "code",
   "execution_count": null,
   "id": "9f814528",
   "metadata": {},
   "outputs": [],
   "source": [
    "x = 5\n",
    "y = 10\n",
    "\n",
    "x, y = y, x\n",
    "\n",
    "print(\"x =\", x)\n",
    "print(\"y =\", y)"
   ]
  },
  {
   "cell_type": "markdown",
   "id": "540cd747",
   "metadata": {},
   "source": [
    "# Write a program that takes a string as input and counts the number of vowels (a, e, i, o, u) in the string. Store the count in a variable called vowel_count and display it."
   ]
  },
  {
   "cell_type": "code",
   "execution_count": null,
   "id": "b1cd53b8",
   "metadata": {},
   "outputs": [],
   "source": [
    "string = input(\"Enter a string: \").lower()\n",
    "vowel_count = 0\n",
    "\n",
    "for char in string:\n",
    "    if char in \"aeiou\":\n",
    "        vowel_count += 1\n",
    "\n",
    "print(\"Number of vowels:\", vowel_count)"
   ]
  },
  {
   "cell_type": "markdown",
   "id": "11910a95",
   "metadata": {},
   "source": [
    "# Write a program that takes a list of numbers and returns a new list containing only the positive numbers from the original list.\n"
   ]
  },
  {
   "cell_type": "code",
   "execution_count": null,
   "id": "d7e0f1ef",
   "metadata": {},
   "outputs": [],
   "source": [
    "numbers = [-5, 2, -8, 3, -9, 1]\n",
    "positive_numbers = [num for num in numbers if num > 0]\n",
    "\n",
    "print(\"Positive Numbers:\", positive_numbers)\n"
   ]
  },
  {
   "cell_type": "markdown",
   "id": "52c2fc43",
   "metadata": {},
   "source": [
    "# Write a program that prompts the user to enter two numbers and performs the following operations: addition, subtraction, multiplication, and division. Store the results in separate variables and display them.\n"
   ]
  },
  {
   "cell_type": "code",
   "execution_count": null,
   "id": "785312bf",
   "metadata": {},
   "outputs": [],
   "source": [
    "num1 = float(input(\"Enter the first number: \"))\n",
    "num2 = float(input(\"Enter the second number: \"))\n",
    "\n",
    "addition = num1 + num2\n",
    "subtraction = num1 - num2\n",
    "multiplication = num1 * num2\n",
    "division = num1 / num2\n",
    "\n",
    "print(\"Addition:\", addition)\n",
    "print(\"Subtraction:\", subtraction)\n",
    "print(\"Multiplication:\", multiplication)\n",
    "print(\"Division:\", division)"
   ]
  },
  {
   "cell_type": "code",
   "execution_count": 1,
   "id": "e76d1a9c",
   "metadata": {},
   "outputs": [
    {
     "name": "stdout",
     "output_type": "stream",
     "text": [
      "practice\n"
     ]
    }
   ],
   "source": [
    "print('practice')"
   ]
  },
  {
   "cell_type": "code",
   "execution_count": 2,
   "id": "1f970987",
   "metadata": {},
   "outputs": [
    {
     "name": "stdout",
     "output_type": "stream",
     "text": [
      "hello \n",
      " qwerty\n"
     ]
    }
   ],
   "source": [
    "print('hello','\\n','qwerty')"
   ]
  },
  {
   "cell_type": "code",
   "execution_count": 3,
   "id": "40c5e260",
   "metadata": {},
   "outputs": [
    {
     "name": "stdout",
     "output_type": "stream",
     "text": [
      "hello \t qwerty\n"
     ]
    }
   ],
   "source": [
    "print('hello','\\t','qwerty')"
   ]
  },
  {
   "cell_type": "code",
   "execution_count": 4,
   "id": "2a442437",
   "metadata": {},
   "outputs": [
    {
     "name": "stdout",
     "output_type": "stream",
     "text": [
      "number 12\n"
     ]
    }
   ],
   "source": [
    "print('number',5+6-9+10)"
   ]
  },
  {
   "cell_type": "code",
   "execution_count": 5,
   "id": "65c9ba35",
   "metadata": {},
   "outputs": [
    {
     "data": {
      "text/plain": [
       "str"
      ]
     },
     "execution_count": 5,
     "metadata": {},
     "output_type": "execute_result"
    }
   ],
   "source": [
    "type('abs')"
   ]
  },
  {
   "cell_type": "code",
   "execution_count": 6,
   "id": "7b9ac570",
   "metadata": {},
   "outputs": [
    {
     "data": {
      "text/plain": [
       "int"
      ]
     },
     "execution_count": 6,
     "metadata": {},
     "output_type": "execute_result"
    }
   ],
   "source": [
    "type(1+3)"
   ]
  },
  {
   "cell_type": "code",
   "execution_count": 7,
   "id": "e2a72471",
   "metadata": {},
   "outputs": [
    {
     "data": {
      "text/plain": [
       "float"
      ]
     },
     "execution_count": 7,
     "metadata": {},
     "output_type": "execute_result"
    }
   ],
   "source": [
    "type(3.4)"
   ]
  },
  {
   "cell_type": "code",
   "execution_count": 8,
   "id": "05555a2a",
   "metadata": {},
   "outputs": [
    {
     "data": {
      "text/plain": [
       "bool"
      ]
     },
     "execution_count": 8,
     "metadata": {},
     "output_type": "execute_result"
    }
   ],
   "source": [
    "type(True)"
   ]
  },
  {
   "cell_type": "code",
   "execution_count": 9,
   "id": "8bae4b5a",
   "metadata": {},
   "outputs": [
    {
     "data": {
      "text/plain": [
       "15"
      ]
     },
     "execution_count": 9,
     "metadata": {},
     "output_type": "execute_result"
    }
   ],
   "source": [
    "a=1\n",
    "b=2\n",
    "c=3 \n",
    "d=4\n",
    "e=5\n",
    "z=a+b+c+d+e\n",
    "z"
   ]
  },
  {
   "cell_type": "code",
   "execution_count": 10,
   "id": "31aad701",
   "metadata": {},
   "outputs": [
    {
     "data": {
      "text/plain": [
       "20"
      ]
     },
     "execution_count": 10,
     "metadata": {},
     "output_type": "execute_result"
    }
   ],
   "source": [
    "a=10\n",
    "b=2\n",
    "a*b"
   ]
  },
  {
   "cell_type": "code",
   "execution_count": 11,
   "id": "90b87930",
   "metadata": {},
   "outputs": [
    {
     "data": {
      "text/plain": [
       "316.1"
      ]
     },
     "execution_count": 11,
     "metadata": {},
     "output_type": "execute_result"
    }
   ],
   "source": [
    "q=(10-1)*(4/2)+342-43.9\n",
    "q"
   ]
  },
  {
   "cell_type": "code",
   "execution_count": 12,
   "id": "42c4a593",
   "metadata": {},
   "outputs": [
    {
     "data": {
      "text/plain": [
       "316"
      ]
     },
     "execution_count": 12,
     "metadata": {},
     "output_type": "execute_result"
    }
   ],
   "source": [
    "round(q)"
   ]
  },
  {
   "cell_type": "code",
   "execution_count": 13,
   "id": "d11c4c05",
   "metadata": {},
   "outputs": [
    {
     "data": {
      "text/plain": [
       "8"
      ]
     },
     "execution_count": 13,
     "metadata": {},
     "output_type": "execute_result"
    }
   ],
   "source": [
    "# paranthesis\n",
    "4 * (8/2**2)\n",
    "\n",
    "# exponents\n",
    "4* (8/4)\n",
    "4 * 2"
   ]
  },
  {
   "cell_type": "code",
   "execution_count": 14,
   "id": "2c846f77",
   "metadata": {},
   "outputs": [
    {
     "data": {
      "text/plain": [
       "8"
      ]
     },
     "execution_count": 14,
     "metadata": {},
     "output_type": "execute_result"
    }
   ],
   "source": [
    "# paranthesis\n",
    "4 * (8/2**2)\n",
    "\n",
    "# exponents\n",
    "4* (8/4)\n",
    "4 * 2"
   ]
  },
  {
   "cell_type": "markdown",
   "id": "5ed5dd4d",
   "metadata": {},
   "source": [
    "# Write a Python program that assigns the value 10 to a variable called \"x\" and prints its value."
   ]
  },
  {
   "cell_type": "code",
   "execution_count": 15,
   "id": "7a0d667c",
   "metadata": {},
   "outputs": [
    {
     "name": "stdout",
     "output_type": "stream",
     "text": [
      "10\n"
     ]
    }
   ],
   "source": [
    "x = 10\n",
    "print(x)"
   ]
  },
  {
   "cell_type": "markdown",
   "id": "f9612beb",
   "metadata": {},
   "source": [
    "# Write a Python program that swaps the values of two variables \"a\" and \"b\"."
   ]
  },
  {
   "cell_type": "code",
   "execution_count": null,
   "id": "bb68f10b",
   "metadata": {},
   "outputs": [],
   "source": [
    "a = 5\n",
    "b = 7\n",
    "\n",
    "print(\"Before swap:\")\n",
    "print(\"a =\", a)\n",
    "print(\"b =\", b)\n",
    "\n",
    "# Swapping the values\n",
    "temp = a\n",
    "a = b\n",
    "b = temp\n",
    "\n",
    "print(\"After swap:\")\n",
    "print(\"a =\", a)\n",
    "print(\"b =\", b)"
   ]
  },
  {
   "cell_type": "markdown",
   "id": "524918c9",
   "metadata": {},
   "source": [
    "# Write a Python program that takes two numbers as input and prints their sum."
   ]
  },
  {
   "cell_type": "code",
   "execution_count": null,
   "id": "d0e7a314",
   "metadata": {},
   "outputs": [],
   "source": [
    "num1 = float(input(\"Enter the first number: \"))\n",
    "num2 = float(input(\"Enter the second number: \"))\n",
    "\n",
    "sum = num1 + num2\n",
    "print(\"Sum:\", sum)"
   ]
  },
  {
   "cell_type": "markdown",
   "id": "744e1b4d",
   "metadata": {},
   "source": [
    "# Write a Python program that calculates the area of a rectangle using variables for the length and width.\n",
    "\n"
   ]
  },
  {
   "cell_type": "code",
   "execution_count": null,
   "id": "6f2d72d6",
   "metadata": {},
   "outputs": [],
   "source": [
    "length = 10\n",
    "width = 5\n",
    "\n",
    "area = length * width\n",
    "print(\"Area of the rectangle:\", area)"
   ]
  },
  {
   "cell_type": "markdown",
   "id": "8fc83623",
   "metadata": {},
   "source": [
    "# Write a Python program that converts a temperature in Celsius to Fahrenheit using variables.\n",
    "\n",
    "\n"
   ]
  },
  {
   "cell_type": "code",
   "execution_count": null,
   "id": "f64cc8bc",
   "metadata": {},
   "outputs": [],
   "source": [
    "celsius = 30\n",
    "\n",
    "# Convert Celsius to Fahrenheit\n",
    "fahrenheit = (celsius * 9/5) + 32\n",
    "\n",
    "print(\"Temperature in Fahrenheit:\", fahrenheit)"
   ]
  },
  {
   "cell_type": "code",
   "execution_count": null,
   "id": "abfb91e1",
   "metadata": {},
   "outputs": [],
   "source": []
  }
 ],
 "metadata": {
  "kernelspec": {
   "display_name": "Python 3 (ipykernel)",
   "language": "python",
   "name": "python3"
  },
  "language_info": {
   "codemirror_mode": {
    "name": "ipython",
    "version": 3
   },
   "file_extension": ".py",
   "mimetype": "text/x-python",
   "name": "python",
   "nbconvert_exporter": "python",
   "pygments_lexer": "ipython3",
   "version": "3.9.7"
  }
 },
 "nbformat": 4,
 "nbformat_minor": 5
}
