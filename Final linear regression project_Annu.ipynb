{
 "cells": [
  {
   "cell_type": "markdown",
   "id": "b84ac734",
   "metadata": {},
   "source": [
    "The objective was to forecast the price of a specific apartment based on market pricing while accounting for various \"features\" that would be established in the following sections.\n",
    "Real estate investing appears to be a tempting option for investors.\n",
    "The major focus of this project is on predicting home prices using genuine factors."
   ]
  },
  {
   "cell_type": "markdown",
   "id": "c185f5f9",
   "metadata": {},
   "source": [
    "DATA DEFINITION"
   ]
  },
  {
   "cell_type": "markdown",
   "id": "902f4f9b",
   "metadata": {},
   "source": [
    "1.area_type ---\n",
    "2.size --\n",
    "3.bathroom --\n",
    "4.parking ---\n",
    "5.ballcony----\n",
    "6.total_sqft----\n",
    "7.hospital_nearby---\n",
    "8.school_nearby----\n",
    "9.mall_nearby----\n",
    "10.resale----"
   ]
  },
  {
   "cell_type": "code",
   "execution_count": 1,
   "id": "180d555c",
   "metadata": {},
   "outputs": [],
   "source": [
    "import warnings\n",
    "warnings.filterwarnings('ignore')"
   ]
  },
  {
   "cell_type": "code",
   "execution_count": 2,
   "id": "a3ace0db",
   "metadata": {},
   "outputs": [],
   "source": [
    "# importing libraries\n",
    "import pandas as pd\n",
    "import numpy as np\n",
    "from sklearn.model_selection import train_test_split\n",
    "from sklearn.metrics import mean_squared_error, mean_absolute_percentage_error\n",
    "from sklearn.linear_model import LinearRegression"
   ]
  },
  {
   "cell_type": "code",
   "execution_count": 3,
   "id": "318e4276",
   "metadata": {},
   "outputs": [],
   "source": [
    "# read the data\n",
    "df = pd.read_csv(\"Bengaluru_House_Data.csv\")"
   ]
  },
  {
   "cell_type": "markdown",
   "id": "4be28abf",
   "metadata": {},
   "source": [
    "EDA"
   ]
  },
  {
   "cell_type": "code",
   "execution_count": 4,
   "id": "5a5f4673",
   "metadata": {},
   "outputs": [
    {
     "data": {
      "text/html": [
       "<div>\n",
       "<style scoped>\n",
       "    .dataframe tbody tr th:only-of-type {\n",
       "        vertical-align: middle;\n",
       "    }\n",
       "\n",
       "    .dataframe tbody tr th {\n",
       "        vertical-align: top;\n",
       "    }\n",
       "\n",
       "    .dataframe thead th {\n",
       "        text-align: right;\n",
       "    }\n",
       "</style>\n",
       "<table border=\"1\" class=\"dataframe\">\n",
       "  <thead>\n",
       "    <tr style=\"text-align: right;\">\n",
       "      <th></th>\n",
       "      <th>area_type</th>\n",
       "      <th>size</th>\n",
       "      <th>bathroom</th>\n",
       "      <th>parking</th>\n",
       "      <th>balcony</th>\n",
       "      <th>price</th>\n",
       "      <th>total_sqft</th>\n",
       "      <th>hospital_nearby</th>\n",
       "      <th>school_nearby</th>\n",
       "      <th>mall_nearby</th>\n",
       "      <th>resale</th>\n",
       "      <th>location</th>\n",
       "    </tr>\n",
       "  </thead>\n",
       "  <tbody>\n",
       "    <tr>\n",
       "      <th>0</th>\n",
       "      <td>Super built-up  Area</td>\n",
       "      <td>2 BHK</td>\n",
       "      <td>2.0</td>\n",
       "      <td>2</td>\n",
       "      <td>1.0</td>\n",
       "      <td>3907000</td>\n",
       "      <td>1056.0</td>\n",
       "      <td>No</td>\n",
       "      <td>No</td>\n",
       "      <td>Yes</td>\n",
       "      <td>0</td>\n",
       "      <td>Electronic City Phase II</td>\n",
       "    </tr>\n",
       "    <tr>\n",
       "      <th>1</th>\n",
       "      <td>Plot  Area</td>\n",
       "      <td>4 BHK</td>\n",
       "      <td>5.0</td>\n",
       "      <td>1</td>\n",
       "      <td>3.0</td>\n",
       "      <td>12000000</td>\n",
       "      <td>2600.0</td>\n",
       "      <td>No</td>\n",
       "      <td>Yes</td>\n",
       "      <td>Yes</td>\n",
       "      <td>1</td>\n",
       "      <td>Chikka Tirupathi</td>\n",
       "    </tr>\n",
       "    <tr>\n",
       "      <th>2</th>\n",
       "      <td>Built-up  Area</td>\n",
       "      <td>3 BHK</td>\n",
       "      <td>2.0</td>\n",
       "      <td>1</td>\n",
       "      <td>3.0</td>\n",
       "      <td>6200000</td>\n",
       "      <td>1440.0</td>\n",
       "      <td>No</td>\n",
       "      <td>Yes</td>\n",
       "      <td>Yes</td>\n",
       "      <td>1</td>\n",
       "      <td>Uttarahalli</td>\n",
       "    </tr>\n",
       "    <tr>\n",
       "      <th>3</th>\n",
       "      <td>Super built-up  Area</td>\n",
       "      <td>3 BHK</td>\n",
       "      <td>3.0</td>\n",
       "      <td>2</td>\n",
       "      <td>1.0</td>\n",
       "      <td>9500000</td>\n",
       "      <td>1521.0</td>\n",
       "      <td>Yes</td>\n",
       "      <td>Yes</td>\n",
       "      <td>No</td>\n",
       "      <td>0</td>\n",
       "      <td>Lingadheeranahalli</td>\n",
       "    </tr>\n",
       "    <tr>\n",
       "      <th>4</th>\n",
       "      <td>Super built-up  Area</td>\n",
       "      <td>2 BHK</td>\n",
       "      <td>2.0</td>\n",
       "      <td>1</td>\n",
       "      <td>1.0</td>\n",
       "      <td>5100000</td>\n",
       "      <td>1200.0</td>\n",
       "      <td>No</td>\n",
       "      <td>No</td>\n",
       "      <td>Yes</td>\n",
       "      <td>1</td>\n",
       "      <td>Kothanur</td>\n",
       "    </tr>\n",
       "  </tbody>\n",
       "</table>\n",
       "</div>"
      ],
      "text/plain": [
       "              area_type   size  bathroom  parking  balcony     price  \\\n",
       "0  Super built-up  Area  2 BHK       2.0        2      1.0   3907000   \n",
       "1            Plot  Area  4 BHK       5.0        1      3.0  12000000   \n",
       "2        Built-up  Area  3 BHK       2.0        1      3.0   6200000   \n",
       "3  Super built-up  Area  3 BHK       3.0        2      1.0   9500000   \n",
       "4  Super built-up  Area  2 BHK       2.0        1      1.0   5100000   \n",
       "\n",
       "   total_sqft hospital_nearby school_nearby mall_nearby  resale  \\\n",
       "0      1056.0              No            No         Yes       0   \n",
       "1      2600.0              No           Yes         Yes       1   \n",
       "2      1440.0              No           Yes         Yes       1   \n",
       "3      1521.0             Yes           Yes          No       0   \n",
       "4      1200.0              No            No         Yes       1   \n",
       "\n",
       "                   location  \n",
       "0  Electronic City Phase II  \n",
       "1          Chikka Tirupathi  \n",
       "2               Uttarahalli  \n",
       "3        Lingadheeranahalli  \n",
       "4                  Kothanur  "
      ]
     },
     "execution_count": 4,
     "metadata": {},
     "output_type": "execute_result"
    }
   ],
   "source": [
    "#checking 1st 5 rows of the dataset\n",
    "df.head()"
   ]
  },
  {
   "cell_type": "code",
   "execution_count": 5,
   "id": "a4fb5150",
   "metadata": {},
   "outputs": [
    {
     "data": {
      "text/html": [
       "<div>\n",
       "<style scoped>\n",
       "    .dataframe tbody tr th:only-of-type {\n",
       "        vertical-align: middle;\n",
       "    }\n",
       "\n",
       "    .dataframe tbody tr th {\n",
       "        vertical-align: top;\n",
       "    }\n",
       "\n",
       "    .dataframe thead th {\n",
       "        text-align: right;\n",
       "    }\n",
       "</style>\n",
       "<table border=\"1\" class=\"dataframe\">\n",
       "  <thead>\n",
       "    <tr style=\"text-align: right;\">\n",
       "      <th></th>\n",
       "      <th>area_type</th>\n",
       "      <th>size</th>\n",
       "      <th>bathroom</th>\n",
       "      <th>parking</th>\n",
       "      <th>balcony</th>\n",
       "      <th>price</th>\n",
       "      <th>total_sqft</th>\n",
       "      <th>hospital_nearby</th>\n",
       "      <th>school_nearby</th>\n",
       "      <th>mall_nearby</th>\n",
       "      <th>resale</th>\n",
       "      <th>location</th>\n",
       "    </tr>\n",
       "  </thead>\n",
       "  <tbody>\n",
       "    <tr>\n",
       "      <th>13301</th>\n",
       "      <td>Built-up  Area</td>\n",
       "      <td>5 BHK</td>\n",
       "      <td>4.0</td>\n",
       "      <td>1</td>\n",
       "      <td>0.0</td>\n",
       "      <td>23100000</td>\n",
       "      <td>3453.0</td>\n",
       "      <td>Yes</td>\n",
       "      <td>No</td>\n",
       "      <td>Yes</td>\n",
       "      <td>0</td>\n",
       "      <td>Kothanur</td>\n",
       "    </tr>\n",
       "    <tr>\n",
       "      <th>13302</th>\n",
       "      <td>Super built-up  Area</td>\n",
       "      <td>4 BHK</td>\n",
       "      <td>5.0</td>\n",
       "      <td>1</td>\n",
       "      <td>NaN</td>\n",
       "      <td>40000000</td>\n",
       "      <td>3600.0</td>\n",
       "      <td>Yes</td>\n",
       "      <td>No</td>\n",
       "      <td>Yes</td>\n",
       "      <td>1</td>\n",
       "      <td>Annaiah Reddy Layout</td>\n",
       "    </tr>\n",
       "    <tr>\n",
       "      <th>13303</th>\n",
       "      <td>Built-up  Area</td>\n",
       "      <td>2 BHK</td>\n",
       "      <td>2.0</td>\n",
       "      <td>2</td>\n",
       "      <td>1.0</td>\n",
       "      <td>6000000</td>\n",
       "      <td>1141.0</td>\n",
       "      <td>No</td>\n",
       "      <td>No</td>\n",
       "      <td>Yes</td>\n",
       "      <td>1</td>\n",
       "      <td>Vidyaranyapura</td>\n",
       "    </tr>\n",
       "    <tr>\n",
       "      <th>13304</th>\n",
       "      <td>Super built-up  Area</td>\n",
       "      <td>4 BHK</td>\n",
       "      <td>4.0</td>\n",
       "      <td>1</td>\n",
       "      <td>1.0</td>\n",
       "      <td>48800000</td>\n",
       "      <td>4689.0</td>\n",
       "      <td>No</td>\n",
       "      <td>Yes</td>\n",
       "      <td>No</td>\n",
       "      <td>1</td>\n",
       "      <td>Raja Rajeshwari Nagar</td>\n",
       "    </tr>\n",
       "    <tr>\n",
       "      <th>13305</th>\n",
       "      <td>Super built-up  Area</td>\n",
       "      <td>1 BHK</td>\n",
       "      <td>1.0</td>\n",
       "      <td>1</td>\n",
       "      <td>1.0</td>\n",
       "      <td>1700000</td>\n",
       "      <td>550.0</td>\n",
       "      <td>No</td>\n",
       "      <td>Yes</td>\n",
       "      <td>Yes</td>\n",
       "      <td>1</td>\n",
       "      <td>Hulimavu</td>\n",
       "    </tr>\n",
       "  </tbody>\n",
       "</table>\n",
       "</div>"
      ],
      "text/plain": [
       "                  area_type   size  bathroom  parking  balcony     price  \\\n",
       "13301        Built-up  Area  5 BHK       4.0        1      0.0  23100000   \n",
       "13302  Super built-up  Area  4 BHK       5.0        1      NaN  40000000   \n",
       "13303        Built-up  Area  2 BHK       2.0        2      1.0   6000000   \n",
       "13304  Super built-up  Area  4 BHK       4.0        1      1.0  48800000   \n",
       "13305  Super built-up  Area  1 BHK       1.0        1      1.0   1700000   \n",
       "\n",
       "       total_sqft hospital_nearby school_nearby mall_nearby  resale  \\\n",
       "13301      3453.0             Yes            No         Yes       0   \n",
       "13302      3600.0             Yes            No         Yes       1   \n",
       "13303      1141.0              No            No         Yes       1   \n",
       "13304      4689.0              No           Yes          No       1   \n",
       "13305       550.0              No           Yes         Yes       1   \n",
       "\n",
       "                    location  \n",
       "13301               Kothanur  \n",
       "13302   Annaiah Reddy Layout  \n",
       "13303         Vidyaranyapura  \n",
       "13304  Raja Rajeshwari Nagar  \n",
       "13305               Hulimavu  "
      ]
     },
     "execution_count": 5,
     "metadata": {},
     "output_type": "execute_result"
    }
   ],
   "source": [
    "#checking last 5 rows of dataset\n",
    "df.tail()"
   ]
  },
  {
   "cell_type": "code",
   "execution_count": 6,
   "id": "337b04dc",
   "metadata": {},
   "outputs": [
    {
     "data": {
      "text/plain": [
       "(13306, 12)"
      ]
     },
     "execution_count": 6,
     "metadata": {},
     "output_type": "execute_result"
    }
   ],
   "source": [
    "#checking shape of dataset\n",
    "df.shape"
   ]
  },
  {
   "cell_type": "markdown",
   "id": "9e85506d",
   "metadata": {},
   "source": [
    "here are total of 13306 rows and 12 columns in dataset"
   ]
  },
  {
   "cell_type": "code",
   "execution_count": 7,
   "id": "3097aebc",
   "metadata": {},
   "outputs": [
    {
     "name": "stdout",
     "output_type": "stream",
     "text": [
      "<class 'pandas.core.frame.DataFrame'>\n",
      "RangeIndex: 13306 entries, 0 to 13305\n",
      "Data columns (total 12 columns):\n",
      " #   Column           Non-Null Count  Dtype  \n",
      "---  ------           --------------  -----  \n",
      " 0   area_type        13306 non-null  object \n",
      " 1   size             13306 non-null  object \n",
      " 2   bathroom         13244 non-null  float64\n",
      " 3   parking          13306 non-null  int64  \n",
      " 4   balcony          12715 non-null  float64\n",
      " 5   price            13306 non-null  int64  \n",
      " 6   total_sqft       13306 non-null  float64\n",
      " 7   hospital_nearby  13306 non-null  object \n",
      " 8   school_nearby    13306 non-null  object \n",
      " 9   mall_nearby      13306 non-null  object \n",
      " 10  resale           13306 non-null  int64  \n",
      " 11  location         13305 non-null  object \n",
      "dtypes: float64(3), int64(3), object(6)\n",
      "memory usage: 1.2+ MB\n"
     ]
    }
   ],
   "source": [
    "#checking information of dataset\n",
    "#tells us about how many rows are present which value and how many are null\n",
    "# also tells about the datatypes of the features\n",
    "df.info()"
   ]
  },
  {
   "cell_type": "code",
   "execution_count": 8,
   "id": "1354b9c4",
   "metadata": {},
   "outputs": [
    {
     "data": {
      "text/html": [
       "<div>\n",
       "<style scoped>\n",
       "    .dataframe tbody tr th:only-of-type {\n",
       "        vertical-align: middle;\n",
       "    }\n",
       "\n",
       "    .dataframe tbody tr th {\n",
       "        vertical-align: top;\n",
       "    }\n",
       "\n",
       "    .dataframe thead th {\n",
       "        text-align: right;\n",
       "    }\n",
       "</style>\n",
       "<table border=\"1\" class=\"dataframe\">\n",
       "  <thead>\n",
       "    <tr style=\"text-align: right;\">\n",
       "      <th></th>\n",
       "      <th>bathroom</th>\n",
       "      <th>parking</th>\n",
       "      <th>balcony</th>\n",
       "      <th>price</th>\n",
       "      <th>total_sqft</th>\n",
       "      <th>resale</th>\n",
       "    </tr>\n",
       "  </thead>\n",
       "  <tbody>\n",
       "    <tr>\n",
       "      <th>count</th>\n",
       "      <td>13244.000000</td>\n",
       "      <td>13306.000000</td>\n",
       "      <td>12715.000000</td>\n",
       "      <td>1.330600e+04</td>\n",
       "      <td>13306.000000</td>\n",
       "      <td>13306.000000</td>\n",
       "    </tr>\n",
       "    <tr>\n",
       "      <th>mean</th>\n",
       "      <td>2.661054</td>\n",
       "      <td>1.492635</td>\n",
       "      <td>1.583956</td>\n",
       "      <td>1.113459e+07</td>\n",
       "      <td>1527.415335</td>\n",
       "      <td>0.500225</td>\n",
       "    </tr>\n",
       "    <tr>\n",
       "      <th>std</th>\n",
       "      <td>1.216547</td>\n",
       "      <td>0.505942</td>\n",
       "      <td>0.818571</td>\n",
       "      <td>1.420972e+07</td>\n",
       "      <td>839.821773</td>\n",
       "      <td>0.500019</td>\n",
       "    </tr>\n",
       "    <tr>\n",
       "      <th>min</th>\n",
       "      <td>1.000000</td>\n",
       "      <td>0.000000</td>\n",
       "      <td>0.000000</td>\n",
       "      <td>9.000000e+05</td>\n",
       "      <td>400.000000</td>\n",
       "      <td>0.000000</td>\n",
       "    </tr>\n",
       "    <tr>\n",
       "      <th>25%</th>\n",
       "      <td>2.000000</td>\n",
       "      <td>1.000000</td>\n",
       "      <td>1.000000</td>\n",
       "      <td>5.000000e+06</td>\n",
       "      <td>1100.000000</td>\n",
       "      <td>0.000000</td>\n",
       "    </tr>\n",
       "    <tr>\n",
       "      <th>50%</th>\n",
       "      <td>2.000000</td>\n",
       "      <td>1.000000</td>\n",
       "      <td>2.000000</td>\n",
       "      <td>7.200000e+06</td>\n",
       "      <td>1275.000000</td>\n",
       "      <td>1.000000</td>\n",
       "    </tr>\n",
       "    <tr>\n",
       "      <th>75%</th>\n",
       "      <td>3.000000</td>\n",
       "      <td>2.000000</td>\n",
       "      <td>2.000000</td>\n",
       "      <td>1.200000e+07</td>\n",
       "      <td>1680.000000</td>\n",
       "      <td>1.000000</td>\n",
       "    </tr>\n",
       "    <tr>\n",
       "      <th>max</th>\n",
       "      <td>27.000000</td>\n",
       "      <td>2.000000</td>\n",
       "      <td>4.000000</td>\n",
       "      <td>3.600000e+08</td>\n",
       "      <td>9600.000000</td>\n",
       "      <td>1.000000</td>\n",
       "    </tr>\n",
       "  </tbody>\n",
       "</table>\n",
       "</div>"
      ],
      "text/plain": [
       "           bathroom       parking       balcony         price    total_sqft  \\\n",
       "count  13244.000000  13306.000000  12715.000000  1.330600e+04  13306.000000   \n",
       "mean       2.661054      1.492635      1.583956  1.113459e+07   1527.415335   \n",
       "std        1.216547      0.505942      0.818571  1.420972e+07    839.821773   \n",
       "min        1.000000      0.000000      0.000000  9.000000e+05    400.000000   \n",
       "25%        2.000000      1.000000      1.000000  5.000000e+06   1100.000000   \n",
       "50%        2.000000      1.000000      2.000000  7.200000e+06   1275.000000   \n",
       "75%        3.000000      2.000000      2.000000  1.200000e+07   1680.000000   \n",
       "max       27.000000      2.000000      4.000000  3.600000e+08   9600.000000   \n",
       "\n",
       "             resale  \n",
       "count  13306.000000  \n",
       "mean       0.500225  \n",
       "std        0.500019  \n",
       "min        0.000000  \n",
       "25%        0.000000  \n",
       "50%        1.000000  \n",
       "75%        1.000000  \n",
       "max        1.000000  "
      ]
     },
     "execution_count": 8,
     "metadata": {},
     "output_type": "execute_result"
    }
   ],
   "source": [
    "#describing the data \n",
    "# can check total rows,standard deviation,quartiles,min and max \n",
    "df.describe()"
   ]
  },
  {
   "cell_type": "code",
   "execution_count": 9,
   "id": "50a305ea",
   "metadata": {},
   "outputs": [
    {
     "data": {
      "text/html": [
       "<div>\n",
       "<style scoped>\n",
       "    .dataframe tbody tr th:only-of-type {\n",
       "        vertical-align: middle;\n",
       "    }\n",
       "\n",
       "    .dataframe tbody tr th {\n",
       "        vertical-align: top;\n",
       "    }\n",
       "\n",
       "    .dataframe thead th {\n",
       "        text-align: right;\n",
       "    }\n",
       "</style>\n",
       "<table border=\"1\" class=\"dataframe\">\n",
       "  <thead>\n",
       "    <tr style=\"text-align: right;\">\n",
       "      <th></th>\n",
       "      <th>area_type</th>\n",
       "      <th>size</th>\n",
       "      <th>hospital_nearby</th>\n",
       "      <th>school_nearby</th>\n",
       "      <th>mall_nearby</th>\n",
       "      <th>location</th>\n",
       "    </tr>\n",
       "  </thead>\n",
       "  <tbody>\n",
       "    <tr>\n",
       "      <th>count</th>\n",
       "      <td>13306</td>\n",
       "      <td>13306</td>\n",
       "      <td>13306</td>\n",
       "      <td>13306</td>\n",
       "      <td>13306</td>\n",
       "      <td>13305</td>\n",
       "    </tr>\n",
       "    <tr>\n",
       "      <th>unique</th>\n",
       "      <td>4</td>\n",
       "      <td>12</td>\n",
       "      <td>2</td>\n",
       "      <td>2</td>\n",
       "      <td>2</td>\n",
       "      <td>1305</td>\n",
       "    </tr>\n",
       "    <tr>\n",
       "      <th>top</th>\n",
       "      <td>Super built-up  Area</td>\n",
       "      <td>2 BHK</td>\n",
       "      <td>Yes</td>\n",
       "      <td>Yes</td>\n",
       "      <td>No</td>\n",
       "      <td>Whitefield</td>\n",
       "    </tr>\n",
       "    <tr>\n",
       "      <th>freq</th>\n",
       "      <td>8790</td>\n",
       "      <td>5525</td>\n",
       "      <td>6739</td>\n",
       "      <td>6660</td>\n",
       "      <td>6709</td>\n",
       "      <td>539</td>\n",
       "    </tr>\n",
       "  </tbody>\n",
       "</table>\n",
       "</div>"
      ],
      "text/plain": [
       "                   area_type   size hospital_nearby school_nearby mall_nearby  \\\n",
       "count                  13306  13306           13306         13306       13306   \n",
       "unique                     4     12               2             2           2   \n",
       "top     Super built-up  Area  2 BHK             Yes           Yes          No   \n",
       "freq                    8790   5525            6739          6660        6709   \n",
       "\n",
       "          location  \n",
       "count        13305  \n",
       "unique        1305  \n",
       "top     Whitefield  \n",
       "freq           539  "
      ]
     },
     "execution_count": 9,
     "metadata": {},
     "output_type": "execute_result"
    }
   ],
   "source": [
    "# get the summary output for categorical variable\n",
    "df.describe(include = \"object\")"
   ]
  },
  {
   "cell_type": "code",
   "execution_count": 10,
   "id": "02817425",
   "metadata": {},
   "outputs": [
    {
     "data": {
      "text/plain": [
       "Index(['area_type', 'size', 'bathroom', 'parking', 'balcony', 'price',\n",
       "       'total_sqft', 'hospital_nearby', 'school_nearby', 'mall_nearby',\n",
       "       'resale', 'location'],\n",
       "      dtype='object')"
      ]
     },
     "execution_count": 10,
     "metadata": {},
     "output_type": "execute_result"
    }
   ],
   "source": [
    "#all the columns present in data\n",
    "df.columns"
   ]
  },
  {
   "cell_type": "code",
   "execution_count": 11,
   "id": "8c10e554",
   "metadata": {},
   "outputs": [
    {
     "data": {
      "text/plain": [
       "area_type           object\n",
       "size                object\n",
       "bathroom           float64\n",
       "parking              int64\n",
       "balcony            float64\n",
       "price                int64\n",
       "total_sqft         float64\n",
       "hospital_nearby     object\n",
       "school_nearby       object\n",
       "mall_nearby         object\n",
       "resale               int64\n",
       "location            object\n",
       "dtype: object"
      ]
     },
     "execution_count": 11,
     "metadata": {},
     "output_type": "execute_result"
    }
   ],
   "source": [
    "#data types of the dataset\n",
    "df.dtypes"
   ]
  },
  {
   "cell_type": "code",
   "execution_count": 12,
   "id": "931626d9",
   "metadata": {},
   "outputs": [
    {
     "data": {
      "text/plain": [
       "area_type            0\n",
       "size                 0\n",
       "bathroom            62\n",
       "parking              0\n",
       "balcony            591\n",
       "price                0\n",
       "total_sqft           0\n",
       "hospital_nearby      0\n",
       "school_nearby        0\n",
       "mall_nearby          0\n",
       "resale               0\n",
       "location             1\n",
       "dtype: int64"
      ]
     },
     "execution_count": 12,
     "metadata": {},
     "output_type": "execute_result"
    }
   ],
   "source": [
    "#checking null values\n",
    "df.isna().sum()"
   ]
  },
  {
   "cell_type": "markdown",
   "id": "4037e7c3",
   "metadata": {},
   "source": [
    "There are 591 missing values in balcony and  62 in bathroom"
   ]
  },
  {
   "cell_type": "raw",
   "id": "0aa15263",
   "metadata": {},
   "source": [
    "2. Missing Values\n",
    "The missing data, or missing values, are values which occur when no data is stored for the variable in an observation. Understanding the concept of missing values is important in order to successfully manage data. Missing data often occur in data and needs to be handled properly. Improper handling may affect results obtained by the researcher."
   ]
  },
  {
   "cell_type": "markdown",
   "id": "d9ab4805",
   "metadata": {},
   "source": [
    "Plotting a heatmap of the missing values"
   ]
  },
  {
   "cell_type": "markdown",
   "id": "4d9d5d0b",
   "metadata": {},
   "source": [
    "Handling Null Values"
   ]
  },
  {
   "cell_type": "code",
   "execution_count": 13,
   "id": "dbfa0be2",
   "metadata": {},
   "outputs": [
    {
     "data": {
      "image/png": "[encoded data removed]",
      "text/plain": [
       "<Figure size 1080x360 with 1 Axes>"
      ]
     },
     "metadata": {
      "needs_background": "light"
     },
     "output_type": "display_data"
    }
   ],
   "source": [
    "# let us plot a heatmap of the missing values\n",
    "\n",
    "# import the required libraries\n",
    "# import the library seaborn and matplotlib\n",
    "import seaborn as sns\n",
    "import matplotlib.pyplot as plt\n",
    "%matplotlib inline\n",
    "\n",
    "# set the figure size\n",
    "plt.rcParams[\"figure.figsize\"]=[15,5]\n",
    "\n",
    "# plot a heatmap of the missing values in the data\n",
    "# cbar: specify whether to display the color index or not\n",
    "sns.heatmap(df.isnull(), cbar = False)\n",
    "\n",
    "# display the plot\n",
    "plt.show()"
   ]
  },
  {
   "cell_type": "code",
   "execution_count": 14,
   "id": "5f146081",
   "metadata": {},
   "outputs": [
    {
     "data": {
      "text/html": [
       "<div>\n",
       "<style scoped>\n",
       "    .dataframe tbody tr th:only-of-type {\n",
       "        vertical-align: middle;\n",
       "    }\n",
       "\n",
       "    .dataframe tbody tr th {\n",
       "        vertical-align: top;\n",
       "    }\n",
       "\n",
       "    .dataframe thead th {\n",
       "        text-align: right;\n",
       "    }\n",
       "</style>\n",
       "<table border=\"1\" class=\"dataframe\">\n",
       "  <thead>\n",
       "    <tr style=\"text-align: right;\">\n",
       "      <th></th>\n",
       "      <th>Total</th>\n",
       "      <th>Percent</th>\n",
       "      <th>Type</th>\n",
       "    </tr>\n",
       "  </thead>\n",
       "  <tbody>\n",
       "    <tr>\n",
       "      <th>balcony</th>\n",
       "      <td>591</td>\n",
       "      <td>4.441605</td>\n",
       "      <td>float64</td>\n",
       "    </tr>\n",
       "    <tr>\n",
       "      <th>bathroom</th>\n",
       "      <td>62</td>\n",
       "      <td>0.465955</td>\n",
       "      <td>float64</td>\n",
       "    </tr>\n",
       "    <tr>\n",
       "      <th>location</th>\n",
       "      <td>1</td>\n",
       "      <td>0.007515</td>\n",
       "      <td>object</td>\n",
       "    </tr>\n",
       "    <tr>\n",
       "      <th>area_type</th>\n",
       "      <td>0</td>\n",
       "      <td>0.000000</td>\n",
       "      <td>object</td>\n",
       "    </tr>\n",
       "    <tr>\n",
       "      <th>size</th>\n",
       "      <td>0</td>\n",
       "      <td>0.000000</td>\n",
       "      <td>object</td>\n",
       "    </tr>\n",
       "    <tr>\n",
       "      <th>parking</th>\n",
       "      <td>0</td>\n",
       "      <td>0.000000</td>\n",
       "      <td>int64</td>\n",
       "    </tr>\n",
       "    <tr>\n",
       "      <th>price</th>\n",
       "      <td>0</td>\n",
       "      <td>0.000000</td>\n",
       "      <td>int64</td>\n",
       "    </tr>\n",
       "    <tr>\n",
       "      <th>total_sqft</th>\n",
       "      <td>0</td>\n",
       "      <td>0.000000</td>\n",
       "      <td>float64</td>\n",
       "    </tr>\n",
       "    <tr>\n",
       "      <th>hospital_nearby</th>\n",
       "      <td>0</td>\n",
       "      <td>0.000000</td>\n",
       "      <td>object</td>\n",
       "    </tr>\n",
       "    <tr>\n",
       "      <th>school_nearby</th>\n",
       "      <td>0</td>\n",
       "      <td>0.000000</td>\n",
       "      <td>object</td>\n",
       "    </tr>\n",
       "    <tr>\n",
       "      <th>mall_nearby</th>\n",
       "      <td>0</td>\n",
       "      <td>0.000000</td>\n",
       "      <td>object</td>\n",
       "    </tr>\n",
       "    <tr>\n",
       "      <th>resale</th>\n",
       "      <td>0</td>\n",
       "      <td>0.000000</td>\n",
       "      <td>int64</td>\n",
       "    </tr>\n",
       "  </tbody>\n",
       "</table>\n",
       "</div>"
      ],
      "text/plain": [
       "                 Total   Percent     Type\n",
       "balcony            591  4.441605  float64\n",
       "bathroom            62  0.465955  float64\n",
       "location             1  0.007515   object\n",
       "area_type            0  0.000000   object\n",
       "size                 0  0.000000   object\n",
       "parking              0  0.000000    int64\n",
       "price                0  0.000000    int64\n",
       "total_sqft           0  0.000000  float64\n",
       "hospital_nearby      0  0.000000   object\n",
       "school_nearby        0  0.000000   object\n",
       "mall_nearby          0  0.000000   object\n",
       "resale               0  0.000000    int64"
      ]
     },
     "execution_count": 14,
     "metadata": {},
     "output_type": "execute_result"
    }
   ],
   "source": [
    "# get the count of missing values\n",
    "missing_values = df.isnull().sum()\n",
    "\n",
    "# check for missing values\n",
    "total = df.isnull().sum().sort_values(ascending=False)\n",
    "\n",
    "# calculate percentage of the missing values\n",
    "percent = ((df.isnull().sum()/df.shape[0])*100)\n",
    "\n",
    "# sort the values in descending order\n",
    "# ascending: \n",
    "percent = percent.sort_values(ascending=False)\n",
    "\n",
    "# concatenate the total missing values and percentage of the missing values\n",
    "missing_data = pd.concat([total, percent], axis=1, keys=['Total', 'Percent'])\n",
    "\n",
    "# add the data types\n",
    "missing_data['Type'] = df[missing_data.index].dtypes\n",
    "\n",
    "# view the missing data\n",
    "missing_data"
   ]
  },
  {
   "cell_type": "code",
   "execution_count": 15,
   "id": "49a65e69",
   "metadata": {},
   "outputs": [],
   "source": [
    "from sklearn.impute import KNNImputer"
   ]
  },
  {
   "cell_type": "code",
   "execution_count": 16,
   "id": "5e9018cc",
   "metadata": {},
   "outputs": [],
   "source": [
    "imputer = KNNImputer(n_neighbors=3)"
   ]
  },
  {
   "cell_type": "code",
   "execution_count": 17,
   "id": "cb763596",
   "metadata": {},
   "outputs": [],
   "source": [
    "df[['balcony']] = imputer.fit_transform(df[['balcony']])\n",
    "df[['bathroom']] = imputer.fit_transform(df[['bathroom']])"
   ]
  },
  {
   "cell_type": "code",
   "execution_count": 18,
   "id": "1409c6f8",
   "metadata": {},
   "outputs": [
    {
     "data": {
      "text/plain": [
       "area_type          0\n",
       "size               0\n",
       "bathroom           0\n",
       "parking            0\n",
       "balcony            0\n",
       "price              0\n",
       "total_sqft         0\n",
       "hospital_nearby    0\n",
       "school_nearby      0\n",
       "mall_nearby        0\n",
       "resale             0\n",
       "location           1\n",
       "dtype: int64"
      ]
     },
     "execution_count": 18,
     "metadata": {},
     "output_type": "execute_result"
    }
   ],
   "source": [
    "df.isnull().sum()"
   ]
  },
  {
   "cell_type": "code",
   "execution_count": 19,
   "id": "98aa1847",
   "metadata": {},
   "outputs": [
    {
     "data": {
      "text/plain": [
       "(13305, 12)"
      ]
     },
     "execution_count": 19,
     "metadata": {},
     "output_type": "execute_result"
    }
   ],
   "source": [
    "# drop the rows having missing values\n",
    "df1 = df.dropna()\n",
    "\n",
    "# display the dataframe\n",
    "df1.shape"
   ]
  },
  {
   "cell_type": "code",
   "execution_count": 20,
   "id": "f1c514f2",
   "metadata": {},
   "outputs": [
    {
     "data": {
      "text/plain": [
       "area_type          0\n",
       "size               0\n",
       "bathroom           0\n",
       "parking            0\n",
       "balcony            0\n",
       "price              0\n",
       "total_sqft         0\n",
       "hospital_nearby    0\n",
       "school_nearby      0\n",
       "mall_nearby        0\n",
       "resale             0\n",
       "location           0\n",
       "dtype: int64"
      ]
     },
     "execution_count": 20,
     "metadata": {},
     "output_type": "execute_result"
    }
   ],
   "source": [
    "df1.isnull().sum()"
   ]
  },
  {
   "cell_type": "code",
   "execution_count": 21,
   "id": "8558f552",
   "metadata": {},
   "outputs": [
    {
     "data": {
      "text/html": [
       "<div>\n",
       "<style scoped>\n",
       "    .dataframe tbody tr th:only-of-type {\n",
       "        vertical-align: middle;\n",
       "    }\n",
       "\n",
       "    .dataframe tbody tr th {\n",
       "        vertical-align: top;\n",
       "    }\n",
       "\n",
       "    .dataframe thead th {\n",
       "        text-align: right;\n",
       "    }\n",
       "</style>\n",
       "<table border=\"1\" class=\"dataframe\">\n",
       "  <thead>\n",
       "    <tr style=\"text-align: right;\">\n",
       "      <th></th>\n",
       "      <th>area_type</th>\n",
       "      <th>size</th>\n",
       "      <th>bathroom</th>\n",
       "      <th>parking</th>\n",
       "      <th>balcony</th>\n",
       "      <th>price</th>\n",
       "      <th>total_sqft</th>\n",
       "      <th>hospital_nearby</th>\n",
       "      <th>school_nearby</th>\n",
       "      <th>mall_nearby</th>\n",
       "      <th>resale</th>\n",
       "      <th>location</th>\n",
       "    </tr>\n",
       "  </thead>\n",
       "  <tbody>\n",
       "    <tr>\n",
       "      <th>0</th>\n",
       "      <td>Super built-up  Area</td>\n",
       "      <td>2 BHK</td>\n",
       "      <td>2.0</td>\n",
       "      <td>2</td>\n",
       "      <td>1.000000</td>\n",
       "      <td>3907000</td>\n",
       "      <td>1056.0</td>\n",
       "      <td>No</td>\n",
       "      <td>No</td>\n",
       "      <td>Yes</td>\n",
       "      <td>0</td>\n",
       "      <td>Electronic City Phase II</td>\n",
       "    </tr>\n",
       "    <tr>\n",
       "      <th>1</th>\n",
       "      <td>Plot  Area</td>\n",
       "      <td>4 BHK</td>\n",
       "      <td>5.0</td>\n",
       "      <td>1</td>\n",
       "      <td>3.000000</td>\n",
       "      <td>12000000</td>\n",
       "      <td>2600.0</td>\n",
       "      <td>No</td>\n",
       "      <td>Yes</td>\n",
       "      <td>Yes</td>\n",
       "      <td>1</td>\n",
       "      <td>Chikka Tirupathi</td>\n",
       "    </tr>\n",
       "    <tr>\n",
       "      <th>2</th>\n",
       "      <td>Built-up  Area</td>\n",
       "      <td>3 BHK</td>\n",
       "      <td>2.0</td>\n",
       "      <td>1</td>\n",
       "      <td>3.000000</td>\n",
       "      <td>6200000</td>\n",
       "      <td>1440.0</td>\n",
       "      <td>No</td>\n",
       "      <td>Yes</td>\n",
       "      <td>Yes</td>\n",
       "      <td>1</td>\n",
       "      <td>Uttarahalli</td>\n",
       "    </tr>\n",
       "    <tr>\n",
       "      <th>3</th>\n",
       "      <td>Super built-up  Area</td>\n",
       "      <td>3 BHK</td>\n",
       "      <td>3.0</td>\n",
       "      <td>2</td>\n",
       "      <td>1.000000</td>\n",
       "      <td>9500000</td>\n",
       "      <td>1521.0</td>\n",
       "      <td>Yes</td>\n",
       "      <td>Yes</td>\n",
       "      <td>No</td>\n",
       "      <td>0</td>\n",
       "      <td>Lingadheeranahalli</td>\n",
       "    </tr>\n",
       "    <tr>\n",
       "      <th>4</th>\n",
       "      <td>Super built-up  Area</td>\n",
       "      <td>2 BHK</td>\n",
       "      <td>2.0</td>\n",
       "      <td>1</td>\n",
       "      <td>1.000000</td>\n",
       "      <td>5100000</td>\n",
       "      <td>1200.0</td>\n",
       "      <td>No</td>\n",
       "      <td>No</td>\n",
       "      <td>Yes</td>\n",
       "      <td>1</td>\n",
       "      <td>Kothanur</td>\n",
       "    </tr>\n",
       "    <tr>\n",
       "      <th>...</th>\n",
       "      <td>...</td>\n",
       "      <td>...</td>\n",
       "      <td>...</td>\n",
       "      <td>...</td>\n",
       "      <td>...</td>\n",
       "      <td>...</td>\n",
       "      <td>...</td>\n",
       "      <td>...</td>\n",
       "      <td>...</td>\n",
       "      <td>...</td>\n",
       "      <td>...</td>\n",
       "      <td>...</td>\n",
       "    </tr>\n",
       "    <tr>\n",
       "      <th>13301</th>\n",
       "      <td>Built-up  Area</td>\n",
       "      <td>5 BHK</td>\n",
       "      <td>4.0</td>\n",
       "      <td>1</td>\n",
       "      <td>0.000000</td>\n",
       "      <td>23100000</td>\n",
       "      <td>3453.0</td>\n",
       "      <td>Yes</td>\n",
       "      <td>No</td>\n",
       "      <td>Yes</td>\n",
       "      <td>0</td>\n",
       "      <td>Kothanur</td>\n",
       "    </tr>\n",
       "    <tr>\n",
       "      <th>13302</th>\n",
       "      <td>Super built-up  Area</td>\n",
       "      <td>4 BHK</td>\n",
       "      <td>5.0</td>\n",
       "      <td>1</td>\n",
       "      <td>1.583956</td>\n",
       "      <td>40000000</td>\n",
       "      <td>3600.0</td>\n",
       "      <td>Yes</td>\n",
       "      <td>No</td>\n",
       "      <td>Yes</td>\n",
       "      <td>1</td>\n",
       "      <td>Annaiah Reddy Layout</td>\n",
       "    </tr>\n",
       "    <tr>\n",
       "      <th>13303</th>\n",
       "      <td>Built-up  Area</td>\n",
       "      <td>2 BHK</td>\n",
       "      <td>2.0</td>\n",
       "      <td>2</td>\n",
       "      <td>1.000000</td>\n",
       "      <td>6000000</td>\n",
       "      <td>1141.0</td>\n",
       "      <td>No</td>\n",
       "      <td>No</td>\n",
       "      <td>Yes</td>\n",
       "      <td>1</td>\n",
       "      <td>Vidyaranyapura</td>\n",
       "    </tr>\n",
       "    <tr>\n",
       "      <th>13304</th>\n",
       "      <td>Super built-up  Area</td>\n",
       "      <td>4 BHK</td>\n",
       "      <td>4.0</td>\n",
       "      <td>1</td>\n",
       "      <td>1.000000</td>\n",
       "      <td>48800000</td>\n",
       "      <td>4689.0</td>\n",
       "      <td>No</td>\n",
       "      <td>Yes</td>\n",
       "      <td>No</td>\n",
       "      <td>1</td>\n",
       "      <td>Raja Rajeshwari Nagar</td>\n",
       "    </tr>\n",
       "    <tr>\n",
       "      <th>13305</th>\n",
       "      <td>Super built-up  Area</td>\n",
       "      <td>1 BHK</td>\n",
       "      <td>1.0</td>\n",
       "      <td>1</td>\n",
       "      <td>1.000000</td>\n",
       "      <td>1700000</td>\n",
       "      <td>550.0</td>\n",
       "      <td>No</td>\n",
       "      <td>Yes</td>\n",
       "      <td>Yes</td>\n",
       "      <td>1</td>\n",
       "      <td>Hulimavu</td>\n",
       "    </tr>\n",
       "  </tbody>\n",
       "</table>\n",
       "<p>13305 rows × 12 columns</p>\n",
       "</div>"
      ],
      "text/plain": [
       "                  area_type   size  bathroom  parking   balcony     price  \\\n",
       "0      Super built-up  Area  2 BHK       2.0        2  1.000000   3907000   \n",
       "1                Plot  Area  4 BHK       5.0        1  3.000000  12000000   \n",
       "2            Built-up  Area  3 BHK       2.0        1  3.000000   6200000   \n",
       "3      Super built-up  Area  3 BHK       3.0        2  1.000000   9500000   \n",
       "4      Super built-up  Area  2 BHK       2.0        1  1.000000   5100000   \n",
       "...                     ...    ...       ...      ...       ...       ...   \n",
       "13301        Built-up  Area  5 BHK       4.0        1  0.000000  23100000   \n",
       "13302  Super built-up  Area  4 BHK       5.0        1  1.583956  40000000   \n",
       "13303        Built-up  Area  2 BHK       2.0        2  1.000000   6000000   \n",
       "13304  Super built-up  Area  4 BHK       4.0        1  1.000000  48800000   \n",
       "13305  Super built-up  Area  1 BHK       1.0        1  1.000000   1700000   \n",
       "\n",
       "       total_sqft hospital_nearby school_nearby mall_nearby  resale  \\\n",
       "0          1056.0              No            No         Yes       0   \n",
       "1          2600.0              No           Yes         Yes       1   \n",
       "2          1440.0              No           Yes         Yes       1   \n",
       "3          1521.0             Yes           Yes          No       0   \n",
       "4          1200.0              No            No         Yes       1   \n",
       "...           ...             ...           ...         ...     ...   \n",
       "13301      3453.0             Yes            No         Yes       0   \n",
       "13302      3600.0             Yes            No         Yes       1   \n",
       "13303      1141.0              No            No         Yes       1   \n",
       "13304      4689.0              No           Yes          No       1   \n",
       "13305       550.0              No           Yes         Yes       1   \n",
       "\n",
       "                       location  \n",
       "0      Electronic City Phase II  \n",
       "1              Chikka Tirupathi  \n",
       "2                   Uttarahalli  \n",
       "3            Lingadheeranahalli  \n",
       "4                      Kothanur  \n",
       "...                         ...  \n",
       "13301                  Kothanur  \n",
       "13302      Annaiah Reddy Layout  \n",
       "13303            Vidyaranyapura  \n",
       "13304     Raja Rajeshwari Nagar  \n",
       "13305                  Hulimavu  \n",
       "\n",
       "[13305 rows x 12 columns]"
      ]
     },
     "execution_count": 21,
     "metadata": {},
     "output_type": "execute_result"
    }
   ],
   "source": [
    "df1"
   ]
  },
  {
   "cell_type": "code",
   "execution_count": 22,
   "id": "08fe6ab5",
   "metadata": {},
   "outputs": [
    {
     "data": {
      "text/html": [
       "<div>\n",
       "<style scoped>\n",
       "    .dataframe tbody tr th:only-of-type {\n",
       "        vertical-align: middle;\n",
       "    }\n",
       "\n",
       "    .dataframe tbody tr th {\n",
       "        vertical-align: top;\n",
       "    }\n",
       "\n",
       "    .dataframe thead th {\n",
       "        text-align: right;\n",
       "    }\n",
       "</style>\n",
       "<table border=\"1\" class=\"dataframe\">\n",
       "  <thead>\n",
       "    <tr style=\"text-align: right;\">\n",
       "      <th></th>\n",
       "      <th>area_type</th>\n",
       "      <th>size</th>\n",
       "      <th>bathroom</th>\n",
       "      <th>parking</th>\n",
       "      <th>balcony</th>\n",
       "      <th>price</th>\n",
       "      <th>total_sqft</th>\n",
       "      <th>hospital_nearby</th>\n",
       "      <th>school_nearby</th>\n",
       "      <th>mall_nearby</th>\n",
       "      <th>resale</th>\n",
       "      <th>location</th>\n",
       "    </tr>\n",
       "  </thead>\n",
       "  <tbody>\n",
       "    <tr>\n",
       "      <th>0</th>\n",
       "      <td>Super built-up  Area</td>\n",
       "      <td>2 BHK</td>\n",
       "      <td>2.0</td>\n",
       "      <td>2</td>\n",
       "      <td>1.0</td>\n",
       "      <td>3907000</td>\n",
       "      <td>1056.0</td>\n",
       "      <td>No</td>\n",
       "      <td>No</td>\n",
       "      <td>Yes</td>\n",
       "      <td>0</td>\n",
       "      <td>Electronic City Phase II</td>\n",
       "    </tr>\n",
       "    <tr>\n",
       "      <th>1</th>\n",
       "      <td>Plot  Area</td>\n",
       "      <td>4 BHK</td>\n",
       "      <td>5.0</td>\n",
       "      <td>1</td>\n",
       "      <td>3.0</td>\n",
       "      <td>12000000</td>\n",
       "      <td>2600.0</td>\n",
       "      <td>No</td>\n",
       "      <td>Yes</td>\n",
       "      <td>Yes</td>\n",
       "      <td>1</td>\n",
       "      <td>Chikka Tirupathi</td>\n",
       "    </tr>\n",
       "    <tr>\n",
       "      <th>2</th>\n",
       "      <td>Built-up  Area</td>\n",
       "      <td>3 BHK</td>\n",
       "      <td>2.0</td>\n",
       "      <td>1</td>\n",
       "      <td>3.0</td>\n",
       "      <td>6200000</td>\n",
       "      <td>1440.0</td>\n",
       "      <td>No</td>\n",
       "      <td>Yes</td>\n",
       "      <td>Yes</td>\n",
       "      <td>1</td>\n",
       "      <td>Uttarahalli</td>\n",
       "    </tr>\n",
       "    <tr>\n",
       "      <th>3</th>\n",
       "      <td>Super built-up  Area</td>\n",
       "      <td>3 BHK</td>\n",
       "      <td>3.0</td>\n",
       "      <td>2</td>\n",
       "      <td>1.0</td>\n",
       "      <td>9500000</td>\n",
       "      <td>1521.0</td>\n",
       "      <td>Yes</td>\n",
       "      <td>Yes</td>\n",
       "      <td>No</td>\n",
       "      <td>0</td>\n",
       "      <td>Lingadheeranahalli</td>\n",
       "    </tr>\n",
       "    <tr>\n",
       "      <th>4</th>\n",
       "      <td>Super built-up  Area</td>\n",
       "      <td>2 BHK</td>\n",
       "      <td>2.0</td>\n",
       "      <td>1</td>\n",
       "      <td>1.0</td>\n",
       "      <td>5100000</td>\n",
       "      <td>1200.0</td>\n",
       "      <td>No</td>\n",
       "      <td>No</td>\n",
       "      <td>Yes</td>\n",
       "      <td>1</td>\n",
       "      <td>Kothanur</td>\n",
       "    </tr>\n",
       "  </tbody>\n",
       "</table>\n",
       "</div>"
      ],
      "text/plain": [
       "              area_type   size  bathroom  parking  balcony     price  \\\n",
       "0  Super built-up  Area  2 BHK       2.0        2      1.0   3907000   \n",
       "1            Plot  Area  4 BHK       5.0        1      3.0  12000000   \n",
       "2        Built-up  Area  3 BHK       2.0        1      3.0   6200000   \n",
       "3  Super built-up  Area  3 BHK       3.0        2      1.0   9500000   \n",
       "4  Super built-up  Area  2 BHK       2.0        1      1.0   5100000   \n",
       "\n",
       "   total_sqft hospital_nearby school_nearby mall_nearby  resale  \\\n",
       "0      1056.0              No            No         Yes       0   \n",
       "1      2600.0              No           Yes         Yes       1   \n",
       "2      1440.0              No           Yes         Yes       1   \n",
       "3      1521.0             Yes           Yes          No       0   \n",
       "4      1200.0              No            No         Yes       1   \n",
       "\n",
       "                   location  \n",
       "0  Electronic City Phase II  \n",
       "1          Chikka Tirupathi  \n",
       "2               Uttarahalli  \n",
       "3        Lingadheeranahalli  \n",
       "4                  Kothanur  "
      ]
     },
     "execution_count": 22,
     "metadata": {},
     "output_type": "execute_result"
    }
   ],
   "source": [
    "df1.head()"
   ]
  },
  {
   "cell_type": "code",
   "execution_count": 23,
   "id": "1958d70e",
   "metadata": {},
   "outputs": [],
   "source": [
    "df1['location'] = df1['location'].replace(['Rajaji Nagar','Binny Pete',\n",
    "'Domlur','Malleshwaram','Jai Bheema Nagar','Langford Town','KUDLU MAIN ROAD','Ulsoor','Indira Nagar','Sulthangunta','Kudlu',\n",
    "'Kathriguppe','Sadashiva Nagar','Indiranagar HAL 2nd Stage','Hosakerehalli Layout','Vasantha Vallabha Nagar','Williams Town',\n",
    "'Vasanth nagar','D Souza Layout','Seetharampalya','Poorna Pragna Layout','Kavika Layout','HOSUR MAIN ROAD','Nandi Durga Road',\n",
    "'Kumara Park','Victoria Layout','Shivaji Nagar','Chennammana Kere','Kathreguppe','Cambridge Layout','1st Stage Indira Nagar',\n",
    "'Dollars Layout','Cleveland Town','Domlur Layout','Indira Nagar 3rd Stage','Jayamahal Extension','Lavelle Road',\n",
    "'6th Block Rajaji Nagar','1st Stage Domlur','Lakkasandra','Seshadripuram','Cottonpet','Maruthi Extension','Srinivas Colony',\n",
    "'Subash Nagar','Langford Gardens','Lakkasandra Extension','Gandhi Nagar','Vittal Mallya Road','High grounds','TR Mill Road, Chamarajpet',\n",
    "'Rest House Road','Neelasandra','Yediyur','KG Halli','Cubbon Road','Veerabhadra Nagar','Indira Nagar Stage 2','Bilal Nagar',\n",
    "'Church Street','poornaprajna layout','Kathriguppe IV Phase','Chikku Lakshmaiah Layout','Ashok Nagar','Hoskote near',\n",
    "'Infantry Road','Anantapuram','Xavier Layout','Chikbasavanapura','Subhash Nagar','Jogupalya','Sindhi Colony','Abshot Layout', 'Ashwath Nagar'], 'Central Region')"
   ]
  },
  {
   "cell_type": "code",
   "execution_count": 24,
   "id": "9b46feb7",
   "metadata": {},
   "outputs": [],
   "source": [
    "df1['location'] = df1['location'].replace(['Whitefield','Old Airport Road','Marathahalli','Bellandur','Ramagondanahalli',\n",
    "'Bhoganhalli','Lakshminarayana Pura','Varthur','Gunjur','Kodanda Reddy Layout','Garudachar Palya','EPIP Zone','Devasthanagalu',\n",
    "'Kadugodi','Anandapura','Kannamangala','CV Raman Nagar','Pattandur Agrahara','Panathur','Nagondanahalli','Off Sarjapur Road,', \n",
    "'Kullappa Colony','Mukkutam Nagar','Ncpr Industrial Layout','Kundalahalli Colony','Ambedkar Nagar','Old Madras Road',\n",
    "'Kaggadasapura','Silver Springs Layout','AECS Layout','Munnekollal','Thigalarapalya','Ardendale','Kodihalli','Narayanapura',\n",
    "'Mahadevpura','Hoodi Circle,', 'Sompura','Dodda Nekkundi','Hoodi','Samethanahalli','Kada Agrahara','Yemlur, Old Airport Road,', \n",
    "'K G Colony','Marathalli bridge','Dooravani Nagar','JCR Layout','Hosapalya','Varthur Road','Anjappa Layout','Sadaramangala',\n",
    "'Green Garden Layout','Jeevan bima nagar','Narayana Nagar 1st Block','Basavanagara','Belathur','Thubarahalli','Kaverappa Layout',\n",
    "'Devarabisanahalli','NRI Layout','ITPL','Nagappa Reddy Layout','Kariyammana Agrahara','Binnamangala','Basava Nagar',\n",
    "'Channasandra','Kacharakanahalli','Bidere Agarahara, Behind Safal market','Gopalkrishna Nagar','Sai Gardens','Byappanahalli',\n",
    "'Pai Layout','ECC Road, Whitefield,', 'Devasandra Extension','Sarjapur Road,', 'Varthur Road,', 'Green Woods Layout',\n",
    "'Immadihalli','Manjunatha Layout','Abbaiah Reddy Layout','KPC Layout','Rustam Bagh Layout','New Thippasandra','Kumbena Agrahara',\n",
    "'Pai layout , Mahadevapura','Laggere','Prithvi Layout','Vijinapura','Badavala Nagar','Belatur','Nallurhalli','Chinnapanahalli',\n",
    "'Laxmi Sagar Layout','Nagavarapalya','Tasker Town','Sir M V Nagar','Yemlur','Doopanahalli','Alfa Garden Layout','Hoodi Layout',\n",
    "'Someshwara Layout','Channasandra Layout','HAL 3rd Stage','B Channasandra','Arehalli','Cambridge  road',\n",
    "'Hennur Gardens','Bharathi Nagar','Thanisandra Main Road,', ' Bhoganhalli','Amruthnagar','Bidadi','Dodsworth Layout',\n",
    "'HAL 2nd Stage',' Devarabeesana Halli','Viswajit Layout','Volagerekallahalli','Hagadur','Jyothi Nagar','Raghuvanahalli',\n",
    "'Geddalahalli','Kumbhena Agrahara','Challaghatta','KR Garden','Mallathahalli','Laxminarayana Layout','white field,kadugodi',\n",
    "'Crimson Layout','Maithri Layout','Geetanjali Layout','EPIP AREA, WHITEFIELD','Hadosiddapura','1 Annasandrapalya',\n",
    "'Kuvempu Nagar','Prasanth Extension','Indranagar  100ft road defence colony','BEML Layout 5th stage','Ramesh Nagar',\n",
    "'A Narayanapura','Jinkethimmanahalli','Vimanapura','Bidrahalli','whitefiled','N R Layout','Brooke Bond First Cross',\n",
    "'Chikkakannalli','Thanisandra main road','Doddabanahalli','1Channasandra','Whitefield,', 'Udaya Nagar',' Whitefield',\n",
    "'Indra Nagar','Puttappa Layout','Bethel Nagar','Bennigana Halli','Bellandur,','Marasandra','Kalkere Channasandra',\n",
    "'Rainbow Drive','Dasappa Layout','Krishna Reddy Layout','Sathya Layout','Chennappa Layout','Sadanand Nagar','Whietfield,', \n",
    "'Kasthuri Nagar East Of NGEF','Amrita Nagar','Tigalarpalya','sarjapura main road','M V Extenstion','Ankappa Layout',\n",
    "'1 Immadihalli','Krishna Nagar','Uday Nagar','Chaitanya Ananya','Konena Agrahara','Raghavendra Layout','Varsova Layout',\n",
    "'Bhattarahalli','HAL Layout','Satyasaibaba Layout','Queens Road','Jagadish Nagar','SARJAPUR BAGALUR ROAD',\n",
    "'Rajasree Layout','Brindavan Layout','Annasandrapalya','Panathur Road,', 'Michael Palaya','Akash Nagar','Postal Colony',\n",
    "'Ashraya Layout','Whitefield ECC Road','Ayappa Nagar','Hal old airport road','Maheswari Nagar','Versova Layout',\n",
    "'Halanayakanahalli','Air View Colony','akshaya nagar t c palya','mvj engineering college','Sadhguru Layout','Doddanakunte',\n",
    "'Masjid e Alkareem','Kundalahalli','Murugeshpalya', ' Thanisandra', 'Hoodi Circle,', 'Yemlur, Old Airport Road, ',\n",
    "'ECC Road, Whitefield,', 'Varthur Road,', 'Garden Layout', 'Hoodi Circle,', 'Kudlu Village,', 'Thanisandra Main Road, ',\n",
    "'Yemlur, Old Airport Road, ', 'Kudlu Village,', 'Whitefield, ', 'Whietfield, ', 'Panathur Road, ', 'Whitefield, ', 'ECC Road, Whitefield, ' ], 'East Region')"
   ]
  },
  {
   "cell_type": "code",
   "execution_count": 25,
   "id": "4b1cc2d0",
   "metadata": {},
   "outputs": [],
   "source": [
    "df1['location'] = df1['location'].replace(['KR Puram','1 Ramamurthy Nagar','Banaswadi','Lingarajapuram','3rd Block HBR Layout',\n",
    "'Devanahalli','Ramamurthy Nagar','Hormavu','Ramaswamy Palya - Kammanahalli Main Road','Kalyan nagar','Horamavu Agara',\n",
    "'Balagere','Banjara Layout','Kammanahalli','HBR Layout','Horamavu Banaswadi','Frazer Town','Cooke Town','5th Block Hbr Layout',\n",
    "'Chikka Banaswadi','Outer Ring Road East','Devanahalli Road','Malimakanapura','frazertown','Subramanyanagar',\n",
    "'Chokkasandra','Hoskote','Ramamohanapuram','Pulkeshi Nagar','Banaswadi,', 'T c palya','Doddakammanahalli','Ganesha Block',\n",
    "'Maragondana Halli, kr puram, old madras road','Dodda Banaswadi','Pulikeshi Nagar','Ckikkakammana Halli','Kalhalli',\n",
    "'Near International Airport','Fraser town','Shettihalli','1st Block HBR Layout','Ramamurthy Nagar Extension',\n",
    "'T C Palya main Road', 'Haralur Road, ', 'Hoodi Circle, ','PNS Layout',' Banaswadi','Shingapura','2nd Block Hbr Layout','Garebhavipalya','cooketown',\n",
    "'kamanahalli main road','Viviani Road','Anwar Layout','4th Block HBR Layout','Jeevanhalli','Banasawadi,', 'Amam Enclave Layout',\n",
    "'Dominic Layout','Wheelers Road','Sarvobhogam Nagar','Banaswadi, ', 'Banasawadi, '], 'North-East Region')"
   ]
  },
  {
   "cell_type": "code",
   "execution_count": 26,
   "id": "2db53fba",
   "metadata": {},
   "outputs": [],
   "source": [
    "df1['location'] = df1['location'].replace(['Chikka Tirupathi',\n",
    "'Palace Guttahalli','Bhagyalakshmi Avenue','Vyalikaval','Balaji Gardens Layout',\n",
    "' Rachenahalli', 'Dr Shivarama Karantha Nagar', 'Adityanagar'], 'North-West Region')"
   ]
  },
  {
   "cell_type": "code",
   "execution_count": 27,
   "id": "75d2f7c6",
   "metadata": {},
   "outputs": [],
   "source": [
    "df1['location'] = df1['location'].replace(['Uttarahalli','Lingadheeranahalli','Kothanur','Gandhi Bazar','7th Phase JP Nagar',\n",
    "'Gottigere','Mysore Road','Mangammanapalya','Kanakpura Road','Chikkalasandra','Doddathoguru','Himagiri Meadows','Begur Road',\n",
    "'Govindaraja Nagar Ward','Devarachikkanahalli','Double Road','Haralur Road','Kothannur','Kalena Agrahara','ISRO Layout',\n",
    "'Kasavanhalli',' Mysore Highway','Sarjapura - Attibele Road','Chandapura','Shantiniketan Layout','Lakshmiamma Garden',\n",
    "'Akshaya Nagar','LB Shastri Nagar','Vajarahalli','Vishwapriya Layout','Kudlu Gate','8th Phase JP Nagar','Basavanapura',\n",
    "' Devarachikkanahalli','Hulimavu','Yarandahalli','Hosa Road','Kothnur Narayanapura','Attibele','CHIKKATIRUPATHI','Kumaraswami Layout',\n",
    "'Ejipura','Padmanabhanagar','1st Block Jayanagar','Muthurayya Swamy Layout','Dommasandra','Mylasandra','Bank Of Baroda Colony',\n",
    "'Shree Ananth Nagar Layout','Talaghattapura','Jigani','9th Phase JP Nagar','Giri Nagar','Singasandra','Mallasandra','Begur',\n",
    "'JP Nagar','Sunder Ram Shetty Nagar','Malleshpalya','Kodathi','Akshaya Vana','Kaggalipura','Basavanna Nagar','6th Phase JP Nagar',\n",
    "'Somasundara Palya','Bull Temple Road','Suragajakkanahalli','Harlur','Banashankari3rd stage bigbazar','Bannerghatta Road',\n",
    "'5th Phase JP Nagar','Billekahalli','Anekal','Hosur Road','Ambalipura','Brookefield','Suddaguntepalya','Udayapur Village',\n",
    "'Vittasandra','1 Giri Nagar','NS Palya','Subramanyapura','Basavangudi','Omkar Nagar','Maragondanahalli','Silk Board',\n",
    "'Kambipura','Banashankari Stage III','Ittamadu','Rajiv Nagar','Gattahalli','Arekere','Ramanjaneyanagar','Mico Layout','7th Block Jayanagar',\n",
    "'2nd Phase JP Nagar','Banashankari','Ashwini layout','Kanakapura','Venkatapura','Sneha Colony','Konanakunte','Doddagubbi',\n",
    "'Margondanahalli','ITI Layout','Vasanthapura','6th block banashankari 3rd stage, 100 feet ORR','Poornapragna Housing Society Layout',\n",
    "'Hosakerehalli','Huskur','Shanthala Nagar','Srinivasa Nagar','Byrathi Village','Kodichikkanahalli','Anjanapura','B Narayanapura',\n",
    "'Gubbalala','Dairy Circle','Parappana Agrahara','KSRTC Layout','V.V Puram','Banashankari Stage VI','Kalasipalya','Yelachenahalli',\n",
    "'Hennagara','Green Glen Layout','BAGUR','Naganathapura','1st Phase JP Nagar','NGR Layout','sapthagiri Layout','Seegehalli',\n",
    "'Thurahalli','Weavers Colony','KR Layout''Suraksha Nagar','Lakshmi Layout''Ananth Nagar','Basapura','Singena Agrahara',\n",
    "'Mango Garden Layout','Choodasandra','Hanumanth Nagar','Kaikondrahalli','Neeladri Nagar','Jaya Nagar East','Iggalur',\n",
    "'Doddakallasandra','Chamrajpet','VGP Layout','Classic Paradise Layout','Rayasandra','Kalkere','Siddapura','Roopena Agrahara',\n",
    "'Banashankari Stage V','Sonnenahalli','Rukmaiah Layout','2nd Phase Judicial Layout','Byadarahalli','Vinayaka Nagar',\n",
    "'Banashankari Stage II','GB Palya','9th Block Jayanagar','Karuna Nagar','Gaurava Nagar','AGS Layout','Srinagar','Bannerghatta',\n",
    "'Maruthi HBCS Layout','Craig Park Layout','Banagiri Nagar','Bharath Housing Society Layout','3rd Block Jayanagar','Konanakunte Cross',\n",
    "'Tavarekere','Daadys Gaarden Layout','Marsur','Garden Layout''Akshayanagara East','Doddanekundi','Venkatadri Layout','Bommenahalli',\n",
    "'Vittal Nagar','3rd Block Banashankari','Kadarenahalli','5th Stage BEML Layout','Jaya Mahal layout','Lalbagh Road','Vignana Nagar',\n",
    "'Hongasandra','Harappanahalli','NR Colony','Agara Village','Shettigere','Byagadadhenahalli','Remco Bhel Layout','Panduranga Nagar',\n",
    "'Bikasipura','kanakapura road','Sundar Ram Shetty Nagar','Gowdanapalya','Gaundanapalya','Sunkadakatte','Vishwapriya Nagar',\n",
    "'Sarakki Nagar','Thyagaraja Nagar',' ittamadu','Doddakannelli','Jayanagar','banashankari stage iii sa',' Anekal','Friends Colony',\n",
    "'Thavarekere','Keerthi Layout','Shikaripalya','Reliable Woods Layout','4th T block Jayanagar','Popular Colony','Banashankari 6th Stage ,Subramanyapura',\n",
    "'Virat Nagar','Chennammanakere Achukattu','Jp nagar 8th Phase .','Nobo Nagar','Kanakapura Road','J P Nagar 7th Phase Ramayya City',\n",
    "'Bellari Road','1Hanuman Nagar','Wilson Garden','Nyanappana Halli','Sahyadri Layout','Bagalur','Vinayak Nagar','P Krishnappa Layout',\n",
    "'Hanumantha Nagar','MLA Layout','Nagadevanahalli','Celebrity Paradise Layout','Banashankari 2nd Stage','Marenahalli',\n",
    "'JP Nagar 8th Phase,', 'Kachanayakanahalli','Nagaraja Garden','JP nagar 9th Phase,', '4th Block Jayanagar','Canara Bank Colony',\n",
    "'Hanumagiri','Akshayanagara West','Chikkathoguru','Junnasandra','Sarvabhouma Nagar','Banashankari stage 2','Chikkadunnasandra',\n",
    "'Gattigere','Sampangi Rama Nagar','Pragathi Nagar','1st Stage Radha Krishna Layout','Vasantapura main road','Venugopal Reddy Layout',\n",
    "'Lake City','Meenakshi Layout','S R Layout','JP Nagar 7th Phase,', 'Sadduguntepalya','Glass Factory Layout','Basnashankari,6th stage,',\n",
    "'Saptagiri Layout','Kempegowda Nagar','4th Phase JP Nagar','K R C kothanur','2nd Block Jayanagar','Ilyas Nagar','3rd Phase JP Nagar',\n",
    "'kanakapura main road','Reliaable Tranquil Layout','Mailasandra','8th Block Jayanagar','Lal Bahadur Shastri Nagar',\n",
    "'Omarbagh Layout','Aishwarya Crystal Layout','DUO Layout','Carmelaram',' south','Jakkasandra Extension','Arekempanahalli',\n",
    "'Hullahalli','Chickpet','T G extension','rr nagar','J.P.nagar 6th Phase.Sarakki Nagar','Doddabele','Shanti Nagar',\n",
    "'2nd Stage Arekere Mico Layout','Veer Sandra','Kothnoor Dinne','Vasanthpura','Chikka Gowdanapalya.','Nirman Layout','Vikram Nagar',\n",
    "'RR Layout','Billapura','Janatha Colony','Anekal - Hosur Road','2nd phase jp nagar, jp nagar','BEML Layout 5th Stage',\n",
    "'Narayanappa Garden','Upadhyaya Layout','bsk 6th stage 2ad block near sri conversation hall',\n",
    "'Annapoorneshwari Layout, JP nagar 7th phase','elachenahalli','Vivek Nagar',' Basavangudi','Banashankari 6th stage , 2nd block',\n",
    "'Vidhyanagar Cross','6th Block Jayanagar','T R Mill Road','Hommadevanahalli','Navodaya Nagar''Kanakapura Main Road',\n",
    "'Suryanagar','Duvasapalya','BCMC Layout','Byrasandra Extension','Sugama Layout','Anugrah Layout','Bandepalya','Bettadasanapura',\n",
    "'Gulimangala','Addischetan Layout','Bande Nallasandra','Vidya Nagar','SHANTHINAGAR','Jay an agar 4 T Block','Koppa','RR Nagar',\n",
    "'3rd Phase Iti Layout','Phase 1 Kammasandra','Deepanjali Nagar','Konappana Agrahara','Thirumalashettyhally','5th Block Jayanagar',\n",
    "'Jayanagar,', 'Neelamangala','Banashankari 6th Stage','PC Palaya','Soppahalli','Jayanti Nagar','Ramanashree Enclave',\n",
    "'Banashankari 2 nd Stage','Rajapura','Thirupalya','Off Bannergatta road','Haralur Road,', 'RK Colony','Vasatha Vallbha Nagar',\n",
    "'BAGUR ROAD','Shanthi Pura','Sampangirama Nagar','Doctor Layout Rayasandra','AECS LAYOUT A-BLOCK Singasandra','Banashankari Stage I',\n",
    "'RBI Layout','Shauhardha Layout','Harohalli','Anathanagar','vinayakanagar','Jaraganahalli Jp Nagar Post','adigondanhalli',\n",
    "'Off Bannergatta Road','Kanakapura  Rod','Prasanti Nagar','Old Mangammanapalya Road','1Kasavanhalli','Kanakapura Road,', \n",
    "'Ramanagara Channapatna','Thyagraj Nagar','Banagirinagar','Udayagiri','Chikkanahalli','Banashankari 3rd stage, Vivekanandanagar',\n",
    "'LIC Colony','Chuchangatta Colony','Hanuman Nagar','Gulakamale','Zuzuvadi','Kanakapura main  Road','Kanakapur Main road',\n",
    "'Tilak Nagar','12th cross srinivas nagar banshankari 3rd stage','Off Sarjapur Road, KR Layout', 'Lakshmi Layout',\n",
    "'Sarjapur Road,', 'Off Sarjapur road,', 'JP Nagar 8th Phase,', 'JP nagar 9th Phase,','KR Layout', ' Electronic City',\n",
    "'Electronic city Phase 1,', 'JP nagar 9th Phase,','HSR Layout 7th sector,','Jayanagar,', 'Near Electronic City,', 'Electronic City Phase 1, ',\n",
    "       'Electronic city Phase 1, ', 'Sarjapur Road, ',\n",
    "       'Electronic city phase 1, ',\n",
    "       'Judicial Layout, Kanakapura Road, ',\n",
    "       'Kanakapur main road', 'Kanakapura Main Road',\n",
    "       'Kanakapura Road, ', 'Kudlu Village, ',\n",
    "       'Near Electronic City, ', 'Suraksha Nagar',\n",
    "       'Varthur Road, ',\n",
    "       'Off Sarjapur Road, ', 'Off Sarjapur road, ',\n",
    "' Sector 1 HSR Layout','Kanakapura Road,'], 'South Region')"
   ]
  },
  {
   "cell_type": "code",
   "execution_count": 28,
   "id": "cc975536",
   "metadata": {},
   "outputs": [],
   "source": [
    "df1['location'] = df1['location'].replace(['Bisuvanahalli''Ramakrishnappa Layout','Manayata Tech Park','Thanisandra', 'Thanisandra',\n",
    "'Yelahanka','Hebbal','Kasturi Nagar','Ganga Nagar','Adarsh Nagar','Tharabanahalli','Hegde Nagar','Hennur Road',\n",
    "'Cholanayakanahalli','Kaval Byrasandra','Dasanapura','Sanjay nagar','T Dasarahalli','Yeshwanthpur','Peenya','Jalahalli West',\n",
    "'Byatarayanapura','Shampura','Dinnur','Sanjeevini Nagar','Keshava Nagar','RMV Extension','Tejaswini Nagar','Nagavara',\n",
    "'Hebbal Kempapura','Jakkuru Layout','MS Pallya','Nagasandra','Kogilu','Kammasandra','Tala Cauvery Layout','Dasarahalli',\n",
    "'Magadi Road','Budigere','Dodda Nekkundi Extension','Dr Shivarama Karantha Nagar''Ashwath Nagar','Meenakunte','OMBR Layout',\n",
    "'Anand Nagar','MCECHS  layout','Coffee Board Layout','Geleyara Balaga Layout','Sundara Nagar','Srirampura','Jakkur','TC Palaya',\n",
    "'Maruthi Sevanagar','RMV 2nd Stage','Motappa Layout','T.C PALYA','Muneshwara Nagar','Prashanth Nagar','Sampigehalli','RMV',\n",
    "'Bagalur Main Road','Hennur','Kodigehaali','Gopalapura','Jalahalli','Ashirvad Colony','K N Extension','Battarahalli',\n",
    "'Gokula Extension','Sultan Palaya','Sanne Amanikere','Amco Colony','Yelenahalli','Richmond Town','Thippasandra','Chikkabidarakallu',\n",
    "'Hoysalanagar','Defence Colony','Vidyaranyapura','Amruthahalli','Kodigehalli','Patelappa Layout','Kenchenahalli','3rd Block Hrbr Layout',\n",
    "'Bank Avenue','Surabhi Layout','Kereguddadahalli','BHEL Layout','Medahalli','Kashi Nagar','Chikkabanavar','HRBR Layout','Nehru Nagar',\n",
    "'R.T. Nagar','Tumkur Road','Hosahalli','GM Palaya','near Ramanashree California resort''Jalahalli East','Bettahalsoor',\n",
    "'Ambedkar Colony','Avalahalli','Prakruthi Nagar','Abbigere','Tindlu','P&T Colony','Cunningham Road','Chelekare','Palanahalli',\n",
    "'Vadarpalya','HMT Layout','Cox Town','4 BHK Farm House in Bagalur','Yelahanka New Town','Sahakara Nagar','manyata park',\n",
    "'Rachenahalli','Vishwanatha Nagenahalli','Singapura Village','Ferrar Nagar','M.G Road','Divya Unnathi Layout','Alur',\n",
    "'Dwarka Nagar','Hallehalli','Kattigenahalli','Raghavendra Nagar','Babusapalaya','Kempapura','Hessarghatta','Kadugondanahalli',\n",
    "'2nd Block Hrbr Layout','Canara Bank Layout','Dodda Kempaiah Layout','Hunasamaranahalli','RWF West Colony','Bileshivale',\n",
    "'Chokkanahalli','Chikkaballapur','T.C. Palya','Makali','Vibuthipura','Defence Layout','Coconut Garden','Devanahalli Int. Airport',\n",
    "'Puttanahalli','Benson Town','1st Block HRBR Layout','Judicial Layout','Hennur Busstop','AMS Layout','Ashwathnagar','Brigade Road',\n",
    "'Hiremath Layout','Chikkasandra','Thirumenahalli','Maruthi Nagar','Kallumantapa','T K Reddy Layout','Bhuvaneshwari Nagar',\n",
    "'P&T Layout','Byrasandra','SBM Colony','Veerannapalya','Chowdeshwari Layout','Mathikere Extension','Anantapura','Govindpura',\n",
    "'BEL Road','Maruthi Layout','Sri Venkateshpura Layout','Jakkur Plantation','Srirampuram','Race Course Road','Gkvk Layout',\n",
    "\"St. John's Road\",'Sathanur','Kaveri Nagar','JakkurYelahanka','Gunjur Palya','Doctors Layout','Austin Town','Rajagopala Nagar',\n",
    "'Bahubali Nagar','Lottegolla Halli','Vibhutipura Extension','Dollars Colony','Howthinarayanappa Garden','Mathikere',\n",
    "'Sri Balaji Krupa Layout','Virgonagar''Adityanagar','BDS Layout','Shanthi Layout','Esther Enclave Layout','Ganga Nagar Extension',\n",
    "'Huttanahalli','Amarjyothi Colony','Chikkabettahalli','Bhuvaneswari Nagar','Varanasi','Gopal Reddy Layout','sankeswari',\n",
    "'Dhanalakshmi Layout','Green Domain Layout','Nanjappa Layout','Sri Kanteshwara Nagar','Tata Nagar','RK Layout 2nd Stage',\n",
    "'Tirumanahalli','Brindavan Nagar','Mariyannapalya','Palace Road','Narayanappa Layout','Kanakadasa Layout','Mathikere SBM colony',\n",
    "'Bagalakunte','Goraguntepalya','Rajankunte','Kyalasanahalli','St Thomas Town','Kumarapalli','Nagawara Junction','Nanjappa Garden',\n",
    "'Vayunandana Layout','Kenchenhalli','RMV extension stage 2, rmv extension','Anand nagar','Handenahalli','manyata tech park',\n",
    "'CQAL LAYOUT C BLOCK','Doddanakundi Industrial Area 2','OLd Gurappanapalya','Wajid layout thanisandra','Achins Road',\n",
    "'singapura paradise','Kannur','Amblipura','CQAL Layout','Old Town','Vidyapeeta','GD Layout','Shirdi Sai Nagar','J C Nagar',\n",
    "'Medi Agrahara','Subbannaiah Palya','Richards Town','Manorayana Palya','Madanayakahalli','Jaladarsini Layout','Attur Layout',\n",
    "'Near ullas theater','Yeshwanthpur Industrial Suburb','Nandi Hills','Vaderahalli','Singanayakanahalli','Vaishnavi Layout',\n",
    "'Thomas Town','Manganahalli','t.c palya','Basvasamithi Layout Vidyaranyapura','Atmananda Colony','Baba Nagar','Badrappa Layout',\n",
    "'Kirloskar Layout','tc.palya','Dollar Scheme Colony','anjananager magdi road','Kodipalya','Gokaula Extension','Hennur Bande',\n",
    "'ravindra nagar, T.dasarahalli peenya','1st Block BEL Layout','Prakruthi Township','Seethappa Layout','Shakthi Nagar',\n",
    "'Malur Hosur Road','Lakshmipura Vidyaanyapura','Rajanna Layout','Rahat Bagh','Escorts Colony','asha township, off hennur road',\n",
    "'NTI Layout','Sonam Layout','Chamundi Nagar','Gangondanahalli','Kuvempu Layout','GKW Layout','Venkateshpuram','Judicial Layout, Kanakapura Road', \n",
    "'Sadahalli','Jayamahal','RMV Extension Stage 2','Dena Bank Colony','Chokkahalli','Telecom Layout','Virupakshapura',\n",
    "'Muthyala Nagar','Coconut Grove Layout','2nd Block Bel Layout','Manonarayanapalya','Kamdhenu Nagar','Ganganahalli',\n",
    "'Ex-Servicemen Colony Dinnur Main Road R.T.Nagar','CMH Road','B K Nagar','Punappa Layout','Pampa Extension','Jaymahal Road',\n",
    "'Agrahara Dasarahalli','Guni Agrahara','Shankarapuram','Shetty Halli','AGB Layout','Nagashetty Halli','Sri Sai Layout',\n",
    "'Devara Jeevanahalli','SK Garden','Naidu Layout','Behind Don Bosco Church','Somanna Garden','Ananthapura, T C palaya Main Road',\n",
    "'KEB Colony','Vinayaka Layout','Bharathnagar','Millers Road','Madavara','Dwaraka Nagar','Chambenahalli','Ramchandrapuram',\n",
    "'1Hoysalanagar','Aavalahalli','Bharat Nagar','Yelahanka,MVIT college','Pillahalli','Chikkagubbi','Kammagondahalli',\n",
    "'Nanjappa Layout Vidyaranyapura','Rammana Layout','Govindapura','kg halli jalhalli west','RMC YARD','Pillanna Gardens',\n",
    "'Bhoopsandra','Richmond Road','MEI layout, Bagalgunte','Gubbi Cross, Hennur Main Road','Sabari Nagar','Maruthi nagar kogilu',\n",
    "'Billamaranahalli','Sunkan palya','Gayathri Nagar','Allalasandra','Medaralli','Chikkajala','Rahmath Nagar','Park View Layout',\n",
    "'Annaiah Reddy Layout','manyata','Mallappa Layout','MM Layout','Chellikere','Havanur extension',\n",
    "'Bisuvanahalli', 'Jalahalli East','Navodaya Nagar','Ramakrishnappa Layout','near Ramanashree California resort'], 'North Region')"
   ]
  },
  {
   "cell_type": "code",
   "execution_count": 29,
   "id": "072ecec2",
   "metadata": {},
   "outputs": [],
   "source": [
    "df1['location'] = df1['location'].replace(['Raja Rajeshwari Nagar','Kengeri','Green View Layout','Nagarbhavi','Chandra Layout',\n",
    "'Vishveshwarya Layout','Kengeri Satellite Town','Mahalakshmi Layout','Vijayanagar','Ngef Layout','Gollarapalya Hosahalli',\n",
    "'Basaveshwara Nagar','Binny Mills Employees Colony','Kamakshipalya','2nd Stage Nagarbhavi','ITI Employees Layout',\n",
    "'Ring Road Nagarbhavi','VHBCS Layout','Herohalli','Papareddipalya','Teachers Colony','Shivanagar','Shirdi Sai Layout',\n",
    "'Sathya Sai Layout','BEML Layout','Sidedahalli','Manjunath Nagar','Grihalakshmi Layout','Gollahalli','Kengeri Satellite Town ( BDA SITE)',\n",
    "'Jnanabharathi Layout','Mahaganapathy Nagar','Andrahalli','IVC Road','BSM Extension','Kamakya Layout','Nelamangala',\n",
    "'Kanaka Nagar','Kenchanehalli R R Nagar','Sree Narayana Nagar','Tunganagara','Basaveshwara Nagar Yelahanka','Attiguppe',\n",
    "'Kirloskar layout, Basaveshwarnagar','Arasanakunte','Upkar Layout','Nandini Layout','Kumbalgodu','Sampige Layout',\n",
    "'Kurubarahalli','Kengeri Hobli','Tippenahalli','Srigandada Kaval','Nayandanahalli','Soundarya Layout','Govindraja Nagar',\n",
    "'Syndicate Bank Colony','M C Layout','BEL Layout','Vijaya Bank Layout','Rajarajeshwari Nagara','Munivenkatppa Layout',\n",
    "'Kamala Nagar','Raja Rajeshwari Nagar 5th Stage','Vijaya Bank Colony''Karnataka Shabarimala','Weavers Colony','SMV layout',\n",
    "'Uvce Layout','Rajarajeshwari nagar','Rajarajeshwarinagar','Bapuji Layout','Lakshmipura','Okalipura','Kithaganur',\n",
    "'Mahalakshmi Puram','Milk Colony','Vijayabank bank layout','D Group Employees Layout','Hosahalli Extension',\n",
    "'Housing Board Layout Vijay Nagar','Moodalapalya','RTO ullalu','Ullal Uppanagar','Hegganahalli''Nagarbhavi  BDA Complex',\n",
    "'Gidada Konnenahalli','CR Layout','MRCR Layout','Ullal Road','Jagajyothi layout','Devi Nagar','Jnana Ganga Nagar','Mullur',\n",
    "'Lavakusha Nagar','Kadabagere','Guddadahalli','Nrupathunga Nagar','KHB Colony Extension','Anjana Nagar','Subramanya Nagar',\n",
    "'Veersandra','Harsha Layout','Vijay Nagar','Mudalpalaya','Basaveswarnagar','Nagarbhavi Garden Villas Layout',\n",
    "'Kengeri Satellite Town Stage II','Annapurneshwari Nagar','RPC layout','B Y Raveshwara Nagar','Asthagrama Layout',\n",
    "'Rajarajesheari nagar','Virudhu Nagar','Prakash Nagar','Gnana Bharathi','Gollarahatti','Venkateswara Nagar',\n",
    "'Raja Rajeshwari Nagara','Balepet','Javarandoddi','Vijaypura','Bapuji Nagar','pavitra paradise','Raja Rajashweri Nagar',\n",
    "'basaveshwarnagar','3rd Stage Raja Rajeshwari Nagar','KAMAKIYA','beml layout, basaveshwara nagar', 'Hegganahalli', 'Nagarbhavi  BDA Complex',\n",
    "'Kengeri Satellite Town KHB Apartment','Beml layout, Rajarajeshwari nagar','Prasanna layout Herohalli','Pattegarhpalya'], 'West Region')"
   ]
  },
  {
   "cell_type": "code",
   "execution_count": 30,
   "id": "baa85a6b",
   "metadata": {},
   "outputs": [],
   "source": [
    "df1['location'] = df1['location'].replace(['SRINIVASAPURA','Akshya Nagar','BCC Layout','Doddabidrakallu','Kudlu Village,', \n",
    "'Rajiv Gandhi Nagar','Prestige Sunrise', 'Ananth Nagar','Haralur Road,, Suraksha Nagar','Karnataka Shabarimala',\n",
    "'Virgonagar','Vijaya Bank Colony','Viswapriyanagar.begur Road.bommanahalli.','West of Chord Road'], 'South-West Region')"
   ]
  },
  {
   "cell_type": "code",
   "execution_count": 31,
   "id": "14f52af2",
   "metadata": {},
   "outputs": [],
   "source": [
    "df1['location'] = df1['location'].replace(['Electronic City Phase II','Sarjapur','Electronic City','Electronics City Phase 1',\n",
    "'Sarjapur  Road','HSR Layout','Bommanahalli','Bommasandra Industrial Area','8th block Koramangala','Koramangala',\n",
    "'Lakshminarayanapura, Electronic City Phase 2','Bommasandra','Sector 7 HSR Layout','Sector 6 HSR Layout','New Gurappana Palya',\n",
    "'Sector 3 HSR Layout','Kodbisanhalli','Bendiganahalli','BTM 1st Stage','Iblur Village','Sector 1 HSR Layout','Viswapriyanagar.begur Road.bommanahalli',\n",
    "'2Electronic City Phase II','Sector 2 HSR Layout','4th Block Koramangala','BTM Layout','Doddabommasandra','BTM 2nd Stage',\n",
    "'1st Block Koramangala','Doddaballapur','5th block Koramangala','Sector 4 HSR Layout','Pattanagere','Kadubeesanahalli',\n",
    "'Off Sarjapur road', 'Koramangala Industrial Layout','Madiwala','6th block Koramangala','Near Electronic City',  'Electronic City',\n",
    "'Ananthanagar Phase 1,Electronic City , phase 2','3rd Block Koramangala','1A Block Koramangala','BTM 4th Stage','2nd Block Koramangala',\n",
    "'Stage-4 Bommanahalli','BTM Layout 1stage 9th Main', 'Sector 1 HSR Layout','BTM Layout 2nd Stage 1st Phase','Electronic city Phase 1', \n",
    "'HSR Layout 7th sector', 'HOSUR RMAIN ROAD','7th Block Koramangala','Adugodi','Electronic city phase 1', 'Hsr layout sector3',\n",
    "'kadubisnahalli','Arishinakunte','Devarabeesana Halli','Electronic City Phase 1', 'Duddanahalli','Jakkasandra', 'JP Nagar 7th Phase, ', 'Akshayanagara East',\n",
    "'Bellandur, ','HSR Layout 7th sector, ', 'JP Nagar 8th Phase, ', 'JP nagar 9th Phase, ',\n",
    "       'Jayanagar, ' ], 'South-East Region')"
   ]
  },
  {
   "cell_type": "code",
   "execution_count": 32,
   "id": "6de2dff1",
   "metadata": {},
   "outputs": [
    {
     "data": {
      "text/plain": [
       "bathroom      2.661029e+00\n",
       "parking       1.492672e+00\n",
       "balcony       1.583925e+00\n",
       "price         1.113478e+07\n",
       "total_sqft    1.527410e+03\n",
       "resale        5.002631e-01\n",
       "dtype: float64"
      ]
     },
     "execution_count": 32,
     "metadata": {},
     "output_type": "execute_result"
    }
   ],
   "source": [
    "df1.mean()"
   ]
  },
  {
   "cell_type": "code",
   "execution_count": 33,
   "id": "d01ef661",
   "metadata": {},
   "outputs": [
    {
     "data": {
      "text/plain": [
       "bathroom            2.0\n",
       "parking             1.0\n",
       "balcony             2.0\n",
       "price         7200000.0\n",
       "total_sqft       1275.0\n",
       "resale              1.0\n",
       "dtype: float64"
      ]
     },
     "execution_count": 33,
     "metadata": {},
     "output_type": "execute_result"
    }
   ],
   "source": [
    "#checking median\n",
    "df1.median()"
   ]
  },
  {
   "cell_type": "code",
   "execution_count": 34,
   "id": "11406686",
   "metadata": {},
   "outputs": [
    {
     "data": {
      "text/plain": [
       "360000000"
      ]
     },
     "execution_count": 34,
     "metadata": {},
     "output_type": "execute_result"
    }
   ],
   "source": [
    "df1.price.max()"
   ]
  },
  {
   "cell_type": "markdown",
   "id": "e423bd1d",
   "metadata": {},
   "source": [
    "Since there is difference between mean and median we have to remove outliers and outliers can disturb the model .\n",
    "In regression model like knn it is very sensitive to outliers"
   ]
  },
  {
   "cell_type": "code",
   "execution_count": 35,
   "id": "5729fa47",
   "metadata": {},
   "outputs": [],
   "source": [
    "# filter the numeric variables from the data\n",
    "df_num = df.select_dtypes(include = np.number)"
   ]
  },
  {
   "cell_type": "code",
   "execution_count": 36,
   "id": "f028f931",
   "metadata": {},
   "outputs": [
    {
     "data": {
      "image/png": "[encoded data removed]",
      "text/plain": [
       "<Figure size 1080x576 with 6 Axes>"
      ]
     },
     "metadata": {
      "needs_background": "light"
     },
     "output_type": "display_data"
    }
   ],
   "source": [
    "# plot the boxplot for each variable\n",
    "# subplots(): plot subplots\n",
    "# figsize(): set the figure size\n",
    "fig, ax = plt.subplots(2, 3, figsize=(15, 8))\n",
    "\n",
    "# plot the boxplot using boxplot() from seaborn\n",
    "# z: let the variable z define the boxplot\n",
    "# x: data for which the boxplot is to be plotted\n",
    "# orient: \"h\" specifies horizontal boxplot (for vertical boxplots use \"v\")\n",
    "# whis: proportion of the IQR past the low and high quartiles to extend the plot whiskers\n",
    "# ax: specifies the axes object to draw the plot onto\n",
    "# set_xlabel(): set the x-axis label\n",
    "# fontsize: sets the font size of the x-axis label\n",
    "for variable, subplot in zip(df_num.columns, ax.flatten()):\n",
    "    z = sns.boxplot(x = df_num[variable], orient = \"h\",whis=1.5 , ax=subplot) # plot the boxplot\n",
    "    z.set_xlabel(variable, fontsize = 20)                                     # set the x-axis label"
   ]
  },
  {
   "cell_type": "code",
   "execution_count": 37,
   "id": "f969b8b3",
   "metadata": {},
   "outputs": [],
   "source": [
    "import numpy as np"
   ]
  },
  {
   "cell_type": "code",
   "execution_count": 38,
   "id": "6fd99bb7",
   "metadata": {},
   "outputs": [],
   "source": [
    "#removing outliers with IQR \n",
    "q1 = np.quantile(df1.price, 0.25) #1st quantile\n",
    "q2 = np.quantile(df1.price, 0.5) #2nd quantile\n",
    "q3 = np.quantile(df1.price, 0.75) #3rd quantile\n",
    "IQR = q3 - q1 #Inter - Quartile Range"
   ]
  },
  {
   "cell_type": "code",
   "execution_count": 39,
   "id": "ffce63a9",
   "metadata": {},
   "outputs": [],
   "source": [
    "#setting the fences on our dataset to identify the outliers\n",
    "lower = q1 - (1.5*IQR) #lower whisker\n",
    "upper = q3 + (1.5*IQR) #upper whisker"
   ]
  },
  {
   "cell_type": "code",
   "execution_count": 40,
   "id": "732c9b21",
   "metadata": {},
   "outputs": [],
   "source": [
    "#removal of lower and upper outliers in our data\n",
    "df1 = df1[~((df1.price > upper) | (df1.price < lower))]\n"
   ]
  },
  {
   "cell_type": "code",
   "execution_count": 41,
   "id": "d0b6a644",
   "metadata": {},
   "outputs": [],
   "source": [
    "#removing outliers with IQR \n",
    "q1 = np.quantile(df1.total_sqft, 0.25) #1st quantile\n",
    "q2 = np.quantile(df1.total_sqft, 0.5) #2nd quantile\n",
    "q3 = np.quantile(df1.total_sqft, 0.75) #3rd quantile\n",
    "IQR = q3 - q1 #Inter - Quartile Range"
   ]
  },
  {
   "cell_type": "code",
   "execution_count": 42,
   "id": "287cb6d6",
   "metadata": {},
   "outputs": [],
   "source": [
    "#setting the fences on our dataset to identify the outliers\n",
    "lower = q1 - (1.5*IQR) #lower whisker\n",
    "upper = q3 + (1.5*IQR) #upper whisker"
   ]
  },
  {
   "cell_type": "code",
   "execution_count": 43,
   "id": "e37e72d5",
   "metadata": {},
   "outputs": [],
   "source": [
    "#removal of lower and upper outliers in our data\n",
    "df1 = df1[~((df1.total_sqft > upper) | (df1.total_sqft < lower))]\n"
   ]
  },
  {
   "cell_type": "code",
   "execution_count": 44,
   "id": "1d388f55",
   "metadata": {},
   "outputs": [
    {
     "data": {
      "text/plain": [
       "(11358, 12)"
      ]
     },
     "execution_count": 44,
     "metadata": {},
     "output_type": "execute_result"
    }
   ],
   "source": [
    "#rechecking the shape\n",
    "df1.shape"
   ]
  },
  {
   "cell_type": "code",
   "execution_count": 45,
   "id": "4e3ed185",
   "metadata": {},
   "outputs": [],
   "source": [
    "#defining the features and label column of our data\n",
    "X = df1.drop('price',axis = 'columns')\n",
    "y = df1[['price']]\n"
   ]
  },
  {
   "cell_type": "code",
   "execution_count": 46,
   "id": "c9bce720",
   "metadata": {},
   "outputs": [],
   "source": [
    "#dividing data into categorical and numerical\n",
    "X_num = X.select_dtypes(include = np.number)\n",
    "X_cat = X.select_dtypes(exclude = np.number)\n"
   ]
  },
  {
   "cell_type": "code",
   "execution_count": 47,
   "id": "9f90d7fd",
   "metadata": {},
   "outputs": [
    {
     "data": {
      "text/html": [
       "<div>\n",
       "<style scoped>\n",
       "    .dataframe tbody tr th:only-of-type {\n",
       "        vertical-align: middle;\n",
       "    }\n",
       "\n",
       "    .dataframe tbody tr th {\n",
       "        vertical-align: top;\n",
       "    }\n",
       "\n",
       "    .dataframe thead th {\n",
       "        text-align: right;\n",
       "    }\n",
       "</style>\n",
       "<table border=\"1\" class=\"dataframe\">\n",
       "  <thead>\n",
       "    <tr style=\"text-align: right;\">\n",
       "      <th></th>\n",
       "      <th>bathroom</th>\n",
       "      <th>parking</th>\n",
       "      <th>balcony</th>\n",
       "      <th>total_sqft</th>\n",
       "      <th>resale</th>\n",
       "    </tr>\n",
       "  </thead>\n",
       "  <tbody>\n",
       "    <tr>\n",
       "      <th>count</th>\n",
       "      <td>11358.000000</td>\n",
       "      <td>11358.000000</td>\n",
       "      <td>11358.000000</td>\n",
       "      <td>11358.000000</td>\n",
       "      <td>11358.000000</td>\n",
       "    </tr>\n",
       "    <tr>\n",
       "      <th>mean</th>\n",
       "      <td>2.390544</td>\n",
       "      <td>1.489347</td>\n",
       "      <td>1.549386</td>\n",
       "      <td>1268.696580</td>\n",
       "      <td>0.500880</td>\n",
       "    </tr>\n",
       "    <tr>\n",
       "      <th>std</th>\n",
       "      <td>0.921855</td>\n",
       "      <td>0.506905</td>\n",
       "      <td>0.779859</td>\n",
       "      <td>351.014727</td>\n",
       "      <td>0.500021</td>\n",
       "    </tr>\n",
       "    <tr>\n",
       "      <th>min</th>\n",
       "      <td>1.000000</td>\n",
       "      <td>0.000000</td>\n",
       "      <td>0.000000</td>\n",
       "      <td>400.000000</td>\n",
       "      <td>0.000000</td>\n",
       "    </tr>\n",
       "    <tr>\n",
       "      <th>25%</th>\n",
       "      <td>2.000000</td>\n",
       "      <td>1.000000</td>\n",
       "      <td>1.000000</td>\n",
       "      <td>1070.000000</td>\n",
       "      <td>0.000000</td>\n",
       "    </tr>\n",
       "    <tr>\n",
       "      <th>50%</th>\n",
       "      <td>2.000000</td>\n",
       "      <td>1.000000</td>\n",
       "      <td>2.000000</td>\n",
       "      <td>1214.000000</td>\n",
       "      <td>1.000000</td>\n",
       "    </tr>\n",
       "    <tr>\n",
       "      <th>75%</th>\n",
       "      <td>3.000000</td>\n",
       "      <td>2.000000</td>\n",
       "      <td>2.000000</td>\n",
       "      <td>1490.000000</td>\n",
       "      <td>1.000000</td>\n",
       "    </tr>\n",
       "    <tr>\n",
       "      <th>max</th>\n",
       "      <td>9.000000</td>\n",
       "      <td>2.000000</td>\n",
       "      <td>3.000000</td>\n",
       "      <td>2254.000000</td>\n",
       "      <td>1.000000</td>\n",
       "    </tr>\n",
       "  </tbody>\n",
       "</table>\n",
       "</div>"
      ],
      "text/plain": [
       "           bathroom       parking       balcony    total_sqft        resale\n",
       "count  11358.000000  11358.000000  11358.000000  11358.000000  11358.000000\n",
       "mean       2.390544      1.489347      1.549386   1268.696580      0.500880\n",
       "std        0.921855      0.506905      0.779859    351.014727      0.500021\n",
       "min        1.000000      0.000000      0.000000    400.000000      0.000000\n",
       "25%        2.000000      1.000000      1.000000   1070.000000      0.000000\n",
       "50%        2.000000      1.000000      2.000000   1214.000000      1.000000\n",
       "75%        3.000000      2.000000      2.000000   1490.000000      1.000000\n",
       "max        9.000000      2.000000      3.000000   2254.000000      1.000000"
      ]
     },
     "execution_count": 47,
     "metadata": {},
     "output_type": "execute_result"
    }
   ],
   "source": [
    "#describing numerical features\n",
    "X_num.describe()"
   ]
  },
  {
   "cell_type": "code",
   "execution_count": 48,
   "id": "91ac72f0",
   "metadata": {},
   "outputs": [],
   "source": [
    "# filter the numeric variables from the data\n",
    "df_num = df1.select_dtypes(include = np.number)"
   ]
  },
  {
   "cell_type": "code",
   "execution_count": 49,
   "id": "a5bdcec9",
   "metadata": {},
   "outputs": [
    {
     "data": {
      "image/png": "[encoded data removed]",
      "text/plain": [
       "<Figure size 1080x576 with 6 Axes>"
      ]
     },
     "metadata": {
      "needs_background": "light"
     },
     "output_type": "display_data"
    }
   ],
   "source": [
    "# plot the boxplot for each variable\n",
    "# subplots(): plot subplots\n",
    "# figsize(): set the figure size\n",
    "fig, ax = plt.subplots(2, 3, figsize=(15, 8))\n",
    "\n",
    "# plot the boxplot using boxplot() from seaborn\n",
    "# z: let the variable z define the boxplot\n",
    "# x: data for which the boxplot is to be plotted\n",
    "# orient: \"h\" specifies horizontal boxplot (for vertical boxplots use \"v\")\n",
    "# whis: proportion of the IQR past the low and high quartiles to extend the plot whiskers\n",
    "# ax: specifies the axes object to draw the plot onto\n",
    "# set_xlabel(): set the x-axis label\n",
    "# fontsize: sets the font size of the x-axis label\n",
    "for variable, subplot in zip(df_num.columns, ax.flatten()):\n",
    "    z = sns.boxplot(x = df_num[variable], orient = \"h\",whis=1.5 , ax=subplot) # plot the boxplot\n",
    "    z.set_xlabel(variable, fontsize = 20)                                     # set the x-axis label"
   ]
  },
  {
   "cell_type": "markdown",
   "id": "b8097945",
   "metadata": {},
   "source": [
    "visualize data"
   ]
  },
  {
   "cell_type": "code",
   "execution_count": 50,
   "id": "adac0c12",
   "metadata": {},
   "outputs": [],
   "source": [
    "import matplotlib.pyplot as plt"
   ]
  },
  {
   "cell_type": "markdown",
   "id": "3624891e",
   "metadata": {},
   "source": [
    "univariate analysis: Numerical data - histogram and boxplot"
   ]
  },
  {
   "cell_type": "code",
   "execution_count": 51,
   "id": "27700939",
   "metadata": {},
   "outputs": [
    {
     "data": {
      "text/plain": [
       "<AxesSubplot:>"
      ]
     },
     "execution_count": 51,
     "metadata": {},
     "output_type": "execute_result"
    },
    {
     "data": {
      "image/png": "[encoded data removed]",
      "text/plain": [
       "<Figure size 1080x360 with 1 Axes>"
      ]
     },
     "metadata": {
      "needs_background": "light"
     },
     "output_type": "display_data"
    }
   ],
   "source": [
    "df1['bathroom'].hist()"
   ]
  },
  {
   "cell_type": "code",
   "execution_count": 52,
   "id": "32483278",
   "metadata": {},
   "outputs": [
    {
     "data": {
      "text/plain": [
       "<AxesSubplot:>"
      ]
     },
     "execution_count": 52,
     "metadata": {},
     "output_type": "execute_result"
    },
    {
     "data": {
      "image/png": "[encoded data removed]",
      "text/plain": [
       "<Figure size 1080x360 with 1 Axes>"
      ]
     },
     "metadata": {
      "needs_background": "light"
     },
     "output_type": "display_data"
    }
   ],
   "source": [
    "df1['total_sqft'].hist()"
   ]
  },
  {
   "cell_type": "code",
   "execution_count": 53,
   "id": "7c9a61fd",
   "metadata": {},
   "outputs": [
    {
     "data": {
      "text/plain": [
       "<AxesSubplot:>"
      ]
     },
     "execution_count": 53,
     "metadata": {},
     "output_type": "execute_result"
    },
    {
     "data": {
      "image/png": "[encoded data removed]",
      "text/plain": [
       "<Figure size 1080x360 with 1 Axes>"
      ]
     },
     "metadata": {
      "needs_background": "light"
     },
     "output_type": "display_data"
    }
   ],
   "source": [
    "df1['parking'].hist()"
   ]
  },
  {
   "cell_type": "code",
   "execution_count": 54,
   "id": "d9273175",
   "metadata": {},
   "outputs": [
    {
     "data": {
      "text/plain": [
       "<AxesSubplot:>"
      ]
     },
     "execution_count": 54,
     "metadata": {},
     "output_type": "execute_result"
    },
    {
     "data": {
      "image/png": "[encoded data removed]",
      "text/plain": [
       "<Figure size 1080x360 with 1 Axes>"
      ]
     },
     "metadata": {
      "needs_background": "light"
     },
     "output_type": "display_data"
    }
   ],
   "source": [
    "df1['price'].hist()"
   ]
  },
  {
   "cell_type": "markdown",
   "id": "0d94ee14",
   "metadata": {},
   "source": [
    "Checking for normality"
   ]
  },
  {
   "cell_type": "markdown",
   "id": "07bffd4f",
   "metadata": {},
   "source": [
    "That our target variable is normally distributed or not"
   ]
  },
  {
   "cell_type": "code",
   "execution_count": 55,
   "id": "76972a9d",
   "metadata": {},
   "outputs": [
    {
     "data": {
      "image/png": "[encoded data removed]",
      "text/plain": [
       "<Figure size 1080x360 with 1 Axes>"
      ]
     },
     "metadata": {
      "needs_background": "light"
     },
     "output_type": "display_data"
    },
    {
     "data": {
      "text/plain": [
       "<Figure size 1080x576 with 0 Axes>"
      ]
     },
     "metadata": {},
     "output_type": "display_data"
    }
   ],
   "source": [
    "df1.price.hist()\n",
    "plt.figure(figsize=(15,8))\n",
    "plt.show()"
   ]
  },
  {
   "cell_type": "markdown",
   "id": "fe9e9dcd",
   "metadata": {},
   "source": [
    "Our data is not normally distributed "
   ]
  },
  {
   "cell_type": "markdown",
   "id": "bdb9832b",
   "metadata": {},
   "source": [
    "by log transformation we are making a data normally distributed "
   ]
  },
  {
   "cell_type": "code",
   "execution_count": 56,
   "id": "dcbda0ed",
   "metadata": {},
   "outputs": [
    {
     "name": "stdout",
     "output_type": "stream",
     "text": [
      "Skewness: 1.2740791007413101\n"
     ]
    },
    {
     "data": {
      "image/png": "[encoded data removed]",
      "text/plain": [
       "<Figure size 1080x576 with 1 Axes>"
      ]
     },
     "metadata": {
      "needs_background": "light"
     },
     "output_type": "display_data"
    }
   ],
   "source": [
    "# set the figure size\n",
    "plt.rcParams[\"figure.figsize\"] = [15,8]\n",
    "\n",
    "# check the distribution of sales of the product\n",
    "# ax: create an axes object in the figure\n",
    "ax = sns.distplot(df1['price'])\n",
    "\n",
    "# set the label for x-axis\n",
    "ax.set_xlabel('price', fontsize=15)\n",
    "\n",
    "# coefficient of skewness \n",
    "print('Skewness:', df1['price'].skew())\n",
    "\n",
    "# set label for y-axis\n",
    "plt.ylabel('Density', fontsize=15)\n",
    "\n",
    "# display the plot\n",
    "plt.show()"
   ]
  },
  {
   "cell_type": "markdown",
   "id": "4ee84494",
   "metadata": {},
   "source": [
    "nterpretation: It can be seen that the variable is positively skewed with the coefficient of skewness as 1.27. Apply the log transformation to reduce the skewness in the data."
   ]
  },
  {
   "cell_type": "code",
   "execution_count": 57,
   "id": "55aeb1b8",
   "metadata": {},
   "outputs": [
    {
     "name": "stdout",
     "output_type": "stream",
     "text": [
      "Skewness: -0.06176984268630465\n"
     ]
    },
    {
     "data": {
      "image/png": "[encoded data removed]",
      "text/plain": [
       "<Figure size 1080x576 with 1 Axes>"
      ]
     },
     "metadata": {
      "needs_background": "light"
     },
     "output_type": "display_data"
    }
   ],
   "source": [
    "# set the figure size\n",
    "plt.rcParams[\"figure.figsize\"] = [15,8] \n",
    "\n",
    "# apply natural log transformation (with base 'e')\n",
    "np.log(df1['price'])\n",
    "\n",
    "# coefficient of skewness of transformed data\n",
    "print('Skewness:', np.log(df1['price']).skew())\n",
    "\n",
    "# distribution of log_transformed variable\n",
    "# ax: create an axes object in the figure\n",
    "ax = sns.distplot(np.log(df1['price']))\n",
    "\n",
    "# set the label for x-axis\n",
    "ax.set_xlabel('price', fontsize=15)\n",
    "\n",
    "# set label for y-axis\n",
    "plt.ylabel('Density', fontsize=15)\n",
    "\n",
    "# display the plot\n",
    "plt.show()"
   ]
  },
  {
   "cell_type": "code",
   "execution_count": 58,
   "id": "18e5dbff",
   "metadata": {},
   "outputs": [
    {
     "data": {
      "image/png": "[encoded data removed]",
      "text/plain": [
       "<Figure size 1080x576 with 1 Axes>"
      ]
     },
     "metadata": {
      "needs_background": "light"
     },
     "output_type": "display_data"
    }
   ],
   "source": [
    "# log_transformed values\n",
    "log_price =  np.log(df1['price'])\n",
    "\n",
    "# set the figure size\n",
    "plt.rcParams[\"figure.figsize\"] = [15,8] \n",
    "\n",
    "# plot the distribution\n",
    "# ax: create an axes object in the figure\n",
    "ax = sns.distplot(log_price)\n",
    "\n",
    "# set the title\n",
    "plt.title(\"Log Transformed price\", fontsize=15)\n",
    "\n",
    "# set the label for x-axis\n",
    "ax.set_xlabel('price', fontsize=15)\n",
    "\n",
    "# set label for y-axis\n",
    "plt.ylabel('Density', fontsize=15)\n",
    "\n",
    "# display the plot\n",
    "plt.show()"
   ]
  },
  {
   "cell_type": "code",
   "execution_count": 59,
   "id": "9b96e188",
   "metadata": {},
   "outputs": [
    {
     "data": {
      "image/png": "[encoded data removed]",
      "text/plain": [
       "<Figure size 1080x576 with 1 Axes>"
      ]
     },
     "metadata": {
      "needs_background": "light"
     },
     "output_type": "display_data"
    }
   ],
   "source": [
    "# anti-log of 'log_Item_Outlet_Sales'\n",
    "Exp_price = np.exp(log_price)\n",
    "\n",
    "# set the figure size\n",
    "plt.rcParams[\"figure.figsize\"] = [15,8] \n",
    "\n",
    "# plot the distribution\n",
    "# ax: create an axes object in the figure\n",
    "ax = sns.distplot(Exp_price)\n",
    "\n",
    "# set the title\n",
    "plt.title('Exponential Transformation', fontsize=15)\n",
    "\n",
    "# set the label for x-axis\n",
    "ax.set_xlabel('price', fontsize=15)\n",
    "\n",
    "# set label for y-axis\n",
    "plt.ylabel('Density', fontsize=15)\n",
    "\n",
    "# display the plot\n",
    "plt.show()"
   ]
  },
  {
   "cell_type": "code",
   "execution_count": 60,
   "id": "66293303",
   "metadata": {},
   "outputs": [
    {
     "data": {
      "text/plain": [
       "15.699764366519057"
      ]
     },
     "execution_count": 60,
     "metadata": {},
     "output_type": "execute_result"
    }
   ],
   "source": [
    "log_price.mean()"
   ]
  },
  {
   "cell_type": "code",
   "execution_count": 61,
   "id": "d216eb6b",
   "metadata": {},
   "outputs": [
    {
     "data": {
      "text/plain": [
       "15.687312734865866"
      ]
     },
     "execution_count": 61,
     "metadata": {},
     "output_type": "execute_result"
    }
   ],
   "source": [
    "log_price.median()"
   ]
  },
  {
   "cell_type": "code",
   "execution_count": 62,
   "id": "3cbe13a1",
   "metadata": {},
   "outputs": [
    {
     "data": {
      "text/plain": [
       "count    1.135800e+04\n",
       "mean     7.463844e+06\n",
       "std      3.905163e+06\n",
       "min      9.000000e+05\n",
       "25%      4.700000e+06\n",
       "50%      6.500000e+06\n",
       "75%      9.200000e+06\n",
       "max      2.250000e+07\n",
       "Name: price, dtype: float64"
      ]
     },
     "execution_count": 62,
     "metadata": {},
     "output_type": "execute_result"
    }
   ],
   "source": [
    "# statistical summary of the data\n",
    "Exp_price.describe()"
   ]
  },
  {
   "cell_type": "code",
   "execution_count": 63,
   "id": "e1461f95",
   "metadata": {},
   "outputs": [
    {
     "data": {
      "image/png": "[encoded data removed]",
      "text/plain": [
       "<Figure size 1080x576 with 3 Axes>"
      ]
     },
     "metadata": {
      "needs_background": "light"
     },
     "output_type": "display_data"
    }
   ],
   "source": [
    "# set the figure size\n",
    "plt.figure(figsize=(15,8))\n",
    "\n",
    "# subplot is used to create a set of plots\n",
    "# we create a subplot of 1 rows by 3 columns \n",
    "# use first column for plotting\n",
    "plt.subplot(1,3,1)\n",
    "\n",
    "# plot the distribution of original data\n",
    "sns.distplot(df1['price'])\n",
    "# set label for x-axis\n",
    "plt.xlabel('price', fontsize=12)\n",
    "# set label for y-axis\n",
    "plt.ylabel('Density', fontsize=15)\n",
    "\n",
    "# we create a subplot of 1 row by 3 columns \n",
    "# use second column for plotting\n",
    "plt.subplot(1,3,2)\n",
    "\n",
    "# plot the distribution of log-transformed data\n",
    "sns.distplot(np.log(df1['price']))\n",
    "\n",
    "# set label for y-axis\n",
    "plt.ylabel('Density', fontsize=15)\n",
    "# set label for x-axis\n",
    "plt.xlabel('Log Transformed of price', fontsize=12)\n",
    "\n",
    "# we create a subplot of 1 row by 3 columns \n",
    "# use third column for plotting\n",
    "plt.subplot(1,3,3)\n",
    "\n",
    "# plot the distribution of the data after taking exponential of log-transformed data\n",
    "sns.distplot(Exp_price)\n",
    "# set label for x-axis\n",
    "plt.xlabel('Exponential of Log Transformed price', fontsize=12)\n",
    "# set label for y-axis\n",
    "plt.ylabel('Density', fontsize=15)\n",
    "\n",
    "# display the plot\n",
    "plt.show()"
   ]
  },
  {
   "cell_type": "code",
   "execution_count": 64,
   "id": "633da0ee",
   "metadata": {},
   "outputs": [
    {
     "data": {
      "text/html": [
       "<div>\n",
       "<style scoped>\n",
       "    .dataframe tbody tr th:only-of-type {\n",
       "        vertical-align: middle;\n",
       "    }\n",
       "\n",
       "    .dataframe tbody tr th {\n",
       "        vertical-align: top;\n",
       "    }\n",
       "\n",
       "    .dataframe thead th {\n",
       "        text-align: right;\n",
       "    }\n",
       "</style>\n",
       "<table border=\"1\" class=\"dataframe\">\n",
       "  <thead>\n",
       "    <tr style=\"text-align: right;\">\n",
       "      <th></th>\n",
       "      <th>bathroom</th>\n",
       "      <th>parking</th>\n",
       "      <th>balcony</th>\n",
       "      <th>price</th>\n",
       "      <th>total_sqft</th>\n",
       "      <th>resale</th>\n",
       "    </tr>\n",
       "  </thead>\n",
       "  <tbody>\n",
       "    <tr>\n",
       "      <th>bathroom</th>\n",
       "      <td>1.000000</td>\n",
       "      <td>0.024413</td>\n",
       "      <td>0.234616</td>\n",
       "      <td>0.558892</td>\n",
       "      <td>0.393299</td>\n",
       "      <td>-0.000238</td>\n",
       "    </tr>\n",
       "    <tr>\n",
       "      <th>parking</th>\n",
       "      <td>0.024413</td>\n",
       "      <td>1.000000</td>\n",
       "      <td>0.021442</td>\n",
       "      <td>0.001456</td>\n",
       "      <td>0.043704</td>\n",
       "      <td>0.000384</td>\n",
       "    </tr>\n",
       "    <tr>\n",
       "      <th>balcony</th>\n",
       "      <td>0.234616</td>\n",
       "      <td>0.021442</td>\n",
       "      <td>1.000000</td>\n",
       "      <td>0.160632</td>\n",
       "      <td>0.326069</td>\n",
       "      <td>0.009402</td>\n",
       "    </tr>\n",
       "    <tr>\n",
       "      <th>price</th>\n",
       "      <td>0.558892</td>\n",
       "      <td>0.001456</td>\n",
       "      <td>0.160632</td>\n",
       "      <td>1.000000</td>\n",
       "      <td>0.575274</td>\n",
       "      <td>-0.013406</td>\n",
       "    </tr>\n",
       "    <tr>\n",
       "      <th>total_sqft</th>\n",
       "      <td>0.393299</td>\n",
       "      <td>0.043704</td>\n",
       "      <td>0.326069</td>\n",
       "      <td>0.575274</td>\n",
       "      <td>1.000000</td>\n",
       "      <td>-0.003285</td>\n",
       "    </tr>\n",
       "    <tr>\n",
       "      <th>resale</th>\n",
       "      <td>-0.000238</td>\n",
       "      <td>0.000384</td>\n",
       "      <td>0.009402</td>\n",
       "      <td>-0.013406</td>\n",
       "      <td>-0.003285</td>\n",
       "      <td>1.000000</td>\n",
       "    </tr>\n",
       "  </tbody>\n",
       "</table>\n",
       "</div>"
      ],
      "text/plain": [
       "            bathroom   parking   balcony     price  total_sqft    resale\n",
       "bathroom    1.000000  0.024413  0.234616  0.558892    0.393299 -0.000238\n",
       "parking     0.024413  1.000000  0.021442  0.001456    0.043704  0.000384\n",
       "balcony     0.234616  0.021442  1.000000  0.160632    0.326069  0.009402\n",
       "price       0.558892  0.001456  0.160632  1.000000    0.575274 -0.013406\n",
       "total_sqft  0.393299  0.043704  0.326069  0.575274    1.000000 -0.003285\n",
       "resale     -0.000238  0.000384  0.009402 -0.013406   -0.003285  1.000000"
      ]
     },
     "execution_count": 64,
     "metadata": {},
     "output_type": "execute_result"
    }
   ],
   "source": [
    "#checking correlation between variables\n",
    "df1.corr()"
   ]
  },
  {
   "cell_type": "code",
   "execution_count": 65,
   "id": "aa8f12b8",
   "metadata": {},
   "outputs": [
    {
     "data": {
      "text/plain": [
       "<AxesSubplot:>"
      ]
     },
     "execution_count": 65,
     "metadata": {},
     "output_type": "execute_result"
    },
    {
     "data": {
      "image/png": "[encoded data removed]",
      "text/plain": [
       "<Figure size 1080x1080 with 2 Axes>"
      ]
     },
     "metadata": {
      "needs_background": "light"
     },
     "output_type": "display_data"
    }
   ],
   "source": [
    "plt.figure(figsize = (15,15))\n",
    "sns.heatmap(df1.corr(), annot=True)"
   ]
  },
  {
   "cell_type": "code",
   "execution_count": 66,
   "id": "3a06da02",
   "metadata": {},
   "outputs": [
    {
     "data": {
      "text/plain": [
       "<seaborn.axisgrid.PairGrid at 0x7ff2931ee6d0>"
      ]
     },
     "execution_count": 66,
     "metadata": {},
     "output_type": "execute_result"
    },
    {
     "data": {
      "image/png": "[encoded data removed]",
      "text/plain": [
       "<Figure size 900x900 with 30 Axes>"
      ]
     },
     "metadata": {
      "needs_background": "light"
     },
     "output_type": "display_data"
    }
   ],
   "source": [
    "# pairplots to study relationships\n",
    "sns.pairplot(X_num)"
   ]
  },
  {
   "cell_type": "code",
   "execution_count": 67,
   "id": "79fd7d72",
   "metadata": {},
   "outputs": [],
   "source": [
    "import statsmodels.api as sm"
   ]
  },
  {
   "cell_type": "code",
   "execution_count": 68,
   "id": "c375933f",
   "metadata": {},
   "outputs": [],
   "source": [
    "### scaling data"
   ]
  },
  {
   "cell_type": "code",
   "execution_count": 69,
   "id": "5a30690c",
   "metadata": {},
   "outputs": [],
   "source": [
    "from sklearn.preprocessing import MinMaxScaler"
   ]
  },
  {
   "cell_type": "code",
   "execution_count": 70,
   "id": "57e3d611",
   "metadata": {},
   "outputs": [],
   "source": [
    "sc = MinMaxScaler()"
   ]
  },
  {
   "cell_type": "code",
   "execution_count": 71,
   "id": "beba4e24",
   "metadata": {},
   "outputs": [],
   "source": [
    "#scaling the data using min max scaler\n",
    "X_num_scaled = sc.fit_transform(X_num)\n",
    "X_num_scaled = pd.DataFrame(X_num_scaled)\n",
    "X_num_scaled.columns = X_num.columns"
   ]
  },
  {
   "cell_type": "code",
   "execution_count": 72,
   "id": "d51d6e53",
   "metadata": {},
   "outputs": [
    {
     "data": {
      "text/html": [
       "<div>\n",
       "<style scoped>\n",
       "    .dataframe tbody tr th:only-of-type {\n",
       "        vertical-align: middle;\n",
       "    }\n",
       "\n",
       "    .dataframe tbody tr th {\n",
       "        vertical-align: top;\n",
       "    }\n",
       "\n",
       "    .dataframe thead th {\n",
       "        text-align: right;\n",
       "    }\n",
       "</style>\n",
       "<table border=\"1\" class=\"dataframe\">\n",
       "  <thead>\n",
       "    <tr style=\"text-align: right;\">\n",
       "      <th></th>\n",
       "      <th>bathroom</th>\n",
       "      <th>parking</th>\n",
       "      <th>balcony</th>\n",
       "      <th>total_sqft</th>\n",
       "      <th>resale</th>\n",
       "    </tr>\n",
       "  </thead>\n",
       "  <tbody>\n",
       "    <tr>\n",
       "      <th>0</th>\n",
       "      <td>0.125</td>\n",
       "      <td>1.0</td>\n",
       "      <td>0.333333</td>\n",
       "      <td>0.353830</td>\n",
       "      <td>0.0</td>\n",
       "    </tr>\n",
       "    <tr>\n",
       "      <th>1</th>\n",
       "      <td>0.125</td>\n",
       "      <td>0.5</td>\n",
       "      <td>1.000000</td>\n",
       "      <td>0.560949</td>\n",
       "      <td>1.0</td>\n",
       "    </tr>\n",
       "    <tr>\n",
       "      <th>2</th>\n",
       "      <td>0.250</td>\n",
       "      <td>1.0</td>\n",
       "      <td>0.333333</td>\n",
       "      <td>0.604639</td>\n",
       "      <td>0.0</td>\n",
       "    </tr>\n",
       "    <tr>\n",
       "      <th>3</th>\n",
       "      <td>0.125</td>\n",
       "      <td>0.5</td>\n",
       "      <td>0.333333</td>\n",
       "      <td>0.431499</td>\n",
       "      <td>1.0</td>\n",
       "    </tr>\n",
       "    <tr>\n",
       "      <th>4</th>\n",
       "      <td>0.125</td>\n",
       "      <td>1.0</td>\n",
       "      <td>0.333333</td>\n",
       "      <td>0.415318</td>\n",
       "      <td>0.0</td>\n",
       "    </tr>\n",
       "  </tbody>\n",
       "</table>\n",
       "</div>"
      ],
      "text/plain": [
       "   bathroom  parking   balcony  total_sqft  resale\n",
       "0     0.125      1.0  0.333333    0.353830     0.0\n",
       "1     0.125      0.5  1.000000    0.560949     1.0\n",
       "2     0.250      1.0  0.333333    0.604639     0.0\n",
       "3     0.125      0.5  0.333333    0.431499     1.0\n",
       "4     0.125      1.0  0.333333    0.415318     0.0"
      ]
     },
     "execution_count": 72,
     "metadata": {},
     "output_type": "execute_result"
    }
   ],
   "source": [
    "#checking scaled head\n",
    "X_num_scaled.head()"
   ]
  },
  {
   "cell_type": "code",
   "execution_count": 73,
   "id": "374e3d80",
   "metadata": {},
   "outputs": [
    {
     "data": {
      "text/plain": [
       "(11358, 5)"
      ]
     },
     "execution_count": 73,
     "metadata": {},
     "output_type": "execute_result"
    }
   ],
   "source": [
    "#checking shape of scaled numeric data \n",
    "X_num_scaled.shape"
   ]
  },
  {
   "cell_type": "code",
   "execution_count": 74,
   "id": "3c84c5cd",
   "metadata": {},
   "outputs": [],
   "source": [
    "#One- Hot Encoding the categorical features\n",
    "X_cat_encoded = pd.get_dummies(X_cat, columns = ['area_type','size','hospital_nearby','school_nearby','mall_nearby','location'])"
   ]
  },
  {
   "cell_type": "code",
   "execution_count": 75,
   "id": "cf63a45f",
   "metadata": {},
   "outputs": [
    {
     "data": {
      "text/html": [
       "<div>\n",
       "<style scoped>\n",
       "    .dataframe tbody tr th:only-of-type {\n",
       "        vertical-align: middle;\n",
       "    }\n",
       "\n",
       "    .dataframe tbody tr th {\n",
       "        vertical-align: top;\n",
       "    }\n",
       "\n",
       "    .dataframe thead th {\n",
       "        text-align: right;\n",
       "    }\n",
       "</style>\n",
       "<table border=\"1\" class=\"dataframe\">\n",
       "  <thead>\n",
       "    <tr style=\"text-align: right;\">\n",
       "      <th></th>\n",
       "      <th>area_type_Built-up  Area</th>\n",
       "      <th>area_type_Carpet  Area</th>\n",
       "      <th>area_type_Plot  Area</th>\n",
       "      <th>area_type_Super built-up  Area</th>\n",
       "      <th>size_1 BHK</th>\n",
       "      <th>size_1 RK</th>\n",
       "      <th>size_2 BHK</th>\n",
       "      <th>size_3 BHK</th>\n",
       "      <th>size_4 BHK</th>\n",
       "      <th>size_5 BHK</th>\n",
       "      <th>...</th>\n",
       "      <th>location_Marathi Layout</th>\n",
       "      <th>location_Narasapura</th>\n",
       "      <th>location_North Region</th>\n",
       "      <th>location_North-East Region</th>\n",
       "      <th>location_North-West Region</th>\n",
       "      <th>location_South Region</th>\n",
       "      <th>location_South-East Region</th>\n",
       "      <th>location_South-West Region</th>\n",
       "      <th>location_West Region</th>\n",
       "      <th>location_arudi</th>\n",
       "    </tr>\n",
       "  </thead>\n",
       "  <tbody>\n",
       "    <tr>\n",
       "      <th>0</th>\n",
       "      <td>0</td>\n",
       "      <td>0</td>\n",
       "      <td>0</td>\n",
       "      <td>1</td>\n",
       "      <td>0</td>\n",
       "      <td>0</td>\n",
       "      <td>1</td>\n",
       "      <td>0</td>\n",
       "      <td>0</td>\n",
       "      <td>0</td>\n",
       "      <td>...</td>\n",
       "      <td>0</td>\n",
       "      <td>0</td>\n",
       "      <td>0</td>\n",
       "      <td>0</td>\n",
       "      <td>0</td>\n",
       "      <td>0</td>\n",
       "      <td>1</td>\n",
       "      <td>0</td>\n",
       "      <td>0</td>\n",
       "      <td>0</td>\n",
       "    </tr>\n",
       "    <tr>\n",
       "      <th>2</th>\n",
       "      <td>1</td>\n",
       "      <td>0</td>\n",
       "      <td>0</td>\n",
       "      <td>0</td>\n",
       "      <td>0</td>\n",
       "      <td>0</td>\n",
       "      <td>0</td>\n",
       "      <td>1</td>\n",
       "      <td>0</td>\n",
       "      <td>0</td>\n",
       "      <td>...</td>\n",
       "      <td>0</td>\n",
       "      <td>0</td>\n",
       "      <td>0</td>\n",
       "      <td>0</td>\n",
       "      <td>0</td>\n",
       "      <td>1</td>\n",
       "      <td>0</td>\n",
       "      <td>0</td>\n",
       "      <td>0</td>\n",
       "      <td>0</td>\n",
       "    </tr>\n",
       "    <tr>\n",
       "      <th>3</th>\n",
       "      <td>0</td>\n",
       "      <td>0</td>\n",
       "      <td>0</td>\n",
       "      <td>1</td>\n",
       "      <td>0</td>\n",
       "      <td>0</td>\n",
       "      <td>0</td>\n",
       "      <td>1</td>\n",
       "      <td>0</td>\n",
       "      <td>0</td>\n",
       "      <td>...</td>\n",
       "      <td>0</td>\n",
       "      <td>0</td>\n",
       "      <td>0</td>\n",
       "      <td>0</td>\n",
       "      <td>0</td>\n",
       "      <td>1</td>\n",
       "      <td>0</td>\n",
       "      <td>0</td>\n",
       "      <td>0</td>\n",
       "      <td>0</td>\n",
       "    </tr>\n",
       "    <tr>\n",
       "      <th>4</th>\n",
       "      <td>0</td>\n",
       "      <td>0</td>\n",
       "      <td>0</td>\n",
       "      <td>1</td>\n",
       "      <td>0</td>\n",
       "      <td>0</td>\n",
       "      <td>1</td>\n",
       "      <td>0</td>\n",
       "      <td>0</td>\n",
       "      <td>0</td>\n",
       "      <td>...</td>\n",
       "      <td>0</td>\n",
       "      <td>0</td>\n",
       "      <td>0</td>\n",
       "      <td>0</td>\n",
       "      <td>0</td>\n",
       "      <td>1</td>\n",
       "      <td>0</td>\n",
       "      <td>0</td>\n",
       "      <td>0</td>\n",
       "      <td>0</td>\n",
       "    </tr>\n",
       "    <tr>\n",
       "      <th>5</th>\n",
       "      <td>0</td>\n",
       "      <td>0</td>\n",
       "      <td>0</td>\n",
       "      <td>1</td>\n",
       "      <td>0</td>\n",
       "      <td>0</td>\n",
       "      <td>1</td>\n",
       "      <td>0</td>\n",
       "      <td>0</td>\n",
       "      <td>0</td>\n",
       "      <td>...</td>\n",
       "      <td>0</td>\n",
       "      <td>0</td>\n",
       "      <td>0</td>\n",
       "      <td>0</td>\n",
       "      <td>0</td>\n",
       "      <td>0</td>\n",
       "      <td>0</td>\n",
       "      <td>0</td>\n",
       "      <td>0</td>\n",
       "      <td>0</td>\n",
       "    </tr>\n",
       "    <tr>\n",
       "      <th>...</th>\n",
       "      <td>...</td>\n",
       "      <td>...</td>\n",
       "      <td>...</td>\n",
       "      <td>...</td>\n",
       "      <td>...</td>\n",
       "      <td>...</td>\n",
       "      <td>...</td>\n",
       "      <td>...</td>\n",
       "      <td>...</td>\n",
       "      <td>...</td>\n",
       "      <td>...</td>\n",
       "      <td>...</td>\n",
       "      <td>...</td>\n",
       "      <td>...</td>\n",
       "      <td>...</td>\n",
       "      <td>...</td>\n",
       "      <td>...</td>\n",
       "      <td>...</td>\n",
       "      <td>...</td>\n",
       "      <td>...</td>\n",
       "      <td>...</td>\n",
       "    </tr>\n",
       "    <tr>\n",
       "      <th>13298</th>\n",
       "      <td>0</td>\n",
       "      <td>0</td>\n",
       "      <td>0</td>\n",
       "      <td>1</td>\n",
       "      <td>0</td>\n",
       "      <td>0</td>\n",
       "      <td>1</td>\n",
       "      <td>0</td>\n",
       "      <td>0</td>\n",
       "      <td>0</td>\n",
       "      <td>...</td>\n",
       "      <td>0</td>\n",
       "      <td>0</td>\n",
       "      <td>1</td>\n",
       "      <td>0</td>\n",
       "      <td>0</td>\n",
       "      <td>0</td>\n",
       "      <td>0</td>\n",
       "      <td>0</td>\n",
       "      <td>0</td>\n",
       "      <td>0</td>\n",
       "    </tr>\n",
       "    <tr>\n",
       "      <th>13299</th>\n",
       "      <td>0</td>\n",
       "      <td>0</td>\n",
       "      <td>0</td>\n",
       "      <td>1</td>\n",
       "      <td>0</td>\n",
       "      <td>0</td>\n",
       "      <td>0</td>\n",
       "      <td>1</td>\n",
       "      <td>0</td>\n",
       "      <td>0</td>\n",
       "      <td>...</td>\n",
       "      <td>0</td>\n",
       "      <td>0</td>\n",
       "      <td>0</td>\n",
       "      <td>0</td>\n",
       "      <td>0</td>\n",
       "      <td>0</td>\n",
       "      <td>0</td>\n",
       "      <td>0</td>\n",
       "      <td>0</td>\n",
       "      <td>0</td>\n",
       "    </tr>\n",
       "    <tr>\n",
       "      <th>13300</th>\n",
       "      <td>0</td>\n",
       "      <td>0</td>\n",
       "      <td>0</td>\n",
       "      <td>1</td>\n",
       "      <td>0</td>\n",
       "      <td>0</td>\n",
       "      <td>0</td>\n",
       "      <td>1</td>\n",
       "      <td>0</td>\n",
       "      <td>0</td>\n",
       "      <td>...</td>\n",
       "      <td>0</td>\n",
       "      <td>0</td>\n",
       "      <td>0</td>\n",
       "      <td>0</td>\n",
       "      <td>0</td>\n",
       "      <td>1</td>\n",
       "      <td>0</td>\n",
       "      <td>0</td>\n",
       "      <td>0</td>\n",
       "      <td>0</td>\n",
       "    </tr>\n",
       "    <tr>\n",
       "      <th>13303</th>\n",
       "      <td>1</td>\n",
       "      <td>0</td>\n",
       "      <td>0</td>\n",
       "      <td>0</td>\n",
       "      <td>0</td>\n",
       "      <td>0</td>\n",
       "      <td>1</td>\n",
       "      <td>0</td>\n",
       "      <td>0</td>\n",
       "      <td>0</td>\n",
       "      <td>...</td>\n",
       "      <td>0</td>\n",
       "      <td>0</td>\n",
       "      <td>1</td>\n",
       "      <td>0</td>\n",
       "      <td>0</td>\n",
       "      <td>0</td>\n",
       "      <td>0</td>\n",
       "      <td>0</td>\n",
       "      <td>0</td>\n",
       "      <td>0</td>\n",
       "    </tr>\n",
       "    <tr>\n",
       "      <th>13305</th>\n",
       "      <td>0</td>\n",
       "      <td>0</td>\n",
       "      <td>0</td>\n",
       "      <td>1</td>\n",
       "      <td>1</td>\n",
       "      <td>0</td>\n",
       "      <td>0</td>\n",
       "      <td>0</td>\n",
       "      <td>0</td>\n",
       "      <td>0</td>\n",
       "      <td>...</td>\n",
       "      <td>0</td>\n",
       "      <td>0</td>\n",
       "      <td>0</td>\n",
       "      <td>0</td>\n",
       "      <td>0</td>\n",
       "      <td>1</td>\n",
       "      <td>0</td>\n",
       "      <td>0</td>\n",
       "      <td>0</td>\n",
       "      <td>0</td>\n",
       "    </tr>\n",
       "  </tbody>\n",
       "</table>\n",
       "<p>11358 rows × 35 columns</p>\n",
       "</div>"
      ],
      "text/plain": [
       "       area_type_Built-up  Area  area_type_Carpet  Area  area_type_Plot  Area  \\\n",
       "0                             0                       0                     0   \n",
       "2                             1                       0                     0   \n",
       "3                             0                       0                     0   \n",
       "4                             0                       0                     0   \n",
       "5                             0                       0                     0   \n",
       "...                         ...                     ...                   ...   \n",
       "13298                         0                       0                     0   \n",
       "13299                         0                       0                     0   \n",
       "13300                         0                       0                     0   \n",
       "13303                         1                       0                     0   \n",
       "13305                         0                       0                     0   \n",
       "\n",
       "       area_type_Super built-up  Area  size_1 BHK  size_1 RK  size_2 BHK  \\\n",
       "0                                   1           0          0           1   \n",
       "2                                   0           0          0           0   \n",
       "3                                   1           0          0           0   \n",
       "4                                   1           0          0           1   \n",
       "5                                   1           0          0           1   \n",
       "...                               ...         ...        ...         ...   \n",
       "13298                               1           0          0           1   \n",
       "13299                               1           0          0           0   \n",
       "13300                               1           0          0           0   \n",
       "13303                               0           0          0           1   \n",
       "13305                               1           1          0           0   \n",
       "\n",
       "       size_3 BHK  size_4 BHK  size_5 BHK  ...  location_Marathi Layout  \\\n",
       "0               0           0           0  ...                        0   \n",
       "2               1           0           0  ...                        0   \n",
       "3               1           0           0  ...                        0   \n",
       "4               0           0           0  ...                        0   \n",
       "5               0           0           0  ...                        0   \n",
       "...           ...         ...         ...  ...                      ...   \n",
       "13298           0           0           0  ...                        0   \n",
       "13299           1           0           0  ...                        0   \n",
       "13300           1           0           0  ...                        0   \n",
       "13303           0           0           0  ...                        0   \n",
       "13305           0           0           0  ...                        0   \n",
       "\n",
       "       location_Narasapura  location_North Region  location_North-East Region  \\\n",
       "0                        0                      0                           0   \n",
       "2                        0                      0                           0   \n",
       "3                        0                      0                           0   \n",
       "4                        0                      0                           0   \n",
       "5                        0                      0                           0   \n",
       "...                    ...                    ...                         ...   \n",
       "13298                    0                      1                           0   \n",
       "13299                    0                      0                           0   \n",
       "13300                    0                      0                           0   \n",
       "13303                    0                      1                           0   \n",
       "13305                    0                      0                           0   \n",
       "\n",
       "       location_North-West Region  location_South Region  \\\n",
       "0                               0                      0   \n",
       "2                               0                      1   \n",
       "3                               0                      1   \n",
       "4                               0                      1   \n",
       "5                               0                      0   \n",
       "...                           ...                    ...   \n",
       "13298                           0                      0   \n",
       "13299                           0                      0   \n",
       "13300                           0                      1   \n",
       "13303                           0                      0   \n",
       "13305                           0                      1   \n",
       "\n",
       "       location_South-East Region  location_South-West Region  \\\n",
       "0                               1                           0   \n",
       "2                               0                           0   \n",
       "3                               0                           0   \n",
       "4                               0                           0   \n",
       "5                               0                           0   \n",
       "...                           ...                         ...   \n",
       "13298                           0                           0   \n",
       "13299                           0                           0   \n",
       "13300                           0                           0   \n",
       "13303                           0                           0   \n",
       "13305                           0                           0   \n",
       "\n",
       "       location_West Region  location_arudi  \n",
       "0                         0               0  \n",
       "2                         0               0  \n",
       "3                         0               0  \n",
       "4                         0               0  \n",
       "5                         0               0  \n",
       "...                     ...             ...  \n",
       "13298                     0               0  \n",
       "13299                     0               0  \n",
       "13300                     0               0  \n",
       "13303                     0               0  \n",
       "13305                     0               0  \n",
       "\n",
       "[11358 rows x 35 columns]"
      ]
     },
     "execution_count": 75,
     "metadata": {},
     "output_type": "execute_result"
    }
   ],
   "source": [
    "X_cat_encoded"
   ]
  },
  {
   "cell_type": "code",
   "execution_count": 76,
   "id": "345c6f0d",
   "metadata": {},
   "outputs": [
    {
     "data": {
      "text/plain": [
       "area_type           object\n",
       "size                object\n",
       "bathroom           float64\n",
       "parking              int64\n",
       "balcony            float64\n",
       "price                int64\n",
       "total_sqft         float64\n",
       "hospital_nearby     object\n",
       "school_nearby       object\n",
       "mall_nearby         object\n",
       "resale               int64\n",
       "location            object\n",
       "dtype: object"
      ]
     },
     "execution_count": 76,
     "metadata": {},
     "output_type": "execute_result"
    }
   ],
   "source": [
    "df.dtypes"
   ]
  },
  {
   "cell_type": "code",
   "execution_count": 77,
   "id": "e8d81eec",
   "metadata": {},
   "outputs": [
    {
     "data": {
      "text/html": [
       "<div>\n",
       "<style scoped>\n",
       "    .dataframe tbody tr th:only-of-type {\n",
       "        vertical-align: middle;\n",
       "    }\n",
       "\n",
       "    .dataframe tbody tr th {\n",
       "        vertical-align: top;\n",
       "    }\n",
       "\n",
       "    .dataframe thead th {\n",
       "        text-align: right;\n",
       "    }\n",
       "</style>\n",
       "<table border=\"1\" class=\"dataframe\">\n",
       "  <thead>\n",
       "    <tr style=\"text-align: right;\">\n",
       "      <th></th>\n",
       "      <th>index</th>\n",
       "      <th>bathroom</th>\n",
       "      <th>parking</th>\n",
       "      <th>balcony</th>\n",
       "      <th>total_sqft</th>\n",
       "      <th>resale</th>\n",
       "    </tr>\n",
       "  </thead>\n",
       "  <tbody>\n",
       "    <tr>\n",
       "      <th>0</th>\n",
       "      <td>0</td>\n",
       "      <td>0.125</td>\n",
       "      <td>1.0</td>\n",
       "      <td>0.333333</td>\n",
       "      <td>0.353830</td>\n",
       "      <td>0.0</td>\n",
       "    </tr>\n",
       "    <tr>\n",
       "      <th>1</th>\n",
       "      <td>1</td>\n",
       "      <td>0.125</td>\n",
       "      <td>0.5</td>\n",
       "      <td>1.000000</td>\n",
       "      <td>0.560949</td>\n",
       "      <td>1.0</td>\n",
       "    </tr>\n",
       "    <tr>\n",
       "      <th>2</th>\n",
       "      <td>2</td>\n",
       "      <td>0.250</td>\n",
       "      <td>1.0</td>\n",
       "      <td>0.333333</td>\n",
       "      <td>0.604639</td>\n",
       "      <td>0.0</td>\n",
       "    </tr>\n",
       "    <tr>\n",
       "      <th>3</th>\n",
       "      <td>3</td>\n",
       "      <td>0.125</td>\n",
       "      <td>0.5</td>\n",
       "      <td>0.333333</td>\n",
       "      <td>0.431499</td>\n",
       "      <td>1.0</td>\n",
       "    </tr>\n",
       "    <tr>\n",
       "      <th>4</th>\n",
       "      <td>4</td>\n",
       "      <td>0.125</td>\n",
       "      <td>1.0</td>\n",
       "      <td>0.333333</td>\n",
       "      <td>0.415318</td>\n",
       "      <td>0.0</td>\n",
       "    </tr>\n",
       "  </tbody>\n",
       "</table>\n",
       "</div>"
      ],
      "text/plain": [
       "   index  bathroom  parking   balcony  total_sqft  resale\n",
       "0      0     0.125      1.0  0.333333    0.353830     0.0\n",
       "1      1     0.125      0.5  1.000000    0.560949     1.0\n",
       "2      2     0.250      1.0  0.333333    0.604639     0.0\n",
       "3      3     0.125      0.5  0.333333    0.431499     1.0\n",
       "4      4     0.125      1.0  0.333333    0.415318     0.0"
      ]
     },
     "execution_count": 77,
     "metadata": {},
     "output_type": "execute_result"
    }
   ],
   "source": [
    "#setting the index of both scaled categorical and numerical data\n",
    "X_num_scaled.reset_index(inplace = True)\n",
    "X_cat_encoded.reset_index(inplace = True)\n",
    "X_num_scaled.head()"
   ]
  },
  {
   "cell_type": "code",
   "execution_count": 78,
   "id": "ab9cc6d0",
   "metadata": {},
   "outputs": [
    {
     "data": {
      "text/html": [
       "<div>\n",
       "<style scoped>\n",
       "    .dataframe tbody tr th:only-of-type {\n",
       "        vertical-align: middle;\n",
       "    }\n",
       "\n",
       "    .dataframe tbody tr th {\n",
       "        vertical-align: top;\n",
       "    }\n",
       "\n",
       "    .dataframe thead th {\n",
       "        text-align: right;\n",
       "    }\n",
       "</style>\n",
       "<table border=\"1\" class=\"dataframe\">\n",
       "  <thead>\n",
       "    <tr style=\"text-align: right;\">\n",
       "      <th></th>\n",
       "      <th>index</th>\n",
       "      <th>bathroom</th>\n",
       "      <th>parking</th>\n",
       "      <th>balcony</th>\n",
       "      <th>total_sqft</th>\n",
       "      <th>resale</th>\n",
       "      <th>index</th>\n",
       "      <th>area_type_Built-up  Area</th>\n",
       "      <th>area_type_Carpet  Area</th>\n",
       "      <th>area_type_Plot  Area</th>\n",
       "      <th>...</th>\n",
       "      <th>location_Marathi Layout</th>\n",
       "      <th>location_Narasapura</th>\n",
       "      <th>location_North Region</th>\n",
       "      <th>location_North-East Region</th>\n",
       "      <th>location_North-West Region</th>\n",
       "      <th>location_South Region</th>\n",
       "      <th>location_South-East Region</th>\n",
       "      <th>location_South-West Region</th>\n",
       "      <th>location_West Region</th>\n",
       "      <th>location_arudi</th>\n",
       "    </tr>\n",
       "  </thead>\n",
       "  <tbody>\n",
       "    <tr>\n",
       "      <th>0</th>\n",
       "      <td>0</td>\n",
       "      <td>0.125</td>\n",
       "      <td>1.0</td>\n",
       "      <td>0.333333</td>\n",
       "      <td>0.353830</td>\n",
       "      <td>0.0</td>\n",
       "      <td>0</td>\n",
       "      <td>0</td>\n",
       "      <td>0</td>\n",
       "      <td>0</td>\n",
       "      <td>...</td>\n",
       "      <td>0</td>\n",
       "      <td>0</td>\n",
       "      <td>0</td>\n",
       "      <td>0</td>\n",
       "      <td>0</td>\n",
       "      <td>0</td>\n",
       "      <td>1</td>\n",
       "      <td>0</td>\n",
       "      <td>0</td>\n",
       "      <td>0</td>\n",
       "    </tr>\n",
       "    <tr>\n",
       "      <th>1</th>\n",
       "      <td>1</td>\n",
       "      <td>0.125</td>\n",
       "      <td>0.5</td>\n",
       "      <td>1.000000</td>\n",
       "      <td>0.560949</td>\n",
       "      <td>1.0</td>\n",
       "      <td>2</td>\n",
       "      <td>1</td>\n",
       "      <td>0</td>\n",
       "      <td>0</td>\n",
       "      <td>...</td>\n",
       "      <td>0</td>\n",
       "      <td>0</td>\n",
       "      <td>0</td>\n",
       "      <td>0</td>\n",
       "      <td>0</td>\n",
       "      <td>1</td>\n",
       "      <td>0</td>\n",
       "      <td>0</td>\n",
       "      <td>0</td>\n",
       "      <td>0</td>\n",
       "    </tr>\n",
       "    <tr>\n",
       "      <th>2</th>\n",
       "      <td>2</td>\n",
       "      <td>0.250</td>\n",
       "      <td>1.0</td>\n",
       "      <td>0.333333</td>\n",
       "      <td>0.604639</td>\n",
       "      <td>0.0</td>\n",
       "      <td>3</td>\n",
       "      <td>0</td>\n",
       "      <td>0</td>\n",
       "      <td>0</td>\n",
       "      <td>...</td>\n",
       "      <td>0</td>\n",
       "      <td>0</td>\n",
       "      <td>0</td>\n",
       "      <td>0</td>\n",
       "      <td>0</td>\n",
       "      <td>1</td>\n",
       "      <td>0</td>\n",
       "      <td>0</td>\n",
       "      <td>0</td>\n",
       "      <td>0</td>\n",
       "    </tr>\n",
       "    <tr>\n",
       "      <th>3</th>\n",
       "      <td>3</td>\n",
       "      <td>0.125</td>\n",
       "      <td>0.5</td>\n",
       "      <td>0.333333</td>\n",
       "      <td>0.431499</td>\n",
       "      <td>1.0</td>\n",
       "      <td>4</td>\n",
       "      <td>0</td>\n",
       "      <td>0</td>\n",
       "      <td>0</td>\n",
       "      <td>...</td>\n",
       "      <td>0</td>\n",
       "      <td>0</td>\n",
       "      <td>0</td>\n",
       "      <td>0</td>\n",
       "      <td>0</td>\n",
       "      <td>1</td>\n",
       "      <td>0</td>\n",
       "      <td>0</td>\n",
       "      <td>0</td>\n",
       "      <td>0</td>\n",
       "    </tr>\n",
       "    <tr>\n",
       "      <th>4</th>\n",
       "      <td>4</td>\n",
       "      <td>0.125</td>\n",
       "      <td>1.0</td>\n",
       "      <td>0.333333</td>\n",
       "      <td>0.415318</td>\n",
       "      <td>0.0</td>\n",
       "      <td>5</td>\n",
       "      <td>0</td>\n",
       "      <td>0</td>\n",
       "      <td>0</td>\n",
       "      <td>...</td>\n",
       "      <td>0</td>\n",
       "      <td>0</td>\n",
       "      <td>0</td>\n",
       "      <td>0</td>\n",
       "      <td>0</td>\n",
       "      <td>0</td>\n",
       "      <td>0</td>\n",
       "      <td>0</td>\n",
       "      <td>0</td>\n",
       "      <td>0</td>\n",
       "    </tr>\n",
       "  </tbody>\n",
       "</table>\n",
       "<p>5 rows × 42 columns</p>\n",
       "</div>"
      ],
      "text/plain": [
       "   index  bathroom  parking   balcony  total_sqft  resale  index  \\\n",
       "0      0     0.125      1.0  0.333333    0.353830     0.0      0   \n",
       "1      1     0.125      0.5  1.000000    0.560949     1.0      2   \n",
       "2      2     0.250      1.0  0.333333    0.604639     0.0      3   \n",
       "3      3     0.125      0.5  0.333333    0.431499     1.0      4   \n",
       "4      4     0.125      1.0  0.333333    0.415318     0.0      5   \n",
       "\n",
       "   area_type_Built-up  Area  area_type_Carpet  Area  area_type_Plot  Area  \\\n",
       "0                         0                       0                     0   \n",
       "1                         1                       0                     0   \n",
       "2                         0                       0                     0   \n",
       "3                         0                       0                     0   \n",
       "4                         0                       0                     0   \n",
       "\n",
       "   ...  location_Marathi Layout  location_Narasapura  location_North Region  \\\n",
       "0  ...                        0                    0                      0   \n",
       "1  ...                        0                    0                      0   \n",
       "2  ...                        0                    0                      0   \n",
       "3  ...                        0                    0                      0   \n",
       "4  ...                        0                    0                      0   \n",
       "\n",
       "   location_North-East Region  location_North-West Region  \\\n",
       "0                           0                           0   \n",
       "1                           0                           0   \n",
       "2                           0                           0   \n",
       "3                           0                           0   \n",
       "4                           0                           0   \n",
       "\n",
       "   location_South Region  location_South-East Region  \\\n",
       "0                      0                           1   \n",
       "1                      1                           0   \n",
       "2                      1                           0   \n",
       "3                      1                           0   \n",
       "4                      0                           0   \n",
       "\n",
       "   location_South-West Region  location_West Region  location_arudi  \n",
       "0                           0                     0               0  \n",
       "1                           0                     0               0  \n",
       "2                           0                     0               0  \n",
       "3                           0                     0               0  \n",
       "4                           0                     0               0  \n",
       "\n",
       "[5 rows x 42 columns]"
      ]
     },
     "execution_count": 78,
     "metadata": {},
     "output_type": "execute_result"
    }
   ],
   "source": [
    "#combining both the scaled data to make the final features data\n",
    "X = pd.concat([X_num_scaled, X_cat_encoded],axis = 'columns')\n",
    "X.head()"
   ]
  },
  {
   "cell_type": "code",
   "execution_count": 79,
   "id": "3b6915f0",
   "metadata": {},
   "outputs": [
    {
     "data": {
      "text/plain": [
       "(11358, 42)"
      ]
     },
     "execution_count": 79,
     "metadata": {},
     "output_type": "execute_result"
    }
   ],
   "source": [
    "#cheching shape of features\n",
    "X.shape"
   ]
  },
  {
   "cell_type": "code",
   "execution_count": 80,
   "id": "a5304626",
   "metadata": {},
   "outputs": [],
   "source": [
    "X.reset_index(drop=True, inplace=True)\n",
    "y.reset_index(drop=True, inplace=True)"
   ]
  },
  {
   "cell_type": "code",
   "execution_count": 81,
   "id": "fd9ad916",
   "metadata": {},
   "outputs": [],
   "source": [
    "#spliiting our feature and label data into train and test\n",
    "X_train, X_test, y_train, y_test = train_test_split(X,y,test_size =0.3,random_state = 2)"
   ]
  },
  {
   "cell_type": "code",
   "execution_count": 82,
   "id": "72b18ad2",
   "metadata": {},
   "outputs": [
    {
     "data": {
      "text/plain": [
       "((7950, 42), (3408, 42), (7950, 1), (3408, 1))"
      ]
     },
     "execution_count": 82,
     "metadata": {},
     "output_type": "execute_result"
    }
   ],
   "source": [
    "#checking shape of train and test\n",
    "X_train.shape, X_test.shape, y_train.shape, y_test.shape"
   ]
  },
  {
   "cell_type": "code",
   "execution_count": 83,
   "id": "73476ff7",
   "metadata": {},
   "outputs": [
    {
     "name": "stdout",
     "output_type": "stream",
     "text": [
      "<class 'pandas.core.frame.DataFrame'>\n",
      "RangeIndex: 11358 entries, 0 to 11357\n",
      "Data columns (total 1 columns):\n",
      " #   Column  Non-Null Count  Dtype\n",
      "---  ------  --------------  -----\n",
      " 0   price   11358 non-null  int64\n",
      "dtypes: int64(1)\n",
      "memory usage: 88.9 KB\n"
     ]
    }
   ],
   "source": [
    "#X = df1.drop('price',axis = 'columns')\n",
    "#y = df1[['price']]\n",
    "y.info()"
   ]
  },
  {
   "cell_type": "code",
   "execution_count": 84,
   "id": "d065e37e",
   "metadata": {},
   "outputs": [],
   "source": [
    "X.reset_index(drop=True, inplace=True)"
   ]
  },
  {
   "cell_type": "code",
   "execution_count": 85,
   "id": "7bd1fe16",
   "metadata": {},
   "outputs": [],
   "source": [
    "def calculate_vif(df1):\n",
    "    # Select only the numeric columns\n",
    "    numeric_df = df.select_dtypes(include=[np.number])\n",
    "\n",
    "    # Calculate VIF values\n",
    "    vif = np.zeros(numeric_df.shape[1])\n",
    "    for i in range(numeric_df.shape[1]):\n",
    "        # extracting the label in loop\n",
    "        y = numeric_df.iloc[:, i]\n",
    "        # extracting the all features which is not label\n",
    "        x = numeric_df.iloc[:, np.arange(numeric_df.shape[1]) != i]\n",
    "        # fit the  model\n",
    "        model = LinearRegression().fit(x, y)\n",
    "        # claculate the R_2\n",
    "        r_squared = model.score(x, y)\n",
    "        # calculating VIF\n",
    "        vif[i] = 1 / (1 - r_squared)\n",
    "\n",
    "    # Create a DataFrame to store the VIF values\n",
    "    vif_df = pd.DataFrame({\n",
    "        \"features\": numeric_df.columns,\n",
    "        \"VIF\": vif\n",
    "    })\n",
    "\n",
    "    return vif_df"
   ]
  },
  {
   "cell_type": "code",
   "execution_count": 86,
   "id": "1e3c7638",
   "metadata": {},
   "outputs": [
    {
     "data": {
      "text/html": [
       "<div>\n",
       "<style scoped>\n",
       "    .dataframe tbody tr th:only-of-type {\n",
       "        vertical-align: middle;\n",
       "    }\n",
       "\n",
       "    .dataframe tbody tr th {\n",
       "        vertical-align: top;\n",
       "    }\n",
       "\n",
       "    .dataframe thead th {\n",
       "        text-align: right;\n",
       "    }\n",
       "</style>\n",
       "<table border=\"1\" class=\"dataframe\">\n",
       "  <thead>\n",
       "    <tr style=\"text-align: right;\">\n",
       "      <th></th>\n",
       "      <th>features</th>\n",
       "      <th>VIF</th>\n",
       "    </tr>\n",
       "  </thead>\n",
       "  <tbody>\n",
       "    <tr>\n",
       "      <th>0</th>\n",
       "      <td>bathroom</td>\n",
       "      <td>1.534704</td>\n",
       "    </tr>\n",
       "    <tr>\n",
       "      <th>1</th>\n",
       "      <td>parking</td>\n",
       "      <td>1.000920</td>\n",
       "    </tr>\n",
       "    <tr>\n",
       "      <th>2</th>\n",
       "      <td>balcony</td>\n",
       "      <td>1.061407</td>\n",
       "    </tr>\n",
       "    <tr>\n",
       "      <th>3</th>\n",
       "      <td>price</td>\n",
       "      <td>2.002900</td>\n",
       "    </tr>\n",
       "    <tr>\n",
       "      <th>4</th>\n",
       "      <td>total_sqft</td>\n",
       "      <td>2.315288</td>\n",
       "    </tr>\n",
       "    <tr>\n",
       "      <th>5</th>\n",
       "      <td>resale</td>\n",
       "      <td>1.000091</td>\n",
       "    </tr>\n",
       "  </tbody>\n",
       "</table>\n",
       "</div>"
      ],
      "text/plain": [
       "     features       VIF\n",
       "0    bathroom  1.534704\n",
       "1     parking  1.000920\n",
       "2     balcony  1.061407\n",
       "3       price  2.002900\n",
       "4  total_sqft  2.315288\n",
       "5      resale  1.000091"
      ]
     },
     "execution_count": 86,
     "metadata": {},
     "output_type": "execute_result"
    }
   ],
   "source": [
    "calculate_vif(df1)"
   ]
  },
  {
   "cell_type": "code",
   "execution_count": 87,
   "id": "a48cd2d7",
   "metadata": {},
   "outputs": [
    {
     "data": {
      "text/html": [
       "<div>\n",
       "<style scoped>\n",
       "    .dataframe tbody tr th:only-of-type {\n",
       "        vertical-align: middle;\n",
       "    }\n",
       "\n",
       "    .dataframe tbody tr th {\n",
       "        vertical-align: top;\n",
       "    }\n",
       "\n",
       "    .dataframe thead th {\n",
       "        text-align: right;\n",
       "    }\n",
       "</style>\n",
       "<table border=\"1\" class=\"dataframe\">\n",
       "  <thead>\n",
       "    <tr style=\"text-align: right;\">\n",
       "      <th></th>\n",
       "      <th>index</th>\n",
       "      <th>bathroom</th>\n",
       "      <th>parking</th>\n",
       "      <th>balcony</th>\n",
       "      <th>total_sqft</th>\n",
       "      <th>resale</th>\n",
       "      <th>index</th>\n",
       "      <th>area_type_Built-up  Area</th>\n",
       "      <th>area_type_Carpet  Area</th>\n",
       "      <th>area_type_Plot  Area</th>\n",
       "      <th>...</th>\n",
       "      <th>location_Marathi Layout</th>\n",
       "      <th>location_Narasapura</th>\n",
       "      <th>location_North Region</th>\n",
       "      <th>location_North-East Region</th>\n",
       "      <th>location_North-West Region</th>\n",
       "      <th>location_South Region</th>\n",
       "      <th>location_South-East Region</th>\n",
       "      <th>location_South-West Region</th>\n",
       "      <th>location_West Region</th>\n",
       "      <th>location_arudi</th>\n",
       "    </tr>\n",
       "  </thead>\n",
       "  <tbody>\n",
       "    <tr>\n",
       "      <th>0</th>\n",
       "      <td>0</td>\n",
       "      <td>0.125</td>\n",
       "      <td>1.0</td>\n",
       "      <td>0.333333</td>\n",
       "      <td>0.353830</td>\n",
       "      <td>0.0</td>\n",
       "      <td>0</td>\n",
       "      <td>0</td>\n",
       "      <td>0</td>\n",
       "      <td>0</td>\n",
       "      <td>...</td>\n",
       "      <td>0</td>\n",
       "      <td>0</td>\n",
       "      <td>0</td>\n",
       "      <td>0</td>\n",
       "      <td>0</td>\n",
       "      <td>0</td>\n",
       "      <td>1</td>\n",
       "      <td>0</td>\n",
       "      <td>0</td>\n",
       "      <td>0</td>\n",
       "    </tr>\n",
       "    <tr>\n",
       "      <th>1</th>\n",
       "      <td>1</td>\n",
       "      <td>0.125</td>\n",
       "      <td>0.5</td>\n",
       "      <td>1.000000</td>\n",
       "      <td>0.560949</td>\n",
       "      <td>1.0</td>\n",
       "      <td>2</td>\n",
       "      <td>1</td>\n",
       "      <td>0</td>\n",
       "      <td>0</td>\n",
       "      <td>...</td>\n",
       "      <td>0</td>\n",
       "      <td>0</td>\n",
       "      <td>0</td>\n",
       "      <td>0</td>\n",
       "      <td>0</td>\n",
       "      <td>1</td>\n",
       "      <td>0</td>\n",
       "      <td>0</td>\n",
       "      <td>0</td>\n",
       "      <td>0</td>\n",
       "    </tr>\n",
       "    <tr>\n",
       "      <th>2</th>\n",
       "      <td>2</td>\n",
       "      <td>0.250</td>\n",
       "      <td>1.0</td>\n",
       "      <td>0.333333</td>\n",
       "      <td>0.604639</td>\n",
       "      <td>0.0</td>\n",
       "      <td>3</td>\n",
       "      <td>0</td>\n",
       "      <td>0</td>\n",
       "      <td>0</td>\n",
       "      <td>...</td>\n",
       "      <td>0</td>\n",
       "      <td>0</td>\n",
       "      <td>0</td>\n",
       "      <td>0</td>\n",
       "      <td>0</td>\n",
       "      <td>1</td>\n",
       "      <td>0</td>\n",
       "      <td>0</td>\n",
       "      <td>0</td>\n",
       "      <td>0</td>\n",
       "    </tr>\n",
       "    <tr>\n",
       "      <th>3</th>\n",
       "      <td>3</td>\n",
       "      <td>0.125</td>\n",
       "      <td>0.5</td>\n",
       "      <td>0.333333</td>\n",
       "      <td>0.431499</td>\n",
       "      <td>1.0</td>\n",
       "      <td>4</td>\n",
       "      <td>0</td>\n",
       "      <td>0</td>\n",
       "      <td>0</td>\n",
       "      <td>...</td>\n",
       "      <td>0</td>\n",
       "      <td>0</td>\n",
       "      <td>0</td>\n",
       "      <td>0</td>\n",
       "      <td>0</td>\n",
       "      <td>1</td>\n",
       "      <td>0</td>\n",
       "      <td>0</td>\n",
       "      <td>0</td>\n",
       "      <td>0</td>\n",
       "    </tr>\n",
       "    <tr>\n",
       "      <th>4</th>\n",
       "      <td>4</td>\n",
       "      <td>0.125</td>\n",
       "      <td>1.0</td>\n",
       "      <td>0.333333</td>\n",
       "      <td>0.415318</td>\n",
       "      <td>0.0</td>\n",
       "      <td>5</td>\n",
       "      <td>0</td>\n",
       "      <td>0</td>\n",
       "      <td>0</td>\n",
       "      <td>...</td>\n",
       "      <td>0</td>\n",
       "      <td>0</td>\n",
       "      <td>0</td>\n",
       "      <td>0</td>\n",
       "      <td>0</td>\n",
       "      <td>0</td>\n",
       "      <td>0</td>\n",
       "      <td>0</td>\n",
       "      <td>0</td>\n",
       "      <td>0</td>\n",
       "    </tr>\n",
       "    <tr>\n",
       "      <th>...</th>\n",
       "      <td>...</td>\n",
       "      <td>...</td>\n",
       "      <td>...</td>\n",
       "      <td>...</td>\n",
       "      <td>...</td>\n",
       "      <td>...</td>\n",
       "      <td>...</td>\n",
       "      <td>...</td>\n",
       "      <td>...</td>\n",
       "      <td>...</td>\n",
       "      <td>...</td>\n",
       "      <td>...</td>\n",
       "      <td>...</td>\n",
       "      <td>...</td>\n",
       "      <td>...</td>\n",
       "      <td>...</td>\n",
       "      <td>...</td>\n",
       "      <td>...</td>\n",
       "      <td>...</td>\n",
       "      <td>...</td>\n",
       "      <td>...</td>\n",
       "    </tr>\n",
       "    <tr>\n",
       "      <th>11353</th>\n",
       "      <td>11353</td>\n",
       "      <td>0.125</td>\n",
       "      <td>1.0</td>\n",
       "      <td>0.666667</td>\n",
       "      <td>0.464941</td>\n",
       "      <td>0.0</td>\n",
       "      <td>13298</td>\n",
       "      <td>0</td>\n",
       "      <td>0</td>\n",
       "      <td>0</td>\n",
       "      <td>...</td>\n",
       "      <td>0</td>\n",
       "      <td>0</td>\n",
       "      <td>1</td>\n",
       "      <td>0</td>\n",
       "      <td>0</td>\n",
       "      <td>0</td>\n",
       "      <td>0</td>\n",
       "      <td>0</td>\n",
       "      <td>0</td>\n",
       "      <td>0</td>\n",
       "    </tr>\n",
       "    <tr>\n",
       "      <th>11354</th>\n",
       "      <td>11354</td>\n",
       "      <td>0.125</td>\n",
       "      <td>0.5</td>\n",
       "      <td>0.333333</td>\n",
       "      <td>0.509709</td>\n",
       "      <td>1.0</td>\n",
       "      <td>13299</td>\n",
       "      <td>0</td>\n",
       "      <td>0</td>\n",
       "      <td>0</td>\n",
       "      <td>...</td>\n",
       "      <td>0</td>\n",
       "      <td>0</td>\n",
       "      <td>0</td>\n",
       "      <td>0</td>\n",
       "      <td>0</td>\n",
       "      <td>0</td>\n",
       "      <td>0</td>\n",
       "      <td>0</td>\n",
       "      <td>0</td>\n",
       "      <td>0</td>\n",
       "    </tr>\n",
       "    <tr>\n",
       "      <th>11355</th>\n",
       "      <td>11355</td>\n",
       "      <td>0.250</td>\n",
       "      <td>0.5</td>\n",
       "      <td>1.000000</td>\n",
       "      <td>0.709277</td>\n",
       "      <td>1.0</td>\n",
       "      <td>13300</td>\n",
       "      <td>0</td>\n",
       "      <td>0</td>\n",
       "      <td>0</td>\n",
       "      <td>...</td>\n",
       "      <td>0</td>\n",
       "      <td>0</td>\n",
       "      <td>0</td>\n",
       "      <td>0</td>\n",
       "      <td>0</td>\n",
       "      <td>1</td>\n",
       "      <td>0</td>\n",
       "      <td>0</td>\n",
       "      <td>0</td>\n",
       "      <td>0</td>\n",
       "    </tr>\n",
       "    <tr>\n",
       "      <th>11356</th>\n",
       "      <td>11356</td>\n",
       "      <td>0.125</td>\n",
       "      <td>1.0</td>\n",
       "      <td>0.333333</td>\n",
       "      <td>0.399676</td>\n",
       "      <td>1.0</td>\n",
       "      <td>13303</td>\n",
       "      <td>1</td>\n",
       "      <td>0</td>\n",
       "      <td>0</td>\n",
       "      <td>...</td>\n",
       "      <td>0</td>\n",
       "      <td>0</td>\n",
       "      <td>1</td>\n",
       "      <td>0</td>\n",
       "      <td>0</td>\n",
       "      <td>0</td>\n",
       "      <td>0</td>\n",
       "      <td>0</td>\n",
       "      <td>0</td>\n",
       "      <td>0</td>\n",
       "    </tr>\n",
       "    <tr>\n",
       "      <th>11357</th>\n",
       "      <td>11357</td>\n",
       "      <td>0.000</td>\n",
       "      <td>0.5</td>\n",
       "      <td>0.333333</td>\n",
       "      <td>0.080906</td>\n",
       "      <td>1.0</td>\n",
       "      <td>13305</td>\n",
       "      <td>0</td>\n",
       "      <td>0</td>\n",
       "      <td>0</td>\n",
       "      <td>...</td>\n",
       "      <td>0</td>\n",
       "      <td>0</td>\n",
       "      <td>0</td>\n",
       "      <td>0</td>\n",
       "      <td>0</td>\n",
       "      <td>1</td>\n",
       "      <td>0</td>\n",
       "      <td>0</td>\n",
       "      <td>0</td>\n",
       "      <td>0</td>\n",
       "    </tr>\n",
       "  </tbody>\n",
       "</table>\n",
       "<p>11358 rows × 42 columns</p>\n",
       "</div>"
      ],
      "text/plain": [
       "       index  bathroom  parking   balcony  total_sqft  resale  index  \\\n",
       "0          0     0.125      1.0  0.333333    0.353830     0.0      0   \n",
       "1          1     0.125      0.5  1.000000    0.560949     1.0      2   \n",
       "2          2     0.250      1.0  0.333333    0.604639     0.0      3   \n",
       "3          3     0.125      0.5  0.333333    0.431499     1.0      4   \n",
       "4          4     0.125      1.0  0.333333    0.415318     0.0      5   \n",
       "...      ...       ...      ...       ...         ...     ...    ...   \n",
       "11353  11353     0.125      1.0  0.666667    0.464941     0.0  13298   \n",
       "11354  11354     0.125      0.5  0.333333    0.509709     1.0  13299   \n",
       "11355  11355     0.250      0.5  1.000000    0.709277     1.0  13300   \n",
       "11356  11356     0.125      1.0  0.333333    0.399676     1.0  13303   \n",
       "11357  11357     0.000      0.5  0.333333    0.080906     1.0  13305   \n",
       "\n",
       "       area_type_Built-up  Area  area_type_Carpet  Area  area_type_Plot  Area  \\\n",
       "0                             0                       0                     0   \n",
       "1                             1                       0                     0   \n",
       "2                             0                       0                     0   \n",
       "3                             0                       0                     0   \n",
       "4                             0                       0                     0   \n",
       "...                         ...                     ...                   ...   \n",
       "11353                         0                       0                     0   \n",
       "11354                         0                       0                     0   \n",
       "11355                         0                       0                     0   \n",
       "11356                         1                       0                     0   \n",
       "11357                         0                       0                     0   \n",
       "\n",
       "       ...  location_Marathi Layout  location_Narasapura  \\\n",
       "0      ...                        0                    0   \n",
       "1      ...                        0                    0   \n",
       "2      ...                        0                    0   \n",
       "3      ...                        0                    0   \n",
       "4      ...                        0                    0   \n",
       "...    ...                      ...                  ...   \n",
       "11353  ...                        0                    0   \n",
       "11354  ...                        0                    0   \n",
       "11355  ...                        0                    0   \n",
       "11356  ...                        0                    0   \n",
       "11357  ...                        0                    0   \n",
       "\n",
       "       location_North Region  location_North-East Region  \\\n",
       "0                          0                           0   \n",
       "1                          0                           0   \n",
       "2                          0                           0   \n",
       "3                          0                           0   \n",
       "4                          0                           0   \n",
       "...                      ...                         ...   \n",
       "11353                      1                           0   \n",
       "11354                      0                           0   \n",
       "11355                      0                           0   \n",
       "11356                      1                           0   \n",
       "11357                      0                           0   \n",
       "\n",
       "       location_North-West Region  location_South Region  \\\n",
       "0                               0                      0   \n",
       "1                               0                      1   \n",
       "2                               0                      1   \n",
       "3                               0                      1   \n",
       "4                               0                      0   \n",
       "...                           ...                    ...   \n",
       "11353                           0                      0   \n",
       "11354                           0                      0   \n",
       "11355                           0                      1   \n",
       "11356                           0                      0   \n",
       "11357                           0                      1   \n",
       "\n",
       "       location_South-East Region  location_South-West Region  \\\n",
       "0                               1                           0   \n",
       "1                               0                           0   \n",
       "2                               0                           0   \n",
       "3                               0                           0   \n",
       "4                               0                           0   \n",
       "...                           ...                         ...   \n",
       "11353                           0                           0   \n",
       "11354                           0                           0   \n",
       "11355                           0                           0   \n",
       "11356                           0                           0   \n",
       "11357                           0                           0   \n",
       "\n",
       "       location_West Region  location_arudi  \n",
       "0                         0               0  \n",
       "1                         0               0  \n",
       "2                         0               0  \n",
       "3                         0               0  \n",
       "4                         0               0  \n",
       "...                     ...             ...  \n",
       "11353                     0               0  \n",
       "11354                     0               0  \n",
       "11355                     0               0  \n",
       "11356                     0               0  \n",
       "11357                     0               0  \n",
       "\n",
       "[11358 rows x 42 columns]"
      ]
     },
     "execution_count": 87,
     "metadata": {},
     "output_type": "execute_result"
    }
   ],
   "source": [
    "X"
   ]
  },
  {
   "cell_type": "code",
   "execution_count": null,
   "id": "ad2485e5",
   "metadata": {},
   "outputs": [],
   "source": []
  },
  {
   "cell_type": "code",
   "execution_count": 88,
   "id": "7d87c681",
   "metadata": {},
   "outputs": [
    {
     "data": {
      "text/html": [
       "<table class=\"simpletable\">\n",
       "<caption>OLS Regression Results</caption>\n",
       "<tr>\n",
       "  <th>Dep. Variable:</th>          <td>price</td>      <th>  R-squared:         </th>  <td>   0.541</td>  \n",
       "</tr>\n",
       "<tr>\n",
       "  <th>Model:</th>                   <td>OLS</td>       <th>  Adj. R-squared:    </th>  <td>   0.540</td>  \n",
       "</tr>\n",
       "<tr>\n",
       "  <th>Method:</th>             <td>Least Squares</td>  <th>  F-statistic:       </th>  <td>   371.1</td>  \n",
       "</tr>\n",
       "<tr>\n",
       "  <th>Date:</th>             <td>Mon, 03 Jul 2023</td> <th>  Prob (F-statistic):</th>   <td>  0.00</td>   \n",
       "</tr>\n",
       "<tr>\n",
       "  <th>Time:</th>                 <td>07:10:59</td>     <th>  Log-Likelihood:    </th> <td>-1.8408e+05</td>\n",
       "</tr>\n",
       "<tr>\n",
       "  <th>No. Observations:</th>      <td> 11358</td>      <th>  AIC:               </th>  <td>3.682e+05</td> \n",
       "</tr>\n",
       "<tr>\n",
       "  <th>Df Residuals:</th>          <td> 11321</td>      <th>  BIC:               </th>  <td>3.685e+05</td> \n",
       "</tr>\n",
       "<tr>\n",
       "  <th>Df Model:</th>              <td>    36</td>      <th>                     </th>      <td> </td>     \n",
       "</tr>\n",
       "<tr>\n",
       "  <th>Covariance Type:</th>      <td>nonrobust</td>    <th>                     </th>      <td> </td>     \n",
       "</tr>\n",
       "</table>\n",
       "<table class=\"simpletable\">\n",
       "<tr>\n",
       "                            <td></td>                               <th>coef</th>     <th>std err</th>      <th>t</th>      <th>P>|t|</th>  <th>[0.025</th>    <th>0.975]</th>  \n",
       "</tr>\n",
       "<tr>\n",
       "  <th>const</th>                                                 <td> 7.799e+05</td> <td> 1.72e+05</td> <td>    4.534</td> <td> 0.000</td> <td> 4.43e+05</td> <td> 1.12e+06</td>\n",
       "</tr>\n",
       "<tr>\n",
       "  <th>index</th>                                                 <td> 1194.6558</td> <td> 1489.031</td> <td>    0.802</td> <td> 0.422</td> <td>-1724.104</td> <td> 4113.416</td>\n",
       "</tr>\n",
       "<tr>\n",
       "  <th>bathroom</th>                                              <td> 7.035e+06</td> <td> 4.54e+05</td> <td>   15.486</td> <td> 0.000</td> <td> 6.14e+06</td> <td> 7.92e+06</td>\n",
       "</tr>\n",
       "<tr>\n",
       "  <th>parking</th>                                               <td>-2.542e+05</td> <td> 9.85e+04</td> <td>   -2.581</td> <td> 0.010</td> <td>-4.47e+05</td> <td>-6.12e+04</td>\n",
       "</tr>\n",
       "<tr>\n",
       "  <th>balcony</th>                                               <td>-1.388e+05</td> <td> 1.06e+05</td> <td>   -1.314</td> <td> 0.189</td> <td>-3.46e+05</td> <td> 6.82e+04</td>\n",
       "</tr>\n",
       "<tr>\n",
       "  <th>total_sqft</th>                                            <td> 1.198e+07</td> <td> 1.94e+05</td> <td>   61.923</td> <td> 0.000</td> <td> 1.16e+07</td> <td> 1.24e+07</td>\n",
       "</tr>\n",
       "<tr>\n",
       "  <th>resale</th>                                                <td> -9.09e+04</td> <td> 4.98e+04</td> <td>   -1.825</td> <td> 0.068</td> <td>-1.89e+05</td> <td> 6708.245</td>\n",
       "</tr>\n",
       "<tr>\n",
       "  <th>index</th>                                                 <td>-1023.4325</td> <td> 1270.244</td> <td>   -0.806</td> <td> 0.420</td> <td>-3513.332</td> <td> 1466.467</td>\n",
       "</tr>\n",
       "<tr>\n",
       "  <th>area_type_Built-up  Area</th>                              <td>-8.796e+05</td> <td> 9.56e+04</td> <td>   -9.204</td> <td> 0.000</td> <td>-1.07e+06</td> <td>-6.92e+05</td>\n",
       "</tr>\n",
       "<tr>\n",
       "  <th>area_type_Carpet  Area</th>                                <td> 3.049e+05</td> <td> 2.34e+05</td> <td>    1.302</td> <td> 0.193</td> <td>-1.54e+05</td> <td> 7.64e+05</td>\n",
       "</tr>\n",
       "<tr>\n",
       "  <th>area_type_Plot  Area</th>                                  <td> 2.328e+06</td> <td> 1.05e+05</td> <td>   22.125</td> <td> 0.000</td> <td> 2.12e+06</td> <td> 2.53e+06</td>\n",
       "</tr>\n",
       "<tr>\n",
       "  <th>area_type_Super built-up  Area</th>                        <td> -9.73e+05</td> <td> 9.03e+04</td> <td>  -10.774</td> <td> 0.000</td> <td>-1.15e+06</td> <td>-7.96e+05</td>\n",
       "</tr>\n",
       "<tr>\n",
       "  <th>size_1 BHK</th>                                            <td> 5.426e+05</td> <td> 2.31e+05</td> <td>    2.345</td> <td> 0.019</td> <td>  8.9e+04</td> <td> 9.96e+05</td>\n",
       "</tr>\n",
       "<tr>\n",
       "  <th>size_1 RK</th>                                             <td> 1.113e+06</td> <td> 9.96e+05</td> <td>    1.117</td> <td> 0.264</td> <td>-8.39e+05</td> <td> 3.06e+06</td>\n",
       "</tr>\n",
       "<tr>\n",
       "  <th>size_2 BHK</th>                                            <td>-9.305e+05</td> <td> 1.83e+05</td> <td>   -5.073</td> <td> 0.000</td> <td>-1.29e+06</td> <td>-5.71e+05</td>\n",
       "</tr>\n",
       "<tr>\n",
       "  <th>size_3 BHK</th>                                            <td>-1.063e+06</td> <td> 1.71e+05</td> <td>   -6.202</td> <td> 0.000</td> <td> -1.4e+06</td> <td>-7.27e+05</td>\n",
       "</tr>\n",
       "<tr>\n",
       "  <th>size_4 BHK</th>                                            <td> 1.607e+05</td> <td>  1.8e+05</td> <td>    0.892</td> <td> 0.372</td> <td>-1.93e+05</td> <td> 5.14e+05</td>\n",
       "</tr>\n",
       "<tr>\n",
       "  <th>size_5 BHK</th>                                            <td> 3.597e+05</td> <td> 2.38e+05</td> <td>    1.513</td> <td> 0.130</td> <td>-1.06e+05</td> <td> 8.26e+05</td>\n",
       "</tr>\n",
       "<tr>\n",
       "  <th>size_6 BHK</th>                                            <td> 3.704e+05</td> <td> 2.69e+05</td> <td>    1.377</td> <td> 0.169</td> <td>-1.57e+05</td> <td> 8.98e+05</td>\n",
       "</tr>\n",
       "<tr>\n",
       "  <th>size_7 BHK</th>                                            <td> 6.186e+05</td> <td>  3.9e+05</td> <td>    1.587</td> <td> 0.112</td> <td>-1.45e+05</td> <td> 1.38e+06</td>\n",
       "</tr>\n",
       "<tr>\n",
       "  <th>size_8 BHK</th>                                            <td>  4.08e+05</td> <td> 4.21e+05</td> <td>    0.968</td> <td> 0.333</td> <td>-4.18e+05</td> <td> 1.23e+06</td>\n",
       "</tr>\n",
       "<tr>\n",
       "  <th>size_9 BHK</th>                                            <td>-7.988e+05</td> <td> 5.62e+05</td> <td>   -1.422</td> <td> 0.155</td> <td> -1.9e+06</td> <td> 3.02e+05</td>\n",
       "</tr>\n",
       "<tr>\n",
       "  <th>hospital_nearby_No</th>                                    <td> 3.916e+05</td> <td> 8.97e+04</td> <td>    4.367</td> <td> 0.000</td> <td> 2.16e+05</td> <td> 5.67e+05</td>\n",
       "</tr>\n",
       "<tr>\n",
       "  <th>hospital_nearby_Yes</th>                                   <td> 3.883e+05</td> <td> 8.94e+04</td> <td>    4.344</td> <td> 0.000</td> <td> 2.13e+05</td> <td> 5.64e+05</td>\n",
       "</tr>\n",
       "<tr>\n",
       "  <th>school_nearby_No</th>                                      <td>  3.87e+05</td> <td> 8.91e+04</td> <td>    4.343</td> <td> 0.000</td> <td> 2.12e+05</td> <td> 5.62e+05</td>\n",
       "</tr>\n",
       "<tr>\n",
       "  <th>school_nearby_Yes</th>                                     <td>  3.93e+05</td> <td>    9e+04</td> <td>    4.368</td> <td> 0.000</td> <td> 2.17e+05</td> <td> 5.69e+05</td>\n",
       "</tr>\n",
       "<tr>\n",
       "  <th>mall_nearby_No</th>                                        <td> 3.819e+05</td> <td> 8.93e+04</td> <td>    4.278</td> <td> 0.000</td> <td> 2.07e+05</td> <td> 5.57e+05</td>\n",
       "</tr>\n",
       "<tr>\n",
       "  <th>mall_nearby_Yes</th>                                       <td> 3.981e+05</td> <td> 8.98e+04</td> <td>    4.433</td> <td> 0.000</td> <td> 2.22e+05</td> <td> 5.74e+05</td>\n",
       "</tr>\n",
       "<tr>\n",
       "  <th>location_2 Bedroom Furnished Farm House in Kolar Road</th> <td>-5.486e+06</td> <td> 2.51e+06</td> <td>   -2.186</td> <td> 0.029</td> <td>-1.04e+07</td> <td>-5.68e+05</td>\n",
       "</tr>\n",
       "<tr>\n",
       "  <th>location_4 Bedroom Farm House in Bagalur</th>              <td>-3.441e+06</td> <td> 2.51e+06</td> <td>   -1.370</td> <td> 0.171</td> <td>-8.37e+06</td> <td> 1.48e+06</td>\n",
       "</tr>\n",
       "<tr>\n",
       "  <th>location_5 Bedroom Farm House in Lakshmipura</th>          <td> 8.241e+06</td> <td> 2.51e+06</td> <td>    3.286</td> <td> 0.001</td> <td> 3.32e+06</td> <td> 1.32e+07</td>\n",
       "</tr>\n",
       "<tr>\n",
       "  <th>location_Central Region</th>                               <td> 4.383e+05</td> <td> 4.41e+05</td> <td>    0.994</td> <td> 0.320</td> <td>-4.26e+05</td> <td>  1.3e+06</td>\n",
       "</tr>\n",
       "<tr>\n",
       "  <th>location_East Region</th>                                  <td> 2.837e+05</td> <td> 4.29e+05</td> <td>    0.662</td> <td> 0.508</td> <td>-5.57e+05</td> <td> 1.12e+06</td>\n",
       "</tr>\n",
       "<tr>\n",
       "  <th>location_Marathi Layout</th>                               <td>-6.659e+05</td> <td> 2.51e+06</td> <td>   -0.266</td> <td> 0.791</td> <td>-5.58e+06</td> <td> 4.25e+06</td>\n",
       "</tr>\n",
       "<tr>\n",
       "  <th>location_Narasapura</th>                                   <td>-1.777e+06</td> <td> 2.51e+06</td> <td>   -0.709</td> <td> 0.479</td> <td>-6.69e+06</td> <td> 3.14e+06</td>\n",
       "</tr>\n",
       "<tr>\n",
       "  <th>location_North Region</th>                                 <td> 3.383e+05</td> <td> 4.28e+05</td> <td>    0.790</td> <td> 0.430</td> <td>-5.01e+05</td> <td> 1.18e+06</td>\n",
       "</tr>\n",
       "<tr>\n",
       "  <th>location_North-East Region</th>                            <td>  3.11e+05</td> <td> 4.38e+05</td> <td>    0.711</td> <td> 0.477</td> <td>-5.47e+05</td> <td> 1.17e+06</td>\n",
       "</tr>\n",
       "<tr>\n",
       "  <th>location_North-West Region</th>                            <td> 1.399e+06</td> <td> 6.26e+05</td> <td>    2.235</td> <td> 0.025</td> <td> 1.72e+05</td> <td> 2.63e+06</td>\n",
       "</tr>\n",
       "<tr>\n",
       "  <th>location_South Region</th>                                 <td> 3.968e+05</td> <td> 4.27e+05</td> <td>    0.929</td> <td> 0.353</td> <td>-4.41e+05</td> <td> 1.23e+06</td>\n",
       "</tr>\n",
       "<tr>\n",
       "  <th>location_South-East Region</th>                            <td> 3.866e+05</td> <td> 4.31e+05</td> <td>    0.897</td> <td> 0.370</td> <td>-4.58e+05</td> <td> 1.23e+06</td>\n",
       "</tr>\n",
       "<tr>\n",
       "  <th>location_South-West Region</th>                            <td> 4.692e+05</td> <td> 5.66e+05</td> <td>    0.829</td> <td> 0.407</td> <td> -6.4e+05</td> <td> 1.58e+06</td>\n",
       "</tr>\n",
       "<tr>\n",
       "  <th>location_West Region</th>                                  <td> 3.181e+05</td> <td> 4.36e+05</td> <td>    0.730</td> <td> 0.466</td> <td>-5.36e+05</td> <td> 1.17e+06</td>\n",
       "</tr>\n",
       "<tr>\n",
       "  <th>location_arudi</th>                                        <td>-4.309e+05</td> <td> 2.51e+06</td> <td>   -0.172</td> <td> 0.864</td> <td>-5.35e+06</td> <td> 4.49e+06</td>\n",
       "</tr>\n",
       "</table>\n",
       "<table class=\"simpletable\">\n",
       "<tr>\n",
       "  <th>Omnibus:</th>       <td>2512.420</td> <th>  Durbin-Watson:     </th> <td>   1.979</td>\n",
       "</tr>\n",
       "<tr>\n",
       "  <th>Prob(Omnibus):</th>  <td> 0.000</td>  <th>  Jarque-Bera (JB):  </th> <td>8789.814</td>\n",
       "</tr>\n",
       "<tr>\n",
       "  <th>Skew:</th>           <td> 1.092</td>  <th>  Prob(JB):          </th> <td>    0.00</td>\n",
       "</tr>\n",
       "<tr>\n",
       "  <th>Kurtosis:</th>       <td> 6.715</td>  <th>  Cond. No.          </th> <td>8.81e+17</td>\n",
       "</tr>\n",
       "</table><br/><br/>Notes:<br/>[1] Standard Errors assume that the covariance matrix of the errors is correctly specified.<br/>[2] The smallest eigenvalue is 1.49e-24. This might indicate that there are<br/>strong multicollinearity problems or that the design matrix is singular."
      ],
      "text/plain": [
       "<class 'statsmodels.iolib.summary.Summary'>\n",
       "\"\"\"\n",
       "                            OLS Regression Results                            \n",
       "==============================================================================\n",
       "Dep. Variable:                  price   R-squared:                       0.541\n",
       "Model:                            OLS   Adj. R-squared:                  0.540\n",
       "Method:                 Least Squares   F-statistic:                     371.1\n",
       "Date:                Mon, 03 Jul 2023   Prob (F-statistic):               0.00\n",
       "Time:                        07:10:59   Log-Likelihood:            -1.8408e+05\n",
       "No. Observations:               11358   AIC:                         3.682e+05\n",
       "Df Residuals:                   11321   BIC:                         3.685e+05\n",
       "Df Model:                          36                                         \n",
       "Covariance Type:            nonrobust                                         \n",
       "=========================================================================================================================\n",
       "                                                            coef    std err          t      P>|t|      [0.025      0.975]\n",
       "-------------------------------------------------------------------------------------------------------------------------\n",
       "const                                                  7.799e+05   1.72e+05      4.534      0.000    4.43e+05    1.12e+06\n",
       "index                                                  1194.6558   1489.031      0.802      0.422   -1724.104    4113.416\n",
       "bathroom                                               7.035e+06   4.54e+05     15.486      0.000    6.14e+06    7.92e+06\n",
       "parking                                               -2.542e+05   9.85e+04     -2.581      0.010   -4.47e+05   -6.12e+04\n",
       "balcony                                               -1.388e+05   1.06e+05     -1.314      0.189   -3.46e+05    6.82e+04\n",
       "total_sqft                                             1.198e+07   1.94e+05     61.923      0.000    1.16e+07    1.24e+07\n",
       "resale                                                 -9.09e+04   4.98e+04     -1.825      0.068   -1.89e+05    6708.245\n",
       "index                                                 -1023.4325   1270.244     -0.806      0.420   -3513.332    1466.467\n",
       "area_type_Built-up  Area                              -8.796e+05   9.56e+04     -9.204      0.000   -1.07e+06   -6.92e+05\n",
       "area_type_Carpet  Area                                 3.049e+05   2.34e+05      1.302      0.193   -1.54e+05    7.64e+05\n",
       "area_type_Plot  Area                                   2.328e+06   1.05e+05     22.125      0.000    2.12e+06    2.53e+06\n",
       "area_type_Super built-up  Area                         -9.73e+05   9.03e+04    -10.774      0.000   -1.15e+06   -7.96e+05\n",
       "size_1 BHK                                             5.426e+05   2.31e+05      2.345      0.019     8.9e+04    9.96e+05\n",
       "size_1 RK                                              1.113e+06   9.96e+05      1.117      0.264   -8.39e+05    3.06e+06\n",
       "size_2 BHK                                            -9.305e+05   1.83e+05     -5.073      0.000   -1.29e+06   -5.71e+05\n",
       "size_3 BHK                                            -1.063e+06   1.71e+05     -6.202      0.000    -1.4e+06   -7.27e+05\n",
       "size_4 BHK                                             1.607e+05    1.8e+05      0.892      0.372   -1.93e+05    5.14e+05\n",
       "size_5 BHK                                             3.597e+05   2.38e+05      1.513      0.130   -1.06e+05    8.26e+05\n",
       "size_6 BHK                                             3.704e+05   2.69e+05      1.377      0.169   -1.57e+05    8.98e+05\n",
       "size_7 BHK                                             6.186e+05    3.9e+05      1.587      0.112   -1.45e+05    1.38e+06\n",
       "size_8 BHK                                              4.08e+05   4.21e+05      0.968      0.333   -4.18e+05    1.23e+06\n",
       "size_9 BHK                                            -7.988e+05   5.62e+05     -1.422      0.155    -1.9e+06    3.02e+05\n",
       "hospital_nearby_No                                     3.916e+05   8.97e+04      4.367      0.000    2.16e+05    5.67e+05\n",
       "hospital_nearby_Yes                                    3.883e+05   8.94e+04      4.344      0.000    2.13e+05    5.64e+05\n",
       "school_nearby_No                                        3.87e+05   8.91e+04      4.343      0.000    2.12e+05    5.62e+05\n",
       "school_nearby_Yes                                       3.93e+05      9e+04      4.368      0.000    2.17e+05    5.69e+05\n",
       "mall_nearby_No                                         3.819e+05   8.93e+04      4.278      0.000    2.07e+05    5.57e+05\n",
       "mall_nearby_Yes                                        3.981e+05   8.98e+04      4.433      0.000    2.22e+05    5.74e+05\n",
       "location_2 Bedroom Furnished Farm House in Kolar Road -5.486e+06   2.51e+06     -2.186      0.029   -1.04e+07   -5.68e+05\n",
       "location_4 Bedroom Farm House in Bagalur              -3.441e+06   2.51e+06     -1.370      0.171   -8.37e+06    1.48e+06\n",
       "location_5 Bedroom Farm House in Lakshmipura           8.241e+06   2.51e+06      3.286      0.001    3.32e+06    1.32e+07\n",
       "location_Central Region                                4.383e+05   4.41e+05      0.994      0.320   -4.26e+05     1.3e+06\n",
       "location_East Region                                   2.837e+05   4.29e+05      0.662      0.508   -5.57e+05    1.12e+06\n",
       "location_Marathi Layout                               -6.659e+05   2.51e+06     -0.266      0.791   -5.58e+06    4.25e+06\n",
       "location_Narasapura                                   -1.777e+06   2.51e+06     -0.709      0.479   -6.69e+06    3.14e+06\n",
       "location_North Region                                  3.383e+05   4.28e+05      0.790      0.430   -5.01e+05    1.18e+06\n",
       "location_North-East Region                              3.11e+05   4.38e+05      0.711      0.477   -5.47e+05    1.17e+06\n",
       "location_North-West Region                             1.399e+06   6.26e+05      2.235      0.025    1.72e+05    2.63e+06\n",
       "location_South Region                                  3.968e+05   4.27e+05      0.929      0.353   -4.41e+05    1.23e+06\n",
       "location_South-East Region                             3.866e+05   4.31e+05      0.897      0.370   -4.58e+05    1.23e+06\n",
       "location_South-West Region                             4.692e+05   5.66e+05      0.829      0.407    -6.4e+05    1.58e+06\n",
       "location_West Region                                   3.181e+05   4.36e+05      0.730      0.466   -5.36e+05    1.17e+06\n",
       "location_arudi                                        -4.309e+05   2.51e+06     -0.172      0.864   -5.35e+06    4.49e+06\n",
       "==============================================================================\n",
       "Omnibus:                     2512.420   Durbin-Watson:                   1.979\n",
       "Prob(Omnibus):                  0.000   Jarque-Bera (JB):             8789.814\n",
       "Skew:                           1.092   Prob(JB):                         0.00\n",
       "Kurtosis:                       6.715   Cond. No.                     8.81e+17\n",
       "==============================================================================\n",
       "\n",
       "Notes:\n",
       "[1] Standard Errors assume that the covariance matrix of the errors is correctly specified.\n",
       "[2] The smallest eigenvalue is 1.49e-24. This might indicate that there are\n",
       "strong multicollinearity problems or that the design matrix is singular.\n",
       "\"\"\""
      ]
     },
     "execution_count": 88,
     "metadata": {},
     "output_type": "execute_result"
    }
   ],
   "source": [
    "# This is the intercept that has to be added to create the model\n",
    "X = sm.add_constant(X)\n",
    "\n",
    "# create the model\n",
    "modelNew = sm.OLS(y,X)\n",
    "\n",
    "#fit the model\n",
    "fitted = modelNew.fit() \n",
    "\n",
    "#Obtain the results of regression\n",
    "fitted.summary()"
   ]
  },
  {
   "cell_type": "markdown",
   "id": "f68f5345",
   "metadata": {},
   "source": [
    "# Linear regression"
   ]
  },
  {
   "cell_type": "code",
   "execution_count": 89,
   "id": "905f2261",
   "metadata": {},
   "outputs": [],
   "source": [
    "#multiple linear regression using OLS"
   ]
  },
  {
   "cell_type": "code",
   "execution_count": 90,
   "id": "5d82b4dd",
   "metadata": {},
   "outputs": [],
   "source": [
    "#instantiating a linear regression model\n",
    "lr = LinearRegression()\n",
    "\n",
    "#fitting a linear regression model for our X and y\n",
    "model_lr = lr.fit(X_train,y_train) "
   ]
  },
  {
   "cell_type": "code",
   "execution_count": 91,
   "id": "956a6a0d",
   "metadata": {},
   "outputs": [],
   "source": [
    "#importing Mean Absolute Percentage as a model performance metric\n",
    "from sklearn.metrics import mean_absolute_percentage_error as mape"
   ]
  },
  {
   "cell_type": "code",
   "execution_count": 92,
   "id": "fb442318",
   "metadata": {},
   "outputs": [
    {
     "name": "stdout",
     "output_type": "stream",
     "text": [
      "0.27294598597901687\n"
     ]
    }
   ],
   "source": [
    " #predicting for our train data using lr model\n",
    "preds_train_lr = model_lr.predict(X_train)\n",
    "\n",
    " #calculating mape for our train data\n",
    "train_MAPE_lr = mape(y_train, preds_train_lr)\n",
    "\n",
    "#printing train MAPE\n",
    "print(train_MAPE_lr)"
   ]
  },
  {
   "cell_type": "code",
   "execution_count": 93,
   "id": "abb31a45",
   "metadata": {},
   "outputs": [
    {
     "name": "stdout",
     "output_type": "stream",
     "text": [
      "0.2810783628272286\n"
     ]
    }
   ],
   "source": [
    "#predicting for our test data using lr model\n",
    "preds_test_lr = model_lr.predict(X_test) \n",
    "\n",
    "#calculating mape for our test data \n",
    "test_MAPE_lr = mape(y_test, preds_test_lr) \n",
    "\n",
    "#printing test MAPE\n",
    "print(test_MAPE_lr)"
   ]
  },
  {
   "cell_type": "markdown",
   "id": "8abd01e3",
   "metadata": {},
   "source": [
    "# R Square"
   ]
  },
  {
   "cell_type": "code",
   "execution_count": 94,
   "id": "03fdd11a",
   "metadata": {},
   "outputs": [
    {
     "data": {
      "text/plain": [
       "0.5494127391001253"
      ]
     },
     "execution_count": 94,
     "metadata": {},
     "output_type": "execute_result"
    }
   ],
   "source": [
    "r2_ols=model_lr.score(X_train,y_train)\n",
    "r2_ols"
   ]
  },
  {
   "cell_type": "code",
   "execution_count": 95,
   "id": "163a317a",
   "metadata": {},
   "outputs": [],
   "source": [
    "from sklearn.model_selection import GridSearchCV"
   ]
  },
  {
   "cell_type": "code",
   "execution_count": 96,
   "id": "0c627d56",
   "metadata": {},
   "outputs": [],
   "source": [
    "\n",
    "from sklearn.metrics import mean_absolute_percentage_error\n"
   ]
  },
  {
   "cell_type": "code",
   "execution_count": 97,
   "id": "abab7ec3",
   "metadata": {},
   "outputs": [],
   "source": [
    "from sklearn.tree import DecisionTreeRegressor\n",
    "\n",
    "# fit the Decission Tree Regressor model.\n",
    "\n",
    "DT_model = DecisionTreeRegressor()\n",
    "DT_model_fit = DT_model.fit(X_train , y_train)\n",
    "\n",
    "from sklearn.model_selection import GridSearchCV\n",
    "from sklearn.model_selection import cross_val_score"
   ]
  },
  {
   "cell_type": "code",
   "execution_count": 98,
   "id": "87ff3ecd",
   "metadata": {},
   "outputs": [],
   "source": [
    "from sklearn.metrics import r2_score\n"
   ]
  },
  {
   "cell_type": "code",
   "execution_count": 99,
   "id": "0e50d03e",
   "metadata": {},
   "outputs": [
    {
     "name": "stdout",
     "output_type": "stream",
     "text": [
      "0.6263903254542749\n",
      "MSE for DT model =  7127858737352.988\n",
      "RMSE for DT model =  2669804.9998741457\n",
      "R2 for DT model`=  0.5330526714052874\n",
      "Best parameters: {'max_depth': 7, 'min_samples_leaf': 9}\n"
     ]
    }
   ],
   "source": [
    "parameters={\"max_depth\" : [1,3,5,7,9,10],\"min_samples_leaf\":[2,3,4,5,6,7,8,9,10]}\n",
    "\n",
    "tuning_model = GridSearchCV(DT_model,param_grid=parameters,scoring='r2',cv=10)\n",
    "\n",
    "tuning_model.fit(X_train,y_train)\n",
    "DT = tuning_model.best_estimator_\n",
    "\n",
    "R2_dt_train = tuning_model.score(X_train,y_train)\n",
    "print(R2_dt_train)\n",
    "\n",
    "DT_pred = DT.predict(X_test)\n",
    "\n",
    "mse_DT = mean_squared_error (y_test, DT_pred)\n",
    "rmse_DT = np.sqrt(mean_squared_error (y_test, DT_pred))\n",
    "r2_DT = r2_score(y_test, DT_pred)\n",
    "\n",
    "print('MSE for DT model = ', mse_DT)\n",
    "print('RMSE for DT model = ', rmse_DT)\n",
    "print('R2 for DT model`= ', r2_DT)\n",
    "\n",
    "print(\"Best parameters:\", tuning_model.best_params_)"
   ]
  },
  {
   "cell_type": "code",
   "execution_count": 100,
   "id": "d271ce48",
   "metadata": {},
   "outputs": [
    {
     "name": "stdout",
     "output_type": "stream",
     "text": [
      "Train MAPE: 0.24776004922071942\n",
      "Test MAPE: 0.2679649103005095\n"
     ]
    }
   ],
   "source": [
    "from sklearn.tree import DecisionTreeRegressor\n",
    "from sklearn.metrics import mean_absolute_percentage_error\n",
    "\n",
    "# Assuming you have your training data stored in X_train and y_train\n",
    "# and test data in X_test and y_test\n",
    "\n",
    "# Training the decision tree model\n",
    "tree_model = DecisionTreeRegressor(max_depth= 7, min_samples_leaf= 9)\n",
    "tree_model.fit(X_train, y_train)\n",
    "\n",
    "# Predicting on the training and test data\n",
    "y_train_pred = tree_model.predict(X_train)\n",
    "y_test_pred = tree_model.predict(X_test)\n",
    "\n",
    "# Calculating MAPE for training data\n",
    "train_mape = mean_absolute_percentage_error(y_train, y_train_pred)\n",
    "\n",
    "# Calculating MAPE for test data\n",
    "test_mape = mean_absolute_percentage_error(y_test, y_test_pred)\n",
    "\n",
    "print(\"Train MAPE:\", train_mape)\n",
    "print(\"Test MAPE:\", test_mape)\n"
   ]
  },
  {
   "cell_type": "code",
   "execution_count": 101,
   "id": "80317ebf",
   "metadata": {},
   "outputs": [],
   "source": [
    "import numpy as np\n",
    "from sklearn.neighbors import KNeighborsRegressor\n",
    "from sklearn.metrics import mean_absolute_percentage_error\n",
    "\n",
    "\n",
    "\n",
    "# Train the KNN model\n",
    "k = 3  # Number of neighbors\n",
    "knn = KNeighborsRegressor(n_neighbors=k)\n",
    "knn.fit(X_train, y_train)\n",
    "\n",
    "# Predict on the training set\n",
    "y_train_pred = knn.predict(X_train)\n",
    "y_test_pred =  knn.predict(X_test)"
   ]
  },
  {
   "cell_type": "code",
   "execution_count": 102,
   "id": "1e691b8e",
   "metadata": {},
   "outputs": [
    {
     "data": {
      "text/plain": [
       "(0.3966919615301573, 0.5649858189274083)"
      ]
     },
     "execution_count": 102,
     "metadata": {},
     "output_type": "execute_result"
    }
   ],
   "source": [
    "# Calculate MAPE for training set\n",
    "mape_train_knn = mean_absolute_percentage_error(y_train, y_train_pred)\n",
    "\n",
    "\n",
    "# Calculate MAPE for testing set\n",
    "mape_test_knn = mean_absolute_percentage_error(y_test, y_test_pred)\n",
    "mape_train_knn,mape_test_knn"
   ]
  },
  {
   "cell_type": "code",
   "execution_count": 103,
   "id": "15ef1b17",
   "metadata": {},
   "outputs": [
    {
     "data": {
      "text/html": [
       "<div>\n",
       "<style scoped>\n",
       "    .dataframe tbody tr th:only-of-type {\n",
       "        vertical-align: middle;\n",
       "    }\n",
       "\n",
       "    .dataframe tbody tr th {\n",
       "        vertical-align: top;\n",
       "    }\n",
       "\n",
       "    .dataframe thead th {\n",
       "        text-align: right;\n",
       "    }\n",
       "</style>\n",
       "<table border=\"1\" class=\"dataframe\">\n",
       "  <thead>\n",
       "    <tr style=\"text-align: right;\">\n",
       "      <th></th>\n",
       "      <th>model</th>\n",
       "      <th>train_MAPE</th>\n",
       "      <th>test_MAPE</th>\n",
       "    </tr>\n",
       "  </thead>\n",
       "  <tbody>\n",
       "  </tbody>\n",
       "</table>\n",
       "</div>"
      ],
      "text/plain": [
       "Empty DataFrame\n",
       "Columns: [model, train_MAPE, test_MAPE]\n",
       "Index: []"
      ]
     },
     "execution_count": 103,
     "metadata": {},
     "output_type": "execute_result"
    }
   ],
   "source": [
    "#creating new dataframe to add mape of all algorithm together\n",
    "df_snapshot = pd.DataFrame(columns=['model','train_MAPE','test_MAPE'])\n",
    "df_snapshot"
   ]
  },
  {
   "cell_type": "code",
   "execution_count": 104,
   "id": "edcdcb6a",
   "metadata": {},
   "outputs": [],
   "source": [
    "#performance metric of linear regression\n",
    "model_lr_performance = {'model':\"model_lr\",'train_MAPE':train_MAPE_lr,'test_MAPE':test_MAPE_lr}"
   ]
  },
  {
   "cell_type": "code",
   "execution_count": 105,
   "id": "be444ebe",
   "metadata": {},
   "outputs": [],
   "source": [
    "#performance metric of knn\n",
    "model_knn_performance = {'model':\"model_knn\",'train_MAPE':mape_train_knn,'test_MAPE':mape_test_knn}"
   ]
  },
  {
   "cell_type": "code",
   "execution_count": 106,
   "id": "83f5c957",
   "metadata": {},
   "outputs": [],
   "source": [
    "#performance metric of DT\n",
    "model_DT_performance = {'model':\"model_DT\",'train_MAPE':train_mape,'test_MAPE':test_mape}"
   ]
  },
  {
   "cell_type": "code",
   "execution_count": 107,
   "id": "115dbf2a",
   "metadata": {},
   "outputs": [
    {
     "data": {
      "text/html": [
       "<div>\n",
       "<style scoped>\n",
       "    .dataframe tbody tr th:only-of-type {\n",
       "        vertical-align: middle;\n",
       "    }\n",
       "\n",
       "    .dataframe tbody tr th {\n",
       "        vertical-align: top;\n",
       "    }\n",
       "\n",
       "    .dataframe thead th {\n",
       "        text-align: right;\n",
       "    }\n",
       "</style>\n",
       "<table border=\"1\" class=\"dataframe\">\n",
       "  <thead>\n",
       "    <tr style=\"text-align: right;\">\n",
       "      <th></th>\n",
       "      <th>model</th>\n",
       "      <th>train_MAPE</th>\n",
       "      <th>test_MAPE</th>\n",
       "    </tr>\n",
       "  </thead>\n",
       "  <tbody>\n",
       "    <tr>\n",
       "      <th>0</th>\n",
       "      <td>model_lr</td>\n",
       "      <td>0.272946</td>\n",
       "      <td>0.281078</td>\n",
       "    </tr>\n",
       "  </tbody>\n",
       "</table>\n",
       "</div>"
      ],
      "text/plain": [
       "      model  train_MAPE  test_MAPE\n",
       "0  model_lr    0.272946   0.281078"
      ]
     },
     "execution_count": 107,
     "metadata": {},
     "output_type": "execute_result"
    }
   ],
   "source": [
    "#appending performance of lr to dataframe\n",
    "df_snapshot = df_snapshot.append(model_lr_performance, ignore_index=True)\n",
    "df_snapshot"
   ]
  },
  {
   "cell_type": "code",
   "execution_count": 108,
   "id": "555be816",
   "metadata": {},
   "outputs": [
    {
     "data": {
      "text/html": [
       "<div>\n",
       "<style scoped>\n",
       "    .dataframe tbody tr th:only-of-type {\n",
       "        vertical-align: middle;\n",
       "    }\n",
       "\n",
       "    .dataframe tbody tr th {\n",
       "        vertical-align: top;\n",
       "    }\n",
       "\n",
       "    .dataframe thead th {\n",
       "        text-align: right;\n",
       "    }\n",
       "</style>\n",
       "<table border=\"1\" class=\"dataframe\">\n",
       "  <thead>\n",
       "    <tr style=\"text-align: right;\">\n",
       "      <th></th>\n",
       "      <th>model</th>\n",
       "      <th>train_MAPE</th>\n",
       "      <th>test_MAPE</th>\n",
       "    </tr>\n",
       "  </thead>\n",
       "  <tbody>\n",
       "    <tr>\n",
       "      <th>0</th>\n",
       "      <td>model_lr</td>\n",
       "      <td>0.272946</td>\n",
       "      <td>0.281078</td>\n",
       "    </tr>\n",
       "    <tr>\n",
       "      <th>1</th>\n",
       "      <td>model_knn</td>\n",
       "      <td>0.396692</td>\n",
       "      <td>0.564986</td>\n",
       "    </tr>\n",
       "  </tbody>\n",
       "</table>\n",
       "</div>"
      ],
      "text/plain": [
       "       model  train_MAPE  test_MAPE\n",
       "0   model_lr    0.272946   0.281078\n",
       "1  model_knn    0.396692   0.564986"
      ]
     },
     "execution_count": 108,
     "metadata": {},
     "output_type": "execute_result"
    }
   ],
   "source": [
    "#appending performance of lasso to dataframe\n",
    "df_snapshot = df_snapshot.append(model_knn_performance, ignore_index=True)\n",
    "df_snapshot"
   ]
  },
  {
   "cell_type": "code",
   "execution_count": 109,
   "id": "323d51a7",
   "metadata": {},
   "outputs": [
    {
     "data": {
      "text/html": [
       "<div>\n",
       "<style scoped>\n",
       "    .dataframe tbody tr th:only-of-type {\n",
       "        vertical-align: middle;\n",
       "    }\n",
       "\n",
       "    .dataframe tbody tr th {\n",
       "        vertical-align: top;\n",
       "    }\n",
       "\n",
       "    .dataframe thead th {\n",
       "        text-align: right;\n",
       "    }\n",
       "</style>\n",
       "<table border=\"1\" class=\"dataframe\">\n",
       "  <thead>\n",
       "    <tr style=\"text-align: right;\">\n",
       "      <th></th>\n",
       "      <th>model</th>\n",
       "      <th>train_MAPE</th>\n",
       "      <th>test_MAPE</th>\n",
       "    </tr>\n",
       "  </thead>\n",
       "  <tbody>\n",
       "    <tr>\n",
       "      <th>0</th>\n",
       "      <td>model_lr</td>\n",
       "      <td>0.272946</td>\n",
       "      <td>0.281078</td>\n",
       "    </tr>\n",
       "    <tr>\n",
       "      <th>1</th>\n",
       "      <td>model_knn</td>\n",
       "      <td>0.396692</td>\n",
       "      <td>0.564986</td>\n",
       "    </tr>\n",
       "    <tr>\n",
       "      <th>2</th>\n",
       "      <td>model_DT</td>\n",
       "      <td>0.247760</td>\n",
       "      <td>0.267965</td>\n",
       "    </tr>\n",
       "  </tbody>\n",
       "</table>\n",
       "</div>"
      ],
      "text/plain": [
       "       model  train_MAPE  test_MAPE\n",
       "0   model_lr    0.272946   0.281078\n",
       "1  model_knn    0.396692   0.564986\n",
       "2   model_DT    0.247760   0.267965"
      ]
     },
     "execution_count": 109,
     "metadata": {},
     "output_type": "execute_result"
    }
   ],
   "source": [
    "#appending performance of ridge to dataframe\n",
    "df_snapshot = df_snapshot.append(model_DT_performance, ignore_index=True)\n",
    "df_snapshot"
   ]
  },
  {
   "cell_type": "markdown",
   "id": "574b92bb",
   "metadata": {},
   "source": [
    "With several characteristics, the suggested methodpredicts the property price in Bangalore. We experimented with different Machine Learning algorithmsto get the best model. When compared to all otheralgorithms, the Decision Tree Algorithm achieved the lowest loss and the greatest R-squared."
   ]
  }
 ],
 "metadata": {
  "kernelspec": {
   "display_name": "Python 3 (ipykernel)",
   "language": "python",
   "name": "python3"
  },
  "language_info": {
   "codemirror_mode": {
    "name": "ipython",
    "version": 3
   },
   "file_extension": ".py",
   "mimetype": "text/x-python",
   "name": "python",
   "nbconvert_exporter": "python",
   "pygments_lexer": "ipython3",
   "version": "3.9.7"
  }
 },
 "nbformat": 4,
 "nbformat_minor": 5
}
